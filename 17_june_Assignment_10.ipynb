{
 "cells": [
  {
   "cell_type": "markdown",
   "id": "4c033547",
   "metadata": {},
   "source": [
    "# 1.What is the role of try and exception block?"
   ]
  },
  {
   "cell_type": "markdown",
   "id": "f2d6a8ed",
   "metadata": {},
   "source": [
    "### Answer"
   ]
  },
  {
   "cell_type": "markdown",
   "id": "4d89260c",
   "metadata": {},
   "source": [
    "* In Python, the try and except blocks are used to handle and manage errors that may occur during the execution of a program.  \n",
    "\n",
    "* The try block **contains the code that may raise an exception** (i.e., an error) during its execution.   \n",
    "\n",
    "* If an exception occurs within the try block, the program execution is immediately transferred to the except block.   \n",
    "\n",
    "* The except block **contains the code that handles the exception** and allows the program to continue running instead of crashing.  "
   ]
  },
  {
   "cell_type": "code",
   "execution_count": null,
   "id": "6c8b7f77",
   "metadata": {},
   "outputs": [],
   "source": []
  },
  {
   "cell_type": "markdown",
   "id": "de928fe9",
   "metadata": {},
   "source": [
    "# 2.What is the syntax for a basic try-except block? "
   ]
  },
  {
   "cell_type": "markdown",
   "id": "07e40887",
   "metadata": {},
   "source": [
    "### Answer"
   ]
  },
  {
   "cell_type": "code",
   "execution_count": null,
   "id": "d5877f67",
   "metadata": {},
   "outputs": [],
   "source": [
    "The basic syntax for a try-except block in Python is as follows:"
   ]
  },
  {
   "cell_type": "code",
   "execution_count": null,
   "id": "2c63cdf4",
   "metadata": {},
   "outputs": [],
   "source": [
    "try:\n",
    "    # block of code to be monitored for errors\n",
    "\n",
    "except ExceptionType:\n",
    "  \n",
    "  # block of code to be executed if an exception of type ExceptionType occurs\n"
   ]
  },
  {
   "cell_type": "code",
   "execution_count": null,
   "id": "9a4ae041",
   "metadata": {},
   "outputs": [],
   "source": []
  },
  {
   "cell_type": "markdown",
   "id": "4c580694",
   "metadata": {},
   "source": [
    "# 3. What happens if an exception occurs inside a try block and there is no matching except block? "
   ]
  },
  {
   "cell_type": "markdown",
   "id": "5094cf90",
   "metadata": {},
   "source": [
    "### Answer"
   ]
  },
  {
   "cell_type": "markdown",
   "id": "72d16b30",
   "metadata": {},
   "source": [
    "* If an exception occurs inside a try block and there is no matching except block, then the exception will propagate up the call stack until a matching except block is found or the program terminates.\n",
    "\n",
    "\n",
    "* If no matching except block is found, then the **Python interpreter will print a traceback message and terminate the program.** \n",
    "\n",
    "\n",
    "\n",
    "* The traceback message shows the line number and file name where the exception occurred, as well as the call stack leading up to the exception.\n",
    "\n",
    "\n"
   ]
  },
  {
   "cell_type": "markdown",
   "id": "9e317cd4",
   "metadata": {},
   "source": [
    "### Example"
   ]
  },
  {
   "cell_type": "code",
   "execution_count": 5,
   "id": "bdece413",
   "metadata": {},
   "outputs": [
    {
     "ename": "ZeroDivisionError",
     "evalue": "division by zero",
     "output_type": "error",
     "traceback": [
      "\u001b[1;31m---------------------------------------------------------------------------\u001b[0m",
      "\u001b[1;31mZeroDivisionError\u001b[0m                         Traceback (most recent call last)",
      "Cell \u001b[1;32mIn [5], line 3\u001b[0m\n\u001b[0;32m      1\u001b[0m \u001b[38;5;28;01mtry\u001b[39;00m:\n\u001b[1;32m----> 3\u001b[0m     x \u001b[38;5;241m=\u001b[39m \u001b[38;5;241;43m1\u001b[39;49m\u001b[43m \u001b[49m\u001b[38;5;241;43m/\u001b[39;49m\u001b[43m \u001b[49m\u001b[38;5;241;43m0\u001b[39;49m  \u001b[38;5;66;03m# raises a ZeroDivisionError\u001b[39;00m\n\u001b[0;32m      4\u001b[0m \u001b[38;5;28;01mexcept\u001b[39;00m \u001b[38;5;167;01mValueError\u001b[39;00m:\n\u001b[0;32m      5\u001b[0m     \u001b[38;5;28mprint\u001b[39m(\u001b[38;5;124m\"\u001b[39m\u001b[38;5;124mOops! Invalid value.\u001b[39m\u001b[38;5;124m\"\u001b[39m)\n",
      "\u001b[1;31mZeroDivisionError\u001b[0m: division by zero"
     ]
    }
   ],
   "source": [
    "try:\n",
    "    \n",
    "    x = 1 / 0  # raises a ZeroDivisionError\n",
    "except ValueError:\n",
    "    print(\"Oops! Invalid value.\")"
   ]
  },
  {
   "cell_type": "code",
   "execution_count": null,
   "id": "196f28af",
   "metadata": {},
   "outputs": [],
   "source": []
  },
  {
   "cell_type": "markdown",
   "id": "2575a09b",
   "metadata": {},
   "source": [
    "In this example, the try block raises a ZeroDivisionError because we're trying to divide by zero.   \n",
    "However, the except block is looking for a ValueError, not a ZeroDivisionError.   \n",
    "Since there's no matching except block, the Python interpreter will print a traceback message and terminate the program.  \n",
    "\n",
    "Traceback (most recent call last):  \n",
    "  File \"<stdin>\", line 2, in <module>  \n",
    "ZeroDivisionError: division by zero  \n"
   ]
  },
  {
   "cell_type": "code",
   "execution_count": null,
   "id": "9bc50367",
   "metadata": {},
   "outputs": [],
   "source": []
  },
  {
   "cell_type": "markdown",
   "id": "751f1fe8",
   "metadata": {},
   "source": [
    "# 4. What is the difference between using a bare except block and specifying a specific exception type? "
   ]
  },
  {
   "cell_type": "markdown",
   "id": "fcfff409",
   "metadata": {},
   "source": [
    "### Answer"
   ]
  },
  {
   "cell_type": "markdown",
   "id": "9ab495b3",
   "metadata": {},
   "source": [
    "* In Python, it's generally better to specify a specific exception type rather than using a bare except block. \n",
    "\n",
    "Here's why:\n",
    "\n",
    "* When you use a bare except block, you're essentially saying \"I want to catch any and all exceptions that might occur, regardless of what they are.\" While this might seem convenient, it can actually be dangerous and lead to unexpected behavior in your program.  \n",
    "\n",
    "\n",
    "* For example, suppose you have a piece of code that might raise a TypeError, a ValueError, or a NameError. If you use a bare except block to catch any exceptions that might occur, you won't be able to tell which type of exception actually happened. This can make it difficult to debug your code and figure out what went wrong.  \n",
    "\n",
    "\n",
    "* On the other hand, if you specify a specific exception type, you're saying \"I only want to catch this particular type of exception.\" This allows you to handle that specific exception in a targeted way, while allowing other exceptions to propagate up the call stack and potentially be caught by other exception handlers.\n",
    "\n",
    "\n",
    "* For example, suppose you have a piece of code that might raise a ValueError when parsing user input. If you catch only ValueErrors, you can handle the error in a way that makes sense for that particular type of exception (e.g., by prompting the user to enter valid input). If you use a bare except block, you might accidentally catch other types of exceptions that you didn't intend to catch, leading to unexpected behavior in your program.  \n",
    "\n",
    "\n",
    "\n"
   ]
  },
  {
   "cell_type": "code",
   "execution_count": null,
   "id": "6c226718",
   "metadata": {},
   "outputs": [],
   "source": []
  },
  {
   "cell_type": "markdown",
   "id": "39aaa50c",
   "metadata": {},
   "source": [
    "# 5. Can you have nested try-except blocks in Python? If yes, then give an example. "
   ]
  },
  {
   "cell_type": "markdown",
   "id": "1f8bb5bd",
   "metadata": {},
   "source": [
    "### Answer"
   ]
  },
  {
   "cell_type": "code",
   "execution_count": null,
   "id": "ed1401ca",
   "metadata": {},
   "outputs": [],
   "source": [
    "Yes, you can have nested try-except blocks in Python. Here's an example:"
   ]
  },
  {
   "cell_type": "code",
   "execution_count": 7,
   "id": "9c37c374",
   "metadata": {},
   "outputs": [
    {
     "name": "stdout",
     "output_type": "stream",
     "text": [
      "Enter a number: 12\n",
      "Enter another number: 0\n",
      "Error: division by zero\n"
     ]
    }
   ],
   "source": [
    "try:\n",
    "    # Outer try block\n",
    "    x = int(input(\"Enter a number: \"))\n",
    "    y = int(input(\"Enter another number: \"))\n",
    "    \n",
    "    try:\n",
    "        # Inner try block\n",
    "        result = x / y\n",
    "        print(\"Result:\", result)\n",
    "        \n",
    "    except ZeroDivisionError:\n",
    "        print(\"Error: division by zero\")\n",
    "        \n",
    "except ValueError:\n",
    "    print(\"Error: invalid input\")\n"
   ]
  },
  {
   "cell_type": "code",
   "execution_count": null,
   "id": "234758f1",
   "metadata": {},
   "outputs": [],
   "source": []
  },
  {
   "cell_type": "markdown",
   "id": "b724c5e0",
   "metadata": {},
   "source": [
    "# 6. Can we use multiple exception blocks, if yes then give an example. "
   ]
  },
  {
   "cell_type": "code",
   "execution_count": 8,
   "id": "33d9cdba",
   "metadata": {},
   "outputs": [],
   "source": [
    "### Answer"
   ]
  },
  {
   "cell_type": "markdown",
   "id": "a0475526",
   "metadata": {},
   "source": [
    "Yes, we can use multiple except blocks in Python to catch different types of exceptions. Here's an example:"
   ]
  },
  {
   "cell_type": "code",
   "execution_count": 9,
   "id": "bbbab077",
   "metadata": {},
   "outputs": [
    {
     "name": "stdout",
     "output_type": "stream",
     "text": [
      "Enter a number: 5\n",
      "Enter another number: a\n",
      "Error: invalid input\n"
     ]
    }
   ],
   "source": [
    "try:\n",
    "    x = int(input(\"Enter a number: \"))\n",
    "    y = int(input(\"Enter another number: \"))\n",
    "    result = x / y\n",
    "    \n",
    "except ValueError:\n",
    "    print(\"Error: invalid input\")\n",
    "    \n",
    "except ZeroDivisionError:\n",
    "    print(\"Error: division by zero\")\n",
    "    \n",
    "except Exception as e:\n",
    "    print(\"Error:\", e)\n"
   ]
  },
  {
   "cell_type": "code",
   "execution_count": null,
   "id": "9992a424",
   "metadata": {},
   "outputs": [],
   "source": []
  },
  {
   "cell_type": "markdown",
   "id": "d9677cf4",
   "metadata": {},
   "source": [
    "# 7. Write the reason due to which following errors are raised: "
   ]
  },
  {
   "cell_type": "markdown",
   "id": "ac8dcdda",
   "metadata": {},
   "source": [
    "### Answer"
   ]
  },
  {
   "cell_type": "markdown",
   "id": "71a882d2",
   "metadata": {},
   "source": [
    "**a. EOFError** \n",
    "\n",
    "•\tIn Python, an EOFError (End of File Error) is raised when the input() function hits the end-of-file (EOF) condition without reading any data.  \n",
    "\n",
    "\n",
    "•\tThis can happen when the input() function is used to receive user input from the console, and the user signals the end of input by pressing Ctrl-D (on Unix-based systems) or Ctrl-Z (on Windows).\n",
    "\n"
   ]
  },
  {
   "cell_type": "code",
   "execution_count": null,
   "id": "f71e6756",
   "metadata": {},
   "outputs": [],
   "source": []
  },
  {
   "cell_type": "markdown",
   "id": "00dba235",
   "metadata": {},
   "source": [
    "**b. FloatingPointError** \n",
    "\n",
    "* This error is raised when a floating-point operation fails to produce a valid result, such as when dividing by zero or taking the square root of a negative number.\n"
   ]
  },
  {
   "cell_type": "code",
   "execution_count": null,
   "id": "7d2771cd",
   "metadata": {},
   "outputs": [],
   "source": []
  },
  {
   "cell_type": "markdown",
   "id": "584fa39e",
   "metadata": {},
   "source": [
    "**c. IndexError**  \n",
    "\n",
    "The IndexError is a built-in exception in Python that is raised when you try to access an index of a sequence that is out of range. This can happen for a variety of reasons, including:\n",
    "\n",
    "\n",
    "* Trying to access an index that is greater than or equal to the length of the sequence: For example, if you have a list with 5 elements and you try to access the element at index 5, which doesn't exist, Python raises an IndexError.\n",
    "\n",
    "\n",
    "* Trying to access a negative index that is too far from the end of the sequence: For example, if you have a list with 5 elements and you try to access the element at index -6, which is too far from the end of the list, Python raises an IndexError.\n"
   ]
  },
  {
   "cell_type": "code",
   "execution_count": null,
   "id": "3e109c63",
   "metadata": {},
   "outputs": [],
   "source": []
  },
  {
   "cell_type": "markdown",
   "id": "78e2a464",
   "metadata": {},
   "source": [
    "**d. MemoryError**\n",
    "\n",
    " The MemoryError is a built-in exception in Python that is raised when the interpreter runs out of memory while trying to allocate an object. This can happen for a variety of reasons, including:\n",
    "\n",
    "**Trying to create a large data structure:**\n",
    "\n",
    "   If you try to create a data structure that is too large to fit into memory, such as a list with millions of elements or a large numpy array, Python may raise a MemoryError.\n",
    "   \n",
    "**1.Trying to read or write a large file:** \n",
    "\n",
    "  If you try to read or write a file that is too large to fit into memory, Python may raise a MemoryError.\n",
    "  \n",
    "**2.Running out of memory during a computation:**\n",
    "\n",
    "  If your code performs a computation that requires a lot of memory, such as large matrix operations or recursive functions, Python may run out of memory and raise a MemoryError.\n"
   ]
  },
  {
   "cell_type": "code",
   "execution_count": null,
   "id": "391eddeb",
   "metadata": {},
   "outputs": [],
   "source": []
  },
  {
   "cell_type": "markdown",
   "id": "6e057831",
   "metadata": {},
   "source": [
    "**e. OverflowError** \n",
    "\n",
    "In Python, the OverflowError is raised when a calculation produces a number that is too large to be represented as a standard floating-point value. This can happen for a variety of reasons, including:\n",
    "\n",
    "**1.\tLarge numbers:** If you perform a calculation that produces a very large number, such as raising a large number to a high power or multiplying very large numbers together, the result may be too large to be represented as a floating-point value, and Python may raise an OverflowError.\n",
    "\n",
    "**2.\tVery small numbers:** If you perform a calculation that produces a very small number, such as dividing a small number by a very large number, the result may be too close to zero to be represented as a floating-point value, and Python may raise an OverflowError.\n",
    "\n",
    "**3.\tHigh precision calculations:** If you perform a calculation that requires high precision, such as calculating the value of pi to a large number of digits, the intermediate results may be too large to be represented as floating-point values, and Python may raise an OverflowError.\n",
    "\n",
    "**4.\tLarge arrays or matrices:** If you perform a calculation that involves very large arrays or matrices, which require a large amount of memory to store, the calculation may exceed the available memory and cause Python to raise an OverflowError.\n"
   ]
  },
  {
   "cell_type": "code",
   "execution_count": null,
   "id": "7abe5d49",
   "metadata": {},
   "outputs": [],
   "source": []
  },
  {
   "cell_type": "markdown",
   "id": "fdbed1eb",
   "metadata": {},
   "source": [
    "**f.TabError** \n",
    "\n",
    "This error is raised when inconsistent use of tabs and spaces is detected in the indentation of a block of code.\n"
   ]
  },
  {
   "cell_type": "markdown",
   "id": "d6383d0b",
   "metadata": {},
   "source": [
    "**g. ValueError**\n",
    "\n",
    "In Python, the ValueError is a built-in exception that is raised when a function or operation receives an argument that has the right type, but an invalid value. This means that the data type of the argument is correct, but it doesn't make sense in the context of the operation being performed.\n",
    "The ValueError can be caused by a variety of factors, including:\n",
    "1.\t**Invalid input data:** If you pass invalid input data to a function or operation, such as a string when a number is expected, Python may raise a ValueError.\n",
    "2.\t**Out-of-range values:** If you provide a value that is outside the allowed range, such as a negative number when a positive number is expected, Python may raise a ValueError.\n",
    "3.\t**Incorrect format:** If you provide a value with an incorrect format, such as a string with extra characters, Python may raise a ValueError.\n",
    "4.\t**Missing or extra arguments:** If you provide too few or too many arguments to a function, Python may raise a ValueError.\n",
    "5.\t**Inconsistent data types:** If you provide inconsistent data types, such as a list and a string, Python may raise a ValueError.\n",
    "\n",
    " 8. Write code for the following given "
   ]
  },
  {
   "cell_type": "code",
   "execution_count": null,
   "id": "40459ef6",
   "metadata": {},
   "outputs": [],
   "source": []
  },
  {
   "cell_type": "markdown",
   "id": "29547ec3",
   "metadata": {},
   "source": [
    "# 8. Write code for the following given scenario and add try-exception block to it. "
   ]
  },
  {
   "cell_type": "code",
   "execution_count": null,
   "id": "7ffd7ef0",
   "metadata": {},
   "outputs": [],
   "source": []
  },
  {
   "cell_type": "markdown",
   "id": "f34f073d",
   "metadata": {},
   "source": [
    "### a.\tProgram to divide two numbers "
   ]
  },
  {
   "cell_type": "code",
   "execution_count": 1,
   "id": "ecda6170",
   "metadata": {},
   "outputs": [
    {
     "name": "stdout",
     "output_type": "stream",
     "text": [
      "Enter the first number: 12\n",
      "Enter the second number: a\n",
      "Invalid input. Please enter a valid number.\n",
      "Enter the first number: 12\n",
      "Enter the second number: 0\n",
      "Division by zero is not allowed. Please enter a non-zero value for the second number.\n",
      "Enter the first number: 12\n",
      "Enter the second number: 2\n",
      "12.0 / 2.0 = 6.0\n"
     ]
    }
   ],
   "source": [
    "while True:\n",
    "    try:\n",
    "        num1 = float(input(\"Enter the first number: \"))\n",
    "        num2 = float(input(\"Enter the second number: \"))\n",
    "        result = num1 / num2\n",
    "        print(f\"{num1} / {num2} = {result}\")\n",
    "        break\n",
    "    except ValueError:\n",
    "        print(\"Invalid input. Please enter a valid number.\")\n",
    "    except ZeroDivisionError:\n",
    "        print(\"Division by zero is not allowed. Please enter a non-zero value for the second number.\")\n"
   ]
  },
  {
   "cell_type": "code",
   "execution_count": null,
   "id": "f7cfee73",
   "metadata": {},
   "outputs": [],
   "source": []
  },
  {
   "cell_type": "markdown",
   "id": "485fba22",
   "metadata": {},
   "source": [
    "### b.Program to convert a string to an integer"
   ]
  },
  {
   "cell_type": "code",
   "execution_count": 2,
   "id": "97985ce2",
   "metadata": {},
   "outputs": [
    {
     "name": "stdout",
     "output_type": "stream",
     "text": [
      "Enter a number: a\n",
      "Invalid input. Please enter a valid integer.\n",
      "Enter a number: 12\n",
      "The integer value of 12 is 12\n"
     ]
    }
   ],
   "source": [
    "while True:\n",
    "    try:\n",
    "        num_str = input(\"Enter a number: \")\n",
    "        num = int(num_str)\n",
    "        print(f\"The integer value of {num_str} is {num}\")\n",
    "        break\n",
    "    except ValueError:\n",
    "        print(\"Invalid input. Please enter a valid integer.\")"
   ]
  },
  {
   "cell_type": "code",
   "execution_count": null,
   "id": "06e71b86",
   "metadata": {},
   "outputs": [],
   "source": []
  },
  {
   "cell_type": "markdown",
   "id": "efa78fd4",
   "metadata": {},
   "source": [
    "### c. Program to access an element in a list"
   ]
  },
  {
   "cell_type": "code",
   "execution_count": 3,
   "id": "80c2b1b3",
   "metadata": {},
   "outputs": [
    {
     "name": "stdout",
     "output_type": "stream",
     "text": [
      "Enter an index: a\n",
      "Invalid input. Please enter a valid integer.\n",
      "Enter an index: 7\n",
      "Invalid index. Please enter an index within the range of the list.\n",
      "Enter an index: 2\n",
      "The value at index 2 is 3\n"
     ]
    }
   ],
   "source": [
    "my_list = [1, 2, 3, 4, 5]\n",
    "while True:\n",
    "    try:\n",
    "        index = int(input(\"Enter an index: \"))\n",
    "        value = my_list[index]\n",
    "        print(f\"The value at index {index} is {value}\")\n",
    "        break\n",
    "    except IndexError:\n",
    "        print(\"Invalid index. Please enter an index within the range of the list.\")\n",
    "    except ValueError:\n",
    "        print(\"Invalid input. Please enter a valid integer.\")"
   ]
  },
  {
   "cell_type": "code",
   "execution_count": null,
   "id": "a17d9675",
   "metadata": {},
   "outputs": [],
   "source": []
  },
  {
   "cell_type": "markdown",
   "id": "74e402b3",
   "metadata": {},
   "source": [
    "### d.Program to handle a specific exception "
   ]
  },
  {
   "cell_type": "code",
   "execution_count": 4,
   "id": "f9d2cab3",
   "metadata": {},
   "outputs": [
    {
     "name": "stdout",
     "output_type": "stream",
     "text": [
      "Enter a number: 12\n",
      "Enter another number: 0\n",
      "Division by zero is not allowed. Please enter a non-zero value for the second number.\n"
     ]
    }
   ],
   "source": [
    "try:\n",
    "    num1 = int(input(\"Enter a number: \"))\n",
    "    num2 = int(input(\"Enter another number: \"))\n",
    "    result = num1 / num2\n",
    "    print(f\"{num1} / {num2} = {result}\")\n",
    "except ZeroDivisionError:\n",
    "    print(\"Division by zero is not allowed. Please enter a non-zero value for the second number.\")"
   ]
  },
  {
   "cell_type": "markdown",
   "id": "31e59122",
   "metadata": {},
   "source": [
    "### e.Program to handle any exception"
   ]
  },
  {
   "cell_type": "code",
   "execution_count": 6,
   "id": "698570a1",
   "metadata": {},
   "outputs": [
    {
     "name": "stdout",
     "output_type": "stream",
     "text": [
      "Enter a number: 12\n",
      "Enter another number: e\n",
      "An error occurred: invalid literal for int() with base 10: 'e'\n"
     ]
    }
   ],
   "source": [
    "try:\n",
    "    num1 = int(input(\"Enter a number: \"))\n",
    "    num2 = int(input(\"Enter another number: \"))\n",
    "    result = num1 / num2\n",
    "    print(f\"{num1} / {num2} = {result}\")\n",
    "\n",
    "except Exception as e:\n",
    "    print(f\"An error occurred: {e}\")\n"
   ]
  }
 ],
 "metadata": {
  "kernelspec": {
   "display_name": "Python 3 (ipykernel)",
   "language": "python",
   "name": "python3"
  },
  "language_info": {
   "codemirror_mode": {
    "name": "ipython",
    "version": 3
   },
   "file_extension": ".py",
   "mimetype": "text/x-python",
   "name": "python",
   "nbconvert_exporter": "python",
   "pygments_lexer": "ipython3",
   "version": "3.10.9"
  }
 },
 "nbformat": 4,
 "nbformat_minor": 5
}

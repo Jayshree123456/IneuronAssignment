{
 "cells": [
  {
   "cell_type": "markdown",
   "id": "68dd69fa",
   "metadata": {},
   "source": [
    "# 1.What is the primary goal of Object-Oriented Programming (OOP)? "
   ]
  },
  {
   "cell_type": "markdown",
   "id": "aadc38e2",
   "metadata": {},
   "source": [
    "The primary goal of Object-Oriented Programming (OOP) is to model real-world entities or concepts in a software system using\n",
    "objects. \n",
    "\n",
    "OOP is a programming paradigm that organizes data and behavior into objects, which are instances of classes. \n",
    "\n",
    "Each class defines a blueprint for creating objects, specifying their attributes (data) and methods (functions or procedures).\n",
    "\n",
    "The main objectives of OOP are:\n",
    "\n",
    "\n"
   ]
  },
  {
   "cell_type": "markdown",
   "id": "f3d9583d",
   "metadata": {},
   "source": [
    "**Modularity:** \n",
    "    \n",
    "OOP promotes modularity by encapsulating data and methods within objects. \n",
    "\n",
    "This makes it easier to manage, understand, and maintain complex systems as they can be broken down into smaller, self-contained units."
   ]
  },
  {
   "cell_type": "markdown",
   "id": "3cf598a0",
   "metadata": {},
   "source": [
    "**Abstraction:** \n",
    "\n",
    "Abstraction allows developers to represent complex real-world entities by defining their essential characteristics and ignoring the irrelevant details. \n",
    "\n",
    "It focuses on what an object does rather than how it does it, allowing for higher-level design and easier problem-solving."
   ]
  },
  {
   "cell_type": "markdown",
   "id": "9c3d0d92",
   "metadata": {},
   "source": [
    "**Inheritance:** \n",
    "\n",
    "Inheritance enables the creation of a new class (subclass) based on an existing class (superclass), inheriting its attributes and methods. \n",
    "\n",
    "This facilitates code reuse and promotes the \"is-a\" relationship between classes, allowing for more efficient and organized code."
   ]
  },
  {
   "cell_type": "markdown",
   "id": "06e75edf",
   "metadata": {},
   "source": [
    "**Polymorphism:** \n",
    "\n",
    "Polymorphism allows objects of different classes to be treated as objects of a common superclass. \n",
    "\n",
    "This concept enables flexibility and extensibility in the code by allowing multiple implementations of methods that can be invoked dynamically based on the specific object's type."
   ]
  },
  {
   "cell_type": "code",
   "execution_count": null,
   "id": "eaa8e4de",
   "metadata": {},
   "outputs": [],
   "source": []
  },
  {
   "cell_type": "markdown",
   "id": "c145dd3b",
   "metadata": {},
   "source": [
    "# 2. What is an object in Python? "
   ]
  },
  {
   "cell_type": "markdown",
   "id": "bd29363f",
   "metadata": {},
   "source": [
    "### Answer"
   ]
  },
  {
   "cell_type": "markdown",
   "id": "a9d783a6",
   "metadata": {},
   "source": [
    "In Python, an object is a fundamental concept representing a data structure that encapsulates data (attributes) \n",
    "and the functions (methods) that operate on that data. \n",
    "\n",
    "Almost everything in Python is an object, including numbers, strings, lists, dictionaries, functions, classes,\n",
    "and user-defined types."
   ]
  },
  {
   "cell_type": "code",
   "execution_count": null,
   "id": "657cdde3",
   "metadata": {},
   "outputs": [],
   "source": [
    "Each object in Python has three main characteristics:"
   ]
  },
  {
   "cell_type": "markdown",
   "id": "be0d5435",
   "metadata": {},
   "source": [
    "**Identity:**\n",
    "\n",
    "This is a unique identifier for the object and is guaranteed to be unique during the object's lifetime. The identity of an object can be obtained using the built-in id() function."
   ]
  },
  {
   "cell_type": "markdown",
   "id": "12b532c9",
   "metadata": {},
   "source": [
    "**Attributes:**\n",
    "\n",
    "These are the data associated with the object, which can be accessed and modified using dot notation. Attributes can be variables that hold data or other objects."
   ]
  },
  {
   "cell_type": "markdown",
   "id": "6bc8ea1c",
   "metadata": {},
   "source": [
    "**Methods:** These are functions that are associated with the object and can perform actions or operations on the object's data. Methods are called using dot notation as well."
   ]
  },
  {
   "cell_type": "markdown",
   "id": "d66e0d63",
   "metadata": {},
   "source": [
    "For example, let's consider a simple class representing a car:"
   ]
  },
  {
   "cell_type": "code",
   "execution_count": 1,
   "id": "a1c457a3",
   "metadata": {},
   "outputs": [
    {
     "name": "stdout",
     "output_type": "stream",
     "text": [
      "Toyota\n",
      "The Toyota Corolla's engine is now running.\n"
     ]
    }
   ],
   "source": [
    "class Car:\n",
    "    def __init__(self, make, model, year):\n",
    "        self.make = make\n",
    "        self.model = model\n",
    "        self.year = year\n",
    "\n",
    "    def start_engine(self):\n",
    "        print(f\"The {self.make} {self.model}'s engine is now running.\")\n",
    "\n",
    "# Creating an object of the Car class\n",
    "my_car = Car(\"Toyota\", \"Corolla\", 2022)\n",
    "\n",
    "# Accessing attributes and calling a method\n",
    "print(my_car.make)  # Output: \"Toyota\"\n",
    "my_car.start_engine()  # Output: \"The Toyota Corolla's engine is now running.\"\n"
   ]
  },
  {
   "cell_type": "markdown",
   "id": "c3fbb34d",
   "metadata": {},
   "source": [
    "In this example, my_car is an object of the Car class. \n",
    "\n",
    "It has three attributes (make, model, and year) and one method (start_engine). \n",
    "\n",
    "The object stores data about a specific car and can execute actions like starting the engine through its method."
   ]
  },
  {
   "cell_type": "code",
   "execution_count": null,
   "id": "10c63c61",
   "metadata": {},
   "outputs": [],
   "source": []
  },
  {
   "cell_type": "markdown",
   "id": "91e356bb",
   "metadata": {},
   "source": [
    "# 3. What is a class in Python? "
   ]
  },
  {
   "cell_type": "markdown",
   "id": "3856538c",
   "metadata": {},
   "source": [
    "### Answer"
   ]
  },
  {
   "cell_type": "markdown",
   "id": "bbd323ff",
   "metadata": {},
   "source": [
    "In Python, a class is a blueprint for creating objects. \n",
    "\n",
    "It serves as a template that defines the structure and behavior of objects of that class. \n",
    "\n",
    "Objects are instances of a class, and they represent real-world entities or data structures within the program.\n",
    "\n",
    "A class consists of attributes (data members) and methods (functions) that define the characteristics and actions \n",
    "associated with the objects it creates. \n",
    "\n",
    "Attributes are variables that store data, and methods are functions that perform operations on the data.\n"
   ]
  },
  {
   "cell_type": "code",
   "execution_count": null,
   "id": "79cecb6f",
   "metadata": {},
   "outputs": [],
   "source": []
  },
  {
   "cell_type": "markdown",
   "id": "01a34fde",
   "metadata": {},
   "source": [
    "# 4. What are attributes and methods in a class? "
   ]
  },
  {
   "cell_type": "markdown",
   "id": "564fa35d",
   "metadata": {},
   "source": [
    "### Answer"
   ]
  },
  {
   "cell_type": "markdown",
   "id": "5f319463",
   "metadata": {},
   "source": [
    "In Python, attributes and methods are two essential components of a class:"
   ]
  },
  {
   "cell_type": "markdown",
   "id": "300cf5f6",
   "metadata": {},
   "source": [
    "**Attributes:**\n",
    "\n",
    "Attributes are variables that hold data and represent the characteristics or properties of an object created from the class. \n",
    "\n",
    "These attributes define the state of the object. \n",
    "\n",
    "They can be either instance attributes or class attributes."
   ]
  },
  {
   "cell_type": "markdown",
   "id": "62c507fb",
   "metadata": {},
   "source": [
    "**Methods:** \n",
    "\n",
    "Methods are functions defined inside a class, and they represent the behavior or actions that objects of the class can perform. \n",
    "\n",
    "Like attributes, methods can also be either instance methods or class methods."
   ]
  },
  {
   "cell_type": "code",
   "execution_count": null,
   "id": "edb1b6ac",
   "metadata": {},
   "outputs": [],
   "source": [
    "\n"
   ]
  },
  {
   "cell_type": "markdown",
   "id": "bde78ff4",
   "metadata": {},
   "source": [
    "# 5. What is the difference between class variables and instance variables in Python? "
   ]
  },
  {
   "cell_type": "markdown",
   "id": "905b5c64",
   "metadata": {},
   "source": [
    "### Answer"
   ]
  },
  {
   "cell_type": "markdown",
   "id": "720bdcbd",
   "metadata": {},
   "source": [
    "In Python, both class variables and instance variables are used to store data within classes, but they have different scopes\n",
    "and purposes."
   ]
  },
  {
   "cell_type": "markdown",
   "id": "aee9464c",
   "metadata": {},
   "source": [
    "**Class Variables:**\n",
    "\n",
    "•\tClass variables are shared among all instances of a class. They are defined within the class but outside of any instance methods.\n",
    "\n",
    "•\tThey are typically used to store data that is common to all instances of the class.\n",
    "\n",
    "•\tClass variables are created when the class is defined and persist throughout the lifetime of the class.\n",
    "\n",
    "•\tChanges made to a class variable will be reflected in all instances of the class."
   ]
  },
  {
   "cell_type": "markdown",
   "id": "f742b305",
   "metadata": {},
   "source": [
    "Example"
   ]
  },
  {
   "cell_type": "code",
   "execution_count": 1,
   "id": "7092991b",
   "metadata": {},
   "outputs": [],
   "source": [
    "class MyClass:\n",
    "    class_variable = 0  # This is a class variable\n",
    "    def __init__(self, instance_var):\n",
    "        self.instance_var = instance_var  # This is an instance variable"
   ]
  },
  {
   "cell_type": "markdown",
   "id": "de0f698d",
   "metadata": {},
   "source": [
    "**Instance Variables:**\n",
    "\n",
    "•\tInstance variables are specific to each instance (object) of a class.\n",
    "\n",
    "•\tThey are defined within the instance methods, typically within the __init__ method.\n",
    "\n",
    "•\tThey store data that is unique to each instance.Instance variables are created when an instance of the class is created and are associated with that instance.Changes made to an instance variable affect only that specific instance.\n"
   ]
  },
  {
   "cell_type": "markdown",
   "id": "306ec461",
   "metadata": {},
   "source": [
    "Example"
   ]
  },
  {
   "cell_type": "code",
   "execution_count": 2,
   "id": "61d6fe14",
   "metadata": {},
   "outputs": [],
   "source": [
    "class MyClass:\n",
    "    def __init__(self, instance_var):\n",
    "        self.instance_var = instance_var  # This is an instance variable\n"
   ]
  },
  {
   "cell_type": "code",
   "execution_count": null,
   "id": "0a4b604b",
   "metadata": {},
   "outputs": [],
   "source": []
  },
  {
   "cell_type": "markdown",
   "id": "2bc32948",
   "metadata": {},
   "source": [
    "# 6. What is the purpose of the self parameter in Python class methods? "
   ]
  },
  {
   "cell_type": "markdown",
   "id": "254f7ee0",
   "metadata": {},
   "source": [
    "### Answer"
   ]
  },
  {
   "cell_type": "markdown",
   "id": "b327fee1",
   "metadata": {},
   "source": [
    "The self parameter in Python class methods serves as a reference to the instance of the class itself. \n",
    "\n",
    "It allows methods to interact with the attributes and methods of that specific instance. \n",
    "\n",
    "In other words, it helps methods understand which object they are working on and provides access to that object's \n",
    "data and behavior."
   ]
  },
  {
   "cell_type": "markdown",
   "id": "484b0ea6",
   "metadata": {},
   "source": [
    "Here's why the self parameter is important in class methods:"
   ]
  },
  {
   "cell_type": "markdown",
   "id": "aa2d1d85",
   "metadata": {},
   "source": [
    "**1.Access Instance Attributes:** \n",
    "\n",
    "    When you create an object from a class, it often has specific data associated with it. \n",
    "    \n",
    "    The self parameter allows methods to access and modify these instance-specific attributes."
   ]
  },
  {
   "cell_type": "markdown",
   "id": "7c0c17cf",
   "metadata": {},
   "source": [
    "**2.Call Other Instance Methods:**\n",
    "    \n",
    "    Within a class, you might have several methods that work together. \n",
    "    \n",
    "    The self parameter lets you call other methods on the same instance, enabling complex operations to be built\n",
    "    step by step"
   ]
  },
  {
   "cell_type": "markdown",
   "id": "83c11fd7",
   "metadata": {},
   "source": [
    "**3.Maintain Instance State:** \n",
    "    \n",
    "    Each object has its own unique state.\n",
    "    \n",
    "    By using self, methods can maintain and update the state of the specific instance they belong to, without affecting other instances of the same class."
   ]
  },
  {
   "cell_type": "markdown",
   "id": "89dda09a",
   "metadata": {},
   "source": [
    "**4.Encapsulation:** \n",
    "\n",
    "The self parameter helps encapsulate an object's behavior and data, making it easier to organize and manage code within a class."
   ]
  },
  {
   "cell_type": "markdown",
   "id": "0afc4916",
   "metadata": {},
   "source": [
    "**Here's a simple analogy:** \n",
    "\n",
    "Think of a class as a blueprint for building houses, and objects as the actual houses built from that blueprint. \n",
    "\n",
    "The self parameter is like the address of the house, allowing workers (methods) to make changes and perform tasks specifically on that house without confusing it with other houses."
   ]
  },
  {
   "cell_type": "code",
   "execution_count": null,
   "id": "3b7f7540",
   "metadata": {},
   "outputs": [],
   "source": []
  },
  {
   "cell_type": "markdown",
   "id": "e7153376",
   "metadata": {},
   "source": [
    "# 7. For a library management system, you have to design the \"Book\" class with OOP\n",
    "\n",
    "**principles in mind. The “Book” class will have following attributes:**\n",
    "\n",
    "a. title: Represents the title of the book.\n",
    "\n",
    "b. author: Represents the author(s) of the book.\n",
    "\n",
    "c. isbn: Represents the ISBN (International Standard Book Number) of the book.\n",
    "\n",
    "d. publication_year: Represents the year of publication of the book.\n",
    "\n",
    "e. available_copies: Represents the number of copies available for checkout.\n",
    "\n",
    "**The class will also include the following methods:**\n",
    "\n",
    "a. check_out(self): Decrements the available copies by one if there are copies\n",
    "available for checkout.\n",
    "\n",
    "b. return_book(self): Increments the available copies by one when a book is\n",
    "returned.\n",
    "\n",
    "c. display_book_info(self): Displays the information about the book, including its\n",
    "attributes and the number of available copies."
   ]
  },
  {
   "cell_type": "markdown",
   "id": "8aa7177a",
   "metadata": {},
   "source": [
    "### Answer"
   ]
  },
  {
   "cell_type": "code",
   "execution_count": 8,
   "id": "89c423df",
   "metadata": {},
   "outputs": [],
   "source": [
    "class Book:\n",
    "    def __init__(self, title, author, isbn, publication_year, available_copies):\n",
    "        self.title = title\n",
    "        self.author = author\n",
    "        self.isbn = isbn\n",
    "        self.publication_year = publication_year\n",
    "        self.available_copies = available_copies\n",
    "\n",
    "    def check_out(self):\n",
    "        if self.available_copies > 0:\n",
    "            self.available_copies -= 1\n",
    "            print(f\"Checked out '{self.title}' by {self.author}\")\n",
    "        else:\n",
    "            print(f\"'{self.title}' is currently not available for checkout.\")\n",
    "\n",
    "    def return_book(self):\n",
    "        self.available_copies += 1\n",
    "        print(f\"Returned '{self.title}' by {self.author}\")\n",
    "\n",
    "    def display_book_info(self):\n",
    "        print(f\"Title: {self.title}\")\n",
    "        print(f\"Author(s): {self.author}\")\n",
    "        print(f\"ISBN: {self.isbn}\")\n",
    "        print(f\"Publication Year: {self.publication_year}\")\n",
    "        print(f\"Available Copies: {self.available_copies}\")\n",
    "\n"
   ]
  },
  {
   "cell_type": "code",
   "execution_count": 9,
   "id": "d68b62c8",
   "metadata": {},
   "outputs": [],
   "source": [
    "# Example usage:\n",
    "book1 = Book(\"The Catcher in the Rye\", \"J.D. Salinger\", \"978-0-316-76948-0\", 1951, 5)\n",
    "book2 = Book(\"To Kill a Mockingbird\", \"Harper Lee\", \"978-0-06-112008-4\", 1960, 3)"
   ]
  },
  {
   "cell_type": "code",
   "execution_count": 10,
   "id": "2b9ed6a0",
   "metadata": {},
   "outputs": [
    {
     "name": "stdout",
     "output_type": "stream",
     "text": [
      "Title: The Catcher in the Rye\n",
      "Author(s): J.D. Salinger\n",
      "ISBN: 978-0-316-76948-0\n",
      "Publication Year: 1951\n",
      "Available Copies: 5\n"
     ]
    }
   ],
   "source": [
    "book1.display_book_info()\n"
   ]
  },
  {
   "cell_type": "code",
   "execution_count": 11,
   "id": "f710e7dd",
   "metadata": {},
   "outputs": [
    {
     "name": "stdout",
     "output_type": "stream",
     "text": [
      "Checked out 'The Catcher in the Rye' by J.D. Salinger\n"
     ]
    }
   ],
   "source": [
    "book1.check_out()\n"
   ]
  },
  {
   "cell_type": "code",
   "execution_count": 12,
   "id": "9f3fc163",
   "metadata": {},
   "outputs": [
    {
     "name": "stdout",
     "output_type": "stream",
     "text": [
      "Title: The Catcher in the Rye\n",
      "Author(s): J.D. Salinger\n",
      "ISBN: 978-0-316-76948-0\n",
      "Publication Year: 1951\n",
      "Available Copies: 4\n"
     ]
    }
   ],
   "source": [
    "book1.display_book_info()\n"
   ]
  },
  {
   "cell_type": "code",
   "execution_count": 13,
   "id": "99198902",
   "metadata": {},
   "outputs": [
    {
     "name": "stdout",
     "output_type": "stream",
     "text": [
      "Returned 'The Catcher in the Rye' by J.D. Salinger\n"
     ]
    }
   ],
   "source": [
    "book1.return_book()\n"
   ]
  },
  {
   "cell_type": "code",
   "execution_count": 14,
   "id": "b9831fa6",
   "metadata": {},
   "outputs": [
    {
     "name": "stdout",
     "output_type": "stream",
     "text": [
      "Title: The Catcher in the Rye\n",
      "Author(s): J.D. Salinger\n",
      "ISBN: 978-0-316-76948-0\n",
      "Publication Year: 1951\n",
      "Available Copies: 5\n"
     ]
    }
   ],
   "source": [
    "book1.display_book_info()"
   ]
  },
  {
   "cell_type": "code",
   "execution_count": null,
   "id": "dd24fde0",
   "metadata": {},
   "outputs": [],
   "source": []
  },
  {
   "cell_type": "markdown",
   "id": "bd19502e",
   "metadata": {},
   "source": [
    "# 8. For a ticket booking system, you have to design the \"Ticket\" class with OOP\n",
    "**principles in mind. The “Ticket” class should have the following attributes:**\n",
    "\n",
    "a. ticket_id: Represents the unique identifier for the ticket.\n",
    "\n",
    "b. event_name: Represents the name of the event.\n",
    "\n",
    "c. event_date: Represents the date of the event.\n",
    "\n",
    "d. venue: Represents the venue of the event.\n",
    "\n",
    "e. seat_number: Represents the seat number associated with the ticket.\n",
    "\n",
    "f. price: Represents the price of the ticket.\n",
    "\n",
    "g. is_reserved: Represents the reservation status of the ticket.\n",
    "\n",
    "\n",
    "**The class also includes the following methods:**\n",
    "\n",
    "a. reserve_ticket(self): Marks the ticket as reserved if it is not already reserved.\n",
    "\n",
    "b. cancel_reservation(self): Cancels the reservation of the ticket if it is already\n",
    "reserved.\n",
    "\n",
    "c. display_ticket_info(self): Displays the information about the ticket, including its\n",
    "attributes and reservation status."
   ]
  },
  {
   "cell_type": "markdown",
   "id": "5baed03a",
   "metadata": {},
   "source": [
    "### Answer"
   ]
  },
  {
   "cell_type": "code",
   "execution_count": 39,
   "id": "263a92f9",
   "metadata": {},
   "outputs": [],
   "source": [
    "class Ticket:\n",
    "    def __init__(self, ticket_id, event_name, event_date, venue, seat_number, price):\n",
    "        self.ticket_id = ticket_id\n",
    "        self.event_name = event_name\n",
    "        self.event_date = event_date\n",
    "        self.venue = venue\n",
    "        self.seat_number = seat_number\n",
    "        self.price = price\n",
    "        self.is_reserved = False  # Initialize as not reserved\n",
    "\n",
    "    def reserve_ticket(self):\n",
    "        if not self.is_reserved:\n",
    "            self.is_reserved = True\n",
    "            print(f\"Ticket {self.ticket_id} has been reserved.\")\n",
    "        else:\n",
    "            print(f\"Ticket {self.ticket_id} is already reserved.\")\n",
    "\n",
    "    def cancel_reservation(self):\n",
    "        if self.is_reserved:\n",
    "            self.is_reserved = False\n",
    "            print(f\"Reservation for ticket {self.ticket_id} has been canceled.\")\n",
    "        else:\n",
    "            print(f\"Ticket {self.ticket_id} is not reserved.\")\n",
    "\n",
    "    def display_ticket_info(self):\n",
    "        print(f\"Ticket ID: {self.ticket_id}\")\n",
    "        print(f\"Event Name: {self.event_name}\")\n",
    "        print(f\"Event Date: {self.event_date}\")\n",
    "        print(f\"Venue: {self.venue}\")\n",
    "        print(f\"Seat Number: {self.seat_number}\")\n",
    "        print(f\"Price: ${self.price}\")\n",
    "        print(f\"Reservation Status: {'Reserved' if self.is_reserved else 'Not Reserved'}\")\n",
    "\n"
   ]
  },
  {
   "cell_type": "code",
   "execution_count": 40,
   "id": "a8cfc40a",
   "metadata": {},
   "outputs": [],
   "source": [
    "# Example usage:\n",
    "ticket1 = Ticket(1, \"Concert\", \"2023-10-15\", \"City Arena\", \"A-25\", 50.00)\n",
    "ticket2 = Ticket(2, \"Theater Play\", \"2023-11-05\", \"Downtown Theater\", \"B-10\", 30.00)\n",
    "\n",
    "\n"
   ]
  },
  {
   "cell_type": "code",
   "execution_count": 41,
   "id": "a93e3c2d",
   "metadata": {},
   "outputs": [
    {
     "name": "stdout",
     "output_type": "stream",
     "text": [
      "Ticket ID: 1\n",
      "Event Name: Concert\n",
      "Event Date: 2023-10-15\n",
      "Venue: City Arena\n",
      "Seat Number: A-25\n",
      "Price: $50.0\n",
      "Reservation Status: Not Reserved\n"
     ]
    }
   ],
   "source": [
    "ticket1.display_ticket_info()\n"
   ]
  },
  {
   "cell_type": "code",
   "execution_count": 42,
   "id": "21ab74b1",
   "metadata": {},
   "outputs": [
    {
     "name": "stdout",
     "output_type": "stream",
     "text": [
      "Ticket 1 has been reserved.\n"
     ]
    }
   ],
   "source": [
    "ticket1.reserve_ticket()\n"
   ]
  },
  {
   "cell_type": "code",
   "execution_count": 43,
   "id": "b93d81f7",
   "metadata": {},
   "outputs": [
    {
     "name": "stdout",
     "output_type": "stream",
     "text": [
      "Ticket ID: 1\n",
      "Event Name: Concert\n",
      "Event Date: 2023-10-15\n",
      "Venue: City Arena\n",
      "Seat Number: A-25\n",
      "Price: $50.0\n",
      "Reservation Status: Reserved\n"
     ]
    }
   ],
   "source": [
    "ticket1.display_ticket_info()\n"
   ]
  },
  {
   "cell_type": "code",
   "execution_count": 44,
   "id": "7b718d64",
   "metadata": {},
   "outputs": [
    {
     "name": "stdout",
     "output_type": "stream",
     "text": [
      "Reservation for ticket 1 has been canceled.\n"
     ]
    }
   ],
   "source": [
    "ticket1.cancel_reservation()\n"
   ]
  },
  {
   "cell_type": "code",
   "execution_count": 45,
   "id": "4d3a353c",
   "metadata": {},
   "outputs": [
    {
     "name": "stdout",
     "output_type": "stream",
     "text": [
      "Ticket ID: 1\n",
      "Event Name: Concert\n",
      "Event Date: 2023-10-15\n",
      "Venue: City Arena\n",
      "Seat Number: A-25\n",
      "Price: $50.0\n",
      "Reservation Status: Not Reserved\n"
     ]
    }
   ],
   "source": [
    "ticket1.display_ticket_info()"
   ]
  },
  {
   "cell_type": "code",
   "execution_count": null,
   "id": "c3368e1f",
   "metadata": {},
   "outputs": [],
   "source": []
  },
  {
   "cell_type": "markdown",
   "id": "cdcd5b23",
   "metadata": {},
   "source": [
    "# 9. You are creating a shopping cart for an e-commerce website. using OOP to model\n",
    "\n",
    "**the \"ShoppingCart\" functionality the class should contain following attributes and\n",
    "methods:**\n",
    "\n",
    "a. items: Represents the list of items in the shopping cart.\n",
    "\n",
    "**The class also includes the following methods:**\n",
    "\n",
    "a. add_item(self, item): Adds an item to the shopping cart by appending it to the\n",
    "list of items.\n",
    "\n",
    "b. remove_item(self, item): Removes an item from the shopping cart if it exists in\n",
    "the list.\n",
    "\n",
    "c. view_cart(self): Displays the items currently present in the shopping cart.\n",
    "\n",
    "d. clear_cart(self): Clears all items from the shopping cart by reassigning an\n",
    "empty list to the items attribute."
   ]
  },
  {
   "cell_type": "markdown",
   "id": "f2b2b3c6",
   "metadata": {},
   "source": [
    "### Answer"
   ]
  },
  {
   "cell_type": "code",
   "execution_count": 48,
   "id": "95d2f0ab",
   "metadata": {},
   "outputs": [],
   "source": [
    "class ShoppingCart:\n",
    "    def __init__(self):\n",
    "        self.items = []  # Initialize an empty list for items\n",
    "\n",
    "    def add_item(self, item):\n",
    "        self.items.append(item)\n",
    "        print(f\"Added {item} to the shopping cart.\")\n",
    "\n",
    "    def remove_item(self, item):\n",
    "        if item in self.items:\n",
    "            self.items.remove(item)\n",
    "            print(f\"Removed {item} from the shopping cart.\")\n",
    "        else:\n",
    "            print(f\"{item} is not in the shopping cart.\")\n",
    "\n",
    "    def view_cart(self):\n",
    "        if not self.items:\n",
    "            print(\"The shopping cart is empty.\")\n",
    "        else:\n",
    "            print(\"Items in the shopping cart:\")\n",
    "            for item in self.items:\n",
    "                print(f\"- {item}\")\n",
    "\n",
    "    def clear_cart(self):\n",
    "        self.items = []  # Reassign an empty list to clear the cart\n",
    "        print(\"The shopping cart has been cleared.\")\n",
    "\n"
   ]
  },
  {
   "cell_type": "code",
   "execution_count": 50,
   "id": "c862f90c",
   "metadata": {},
   "outputs": [],
   "source": [
    "# Example usage:\n",
    "cart = ShoppingCart()\n"
   ]
  },
  {
   "cell_type": "code",
   "execution_count": 51,
   "id": "c6e11882",
   "metadata": {},
   "outputs": [
    {
     "name": "stdout",
     "output_type": "stream",
     "text": [
      "Added Product A to the shopping cart.\n"
     ]
    }
   ],
   "source": [
    "\n",
    "cart.add_item(\"Product A\")\n"
   ]
  },
  {
   "cell_type": "code",
   "execution_count": 52,
   "id": "a7889f36",
   "metadata": {},
   "outputs": [
    {
     "name": "stdout",
     "output_type": "stream",
     "text": [
      "Added Product B to the shopping cart.\n"
     ]
    }
   ],
   "source": [
    "cart.add_item(\"Product B\")\n"
   ]
  },
  {
   "cell_type": "code",
   "execution_count": 53,
   "id": "86760f02",
   "metadata": {},
   "outputs": [
    {
     "name": "stdout",
     "output_type": "stream",
     "text": [
      "Items in the shopping cart:\n",
      "- Product A\n",
      "- Product B\n"
     ]
    }
   ],
   "source": [
    "cart.view_cart()\n",
    "\n"
   ]
  },
  {
   "cell_type": "code",
   "execution_count": 54,
   "id": "7cb5cb03",
   "metadata": {},
   "outputs": [
    {
     "name": "stdout",
     "output_type": "stream",
     "text": [
      "Removed Product A from the shopping cart.\n"
     ]
    }
   ],
   "source": [
    "cart.remove_item(\"Product A\")\n"
   ]
  },
  {
   "cell_type": "code",
   "execution_count": 55,
   "id": "1068ef26",
   "metadata": {},
   "outputs": [
    {
     "name": "stdout",
     "output_type": "stream",
     "text": [
      "Items in the shopping cart:\n",
      "- Product B\n"
     ]
    }
   ],
   "source": [
    "cart.view_cart()\n",
    "\n"
   ]
  },
  {
   "cell_type": "code",
   "execution_count": 56,
   "id": "29a96630",
   "metadata": {},
   "outputs": [
    {
     "name": "stdout",
     "output_type": "stream",
     "text": [
      "The shopping cart has been cleared.\n"
     ]
    }
   ],
   "source": [
    "cart.clear_cart()\n"
   ]
  },
  {
   "cell_type": "code",
   "execution_count": 57,
   "id": "1e471214",
   "metadata": {},
   "outputs": [
    {
     "name": "stdout",
     "output_type": "stream",
     "text": [
      "The shopping cart is empty.\n"
     ]
    }
   ],
   "source": [
    "cart.view_cart()"
   ]
  },
  {
   "cell_type": "code",
   "execution_count": null,
   "id": "788fa244",
   "metadata": {},
   "outputs": [],
   "source": []
  },
  {
   "cell_type": "markdown",
   "id": "9b5beaab",
   "metadata": {},
   "source": [
    "# 10. Imagine a school management system. You have to design the \"Student\" class using  OOP concepts.\n",
    "\n",
    "**The “Student” class has the following attributes:**\n",
    "a. name: Represents the name of the student.\n",
    "\n",
    "b. age: Represents the age of the student.\n",
    "\n",
    "c. grade: Represents the grade or class of the student.\n",
    "\n",
    "d. student_id: Represents the unique identifier for the student.\n",
    "\n",
    "e. attendance: Represents the attendance record of the student.\n",
    "\n",
    "**The class should also include the following methods:**\n",
    "\n",
    "a. update_attendance(self, date, status): Updates the attendance record of the\n",
    "student for a given date with the provided status (e.g., present or absent).\n",
    "\n",
    "b. get_attendance(self): Returns the attendance record of the student.\n",
    "\n",
    "c. get_average_attendance(self): Calculates and returns the average\n",
    "attendance percentage of the student based on their attendance record."
   ]
  },
  {
   "cell_type": "markdown",
   "id": "7467b3d2",
   "metadata": {},
   "source": [
    "### Answer"
   ]
  },
  {
   "cell_type": "code",
   "execution_count": 60,
   "id": "0c2ee055",
   "metadata": {},
   "outputs": [],
   "source": [
    "class Student:\n",
    "    def __init__(self, name, age, grade, student_id):\n",
    "        self.name = name\n",
    "        self.age = age\n",
    "        self.grade = grade\n",
    "        self.student_id = student_id\n",
    "        self.attendance = {}  # Initialize an empty dictionary for attendance records\n",
    "\n",
    "    def update_attendance(self, date, status):\n",
    "        if date in self.attendance:\n",
    "            print(f\"Attendance for {date} is already recorded.\")\n",
    "        else:\n",
    "            self.attendance[date] = status\n",
    "            print(f\"Attendance for {date} has been updated to '{status}'.\")\n",
    "\n",
    "    def get_attendance(self):\n",
    "        return self.attendance\n",
    "\n",
    "    def get_average_attendance(self):\n",
    "        if not self.attendance:\n",
    "            return 0.0\n",
    "\n",
    "        total_days = len(self.attendance)\n",
    "        present_count = sum(1 for status in self.attendance.values() if status == 'present')\n",
    "        attendance_percentage = (present_count / total_days) * 100\n",
    "        return attendance_percentage\n",
    "\n",
    "\n"
   ]
  },
  {
   "cell_type": "code",
   "execution_count": 61,
   "id": "cced42cb",
   "metadata": {},
   "outputs": [],
   "source": [
    "# Example usage:\n",
    "student1 = Student(\"John Doe\", 16, \"10th Grade\", \"S123456\")\n",
    "\n"
   ]
  },
  {
   "cell_type": "code",
   "execution_count": 62,
   "id": "37d1184a",
   "metadata": {},
   "outputs": [
    {
     "name": "stdout",
     "output_type": "stream",
     "text": [
      "Attendance for 2023-09-10 has been updated to 'present'.\n",
      "Attendance for 2023-09-12 has been updated to 'absent'.\n",
      "Attendance for 2023-09-15 has been updated to 'present'.\n"
     ]
    }
   ],
   "source": [
    "student1.update_attendance(\"2023-09-10\", \"present\")\n",
    "student1.update_attendance(\"2023-09-12\", \"absent\")\n",
    "student1.update_attendance(\"2023-09-15\", \"present\")\n",
    "\n"
   ]
  },
  {
   "cell_type": "code",
   "execution_count": 63,
   "id": "8cc5edbc",
   "metadata": {},
   "outputs": [
    {
     "name": "stdout",
     "output_type": "stream",
     "text": [
      "Attendance Record:\n",
      "{'2023-09-10': 'present', '2023-09-12': 'absent', '2023-09-15': 'present'}\n"
     ]
    }
   ],
   "source": [
    "print(\"Attendance Record:\")\n",
    "print(student1.get_attendance())\n",
    "\n"
   ]
  },
  {
   "cell_type": "code",
   "execution_count": 64,
   "id": "ad16ea07",
   "metadata": {},
   "outputs": [
    {
     "name": "stdout",
     "output_type": "stream",
     "text": [
      "Average Attendance Percentage: 66.67%\n"
     ]
    }
   ],
   "source": [
    "average_attendance = student1.get_average_attendance()\n",
    "print(f\"Average Attendance Percentage: {average_attendance:.2f}%\")"
   ]
  },
  {
   "cell_type": "code",
   "execution_count": null,
   "id": "05d8e570",
   "metadata": {},
   "outputs": [],
   "source": [
    "COMPLETE"
   ]
  }
 ],
 "metadata": {
  "kernelspec": {
   "display_name": "Python 3 (ipykernel)",
   "language": "python",
   "name": "python3"
  },
  "language_info": {
   "codemirror_mode": {
    "name": "ipython",
    "version": 3
   },
   "file_extension": ".py",
   "mimetype": "text/x-python",
   "name": "python",
   "nbconvert_exporter": "python",
   "pygments_lexer": "ipython3",
   "version": "3.10.9"
  }
 },
 "nbformat": 4,
 "nbformat_minor": 5
}

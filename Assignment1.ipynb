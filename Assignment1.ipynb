{
 "cells": [
  {
   "cell_type": "markdown",
   "id": "88095a5a",
   "metadata": {},
   "source": [
    "# Assignment1"
   ]
  },
  {
   "cell_type": "markdown",
   "id": "3c6c6cf5",
   "metadata": {},
   "source": [
    "#  1. In the below elements which of them are values or an expression?\n",
    "#### eg:- values can be integer or string and expressions will be mathematical operators.\n",
    "#### * \n",
    "#### 'hello'\n",
    "#### -87.8\n",
    "#### - \n",
    "#### / \n",
    "#### +\t\n",
    "#### 6 "
   ]
  },
  {
   "cell_type": "markdown",
   "id": "9f7cf549",
   "metadata": {},
   "source": [
    "## Answer"
   ]
  },
  {
   "cell_type": "markdown",
   "id": "7e7e61cb",
   "metadata": {},
   "source": [
    " Values: ‘hello’,-87.8,6\n",
    " \n",
    " Expression : *,-,/,+"
   ]
  },
  {
   "cell_type": "code",
   "execution_count": null,
   "id": "ea93e726",
   "metadata": {},
   "outputs": [],
   "source": []
  },
  {
   "cell_type": "markdown",
   "id": "1d4f51ef",
   "metadata": {},
   "source": [
    "# 2. What is the difference between string and variable?"
   ]
  },
  {
   "cell_type": "markdown",
   "id": "4b38f62b",
   "metadata": {},
   "source": [
    "###  Answer"
   ]
  },
  {
   "cell_type": "markdown",
   "id": "521fb4aa",
   "metadata": {},
   "source": [
    " • A Variable is a store of information, and a String is a type of information you would store in a Variable.\n",
    " \n",
    " • A String is usually words, enclosed with \"\"\n",
    " \n",
    " #### Eg String x =\"Welcome to INeuron\" \n",
    " \n",
    " • X is the Variable, and we declared it as a String, use the single = to assign the text to it."
   ]
  },
  {
   "cell_type": "code",
   "execution_count": null,
   "id": "4cf6d8a8",
   "metadata": {},
   "outputs": [],
   "source": []
  },
  {
   "cell_type": "markdown",
   "id": "a2f8ecb5",
   "metadata": {},
   "source": [
    "# 3. Describe three different data types."
   ]
  },
  {
   "cell_type": "markdown",
   "id": "074aadd8",
   "metadata": {},
   "source": [
    "### Answer"
   ]
  },
  {
   "cell_type": "markdown",
   "id": "3633f881",
   "metadata": {},
   "source": [
    "Python has the following data types built-in by default, in these categories:\n",
    "\n",
    "#### Text Type:str\n",
    "\n",
    "#### Sequence Types:list, tuple, range\n",
    "\n",
    "#### Mapping Type:dict\n",
    "\n",
    "\n",
    "    \n",
    "# 1)Text Type\n",
    "\n",
    "## Strings\n",
    "\n",
    "• Strings in python are surrounded by either single quotation marks, or double quotation marks.\n",
    "\n",
    "•'hello' is the same as \"hello\".\n",
    "\n",
    "•You can display a string literal with the print() function:\n",
    "\n",
    "•Example \n",
    "\n",
    "#### Print(“Hello”)\n",
    "\n",
    "#### Print(‘Hello’)\n",
    "\n",
    "\n",
    "• Assigning a string to a variable is done with the variable name followed by an equal sign and the string:\n",
    "\n",
    "• Example\n",
    "\n",
    "#### a = \"Hello\"\n",
    "#### print(a)\n",
    "\n",
    "• Multiline Strings\n",
    "\n",
    "You can assign a multiline string to a variable by using three quotes:\n",
    "\n",
    "• Example\n",
    "\n",
    "You can use three double quotes:\n",
    "\n",
    "#### a = \"\"\"My name is Jayshree Donga,\n",
    "#### doing full stack Data Science master program,\n",
    "#### from INeuron\"\"\"\n",
    "\n",
    "#### print(a)\n",
    "\n",
    "Or three single quotes:\n",
    "\n",
    "• Example\n",
    "\n",
    "#### a = '''My name is Jayshree Donga,\n",
    "#### doing full stack Data Science master program,\n",
    "#### from INeuron'''\n",
    "\n",
    "#### print(a)\n",
    "\n",
    "\n",
    "# 2)Sequence Types\n",
    "## (a)\tList\n",
    "\n",
    "Lists are used to store multiple items in a single variable.\n",
    "\n",
    "Lists are created using square brackets:\n",
    "\n",
    "Example\n",
    "\n",
    "Create a List:\n",
    "\n",
    "\n",
    "#### thislist =  [\"apple\",\"banana\",\"cherry\"]\n",
    "\n",
    "#### print(thislist)\n",
    "\n",
    "### List Items\n",
    "\n",
    "List items are ordered, changeable, and allow duplicate values.\n",
    "\n",
    "List items are indexed, the first item has index [0], the second item has index [1] etc.\n",
    "\n",
    "\n",
    "#### Ordered\n",
    "\n",
    "When we say that lists are ordered, it means that the items have a defined order, and that order will not change.\n",
    "\n",
    "If you add new items to a list, the new items will be placed at the end of the list.\n",
    "\n",
    "#### Changeable\n",
    "The list is changeable, meaning that we can change, add, and remove items in a list after it has been created.\n",
    "\n",
    "#### Allow Duplicates\n",
    "\n",
    "Since lists are indexed, lists can have items with the same value:\n",
    "\n",
    "#### Example\n",
    "#### thislist = [\"apple\", \"banana\", \"cherry\", \"apple\", \"cherry\"]\n",
    "#### print(thislist)\n",
    "\n",
    "\n",
    "## (b)Tuple\n",
    "\n",
    "Tuples are used to store multiple items in a single variable.\n",
    "\n",
    "A tuple is a collection which is ordered and unchangeable.\n",
    "\n",
    "Tuples are written with round brackets.\n",
    "\n",
    "#### Example\n",
    "#### thistuple = (\"apple\", \"banana\", \"cherry\")\n",
    "#### print(thistuple)\n",
    "\n",
    "### Tuple Items\n",
    "Tuple items are ordered, unchangeable, and allow duplicate values.\n",
    "\n",
    "Tuple items are indexed, the first item has index [0], the second item has index [1] etc.\n",
    "\n",
    "#### Ordered\n",
    "\n",
    "When we say that tuples are ordered, it means that the items have a defined order, and that order will not change.\n",
    "\n",
    "#### Unchangeable\n",
    "Tuples are unchangeable, meaning that we cannot change, add or remove items after the tuple has been created.\n",
    "\n",
    "#### Allow Duplicates\n",
    "Since tuples are indexed, they can have items with the same value:\n",
    "\n",
    "#### thistuple = (\"apple\", \"banana\", \"cherry\", \"apple\", \"cherry\")\n",
    "#### print(thistuple)\n",
    "# 3)Mapping Type\tdict\n",
    "\n",
    "## Dictionary\n",
    "Dictionaries are used to store data values in key:value pairs.\n",
    "\n",
    "A dictionary is a collection which is ordered*, changeable and do not allow duplicates.\n",
    "\n",
    "Dictionaries are written with curly brackets, and have keys and values:\n",
    "#### Example\n",
    "#### thisdict = {\n",
    "####  \"brand\": \"Ford\",\n",
    "####  \"model\": \"Mustang\",\n",
    "####  \"year\": 1964\n",
    "#### }\n",
    "print(thisdict)\n",
    "\n",
    "Dictionary Items\n",
    "Dictionary items are ordered, changeable, and does not allow duplicates.\n",
    "Dictionary items are presented in key:value pairs, and can be referred to by using the key name.\n",
    "Example\n",
    "thisdict = {\n",
    "  \"brand\": \"Ford\",\n",
    "  \"model\": \"Mustang\",\n",
    "  \"year\": 1964\n",
    "}\n",
    "#### print(thisdict[\"brand\"])\n",
    "\n",
    "#### Ordered or Unordered?\n",
    "\n",
    "As of Python version 3.7, dictionaries are ordered. \n",
    "\n",
    "In Python 3.6 and earlier, dictionaries are unordered.\n",
    "\n",
    "When we say that dictionaries are ordered, it means that the items have a defined order, and that order will not change.\n",
    "\n",
    "Unordered means that the items does not have a defined order, you cannot refer to an item by using an index.\n",
    "\n",
    "#### Changeable\n",
    "\n",
    "Dictionaries are changeable, meaning that we can change, add or remove items after the dictionary has been created.\n",
    "\n",
    "### Duplicates Not Allowed\n",
    "\n",
    "#### Dictionaries cannot have two items with the same key:\n",
    "#### Example\n",
    "#### thisdict = {\n",
    "####  \"brand\": \"Ford\",\n",
    "####  \"model\": \"Mustang\",\n",
    "####  \"year\": 1964,\n",
    "####  \"year\": 2020\n",
    "#### }\n",
    "#### print(thisdict)"
   ]
  },
  {
   "cell_type": "code",
   "execution_count": 1,
   "id": "27a0425d",
   "metadata": {},
   "outputs": [
    {
     "name": "stdout",
     "output_type": "stream",
     "text": [
      "{'brand': 'Ford', 'model': 'Mustang', 'year': 2020}\n"
     ]
    }
   ],
   "source": [
    "thisdict = {\n",
    "\"brand\": \"Ford\",\n",
    "\"model\": \"Mustang\",\n",
    "\"year\": 1964,\n",
    "\"year\": 2020\n",
    "}\n",
    "print(thisdict)"
   ]
  },
  {
   "cell_type": "code",
   "execution_count": null,
   "id": "dbcbe332",
   "metadata": {},
   "outputs": [],
   "source": []
  },
  {
   "cell_type": "markdown",
   "id": "676464c5",
   "metadata": {},
   "source": [
    "# 4. What is an expression made up of? What do all expressions do?"
   ]
  },
  {
   "cell_type": "markdown",
   "id": "5896198c",
   "metadata": {},
   "source": [
    "### Answer"
   ]
  },
  {
   "cell_type": "markdown",
   "id": "32f513f9",
   "metadata": {},
   "source": [
    " An expression in Python can contain identifiers, operators, and operands. .\n",
    "\n",
    " A combination of operands and operators is called an expression. \n",
    " \n",
    " The expression in Python produces some value or result after being interpreted by the Python interpreter. \n",
    " \n",
    " #### An example of expression can be : x=x+10.\n",
    " \n",
    " In this expression, the first 10 is added to the variable x. \n",
    " \n",
    " After the  addition is performed, the result is assigned to the variable x.\n",
    " \n",
    " Example :\n",
    " \n",
    "#### x = 25          # a statement\n",
    " \n",
    "####  x = x + 10      # an expression\n",
    " \n",
    "#### print(x)"
   ]
  },
  {
   "cell_type": "markdown",
   "id": "c4ca7a8c",
   "metadata": {},
   "source": [
    "# 5. This assignment statements, like spam = 10. What is the difference between an expression and a statement?"
   ]
  },
  {
   "cell_type": "markdown",
   "id": "6a9334d3",
   "metadata": {},
   "source": [
    "### Answer"
   ]
  },
  {
   "cell_type": "markdown",
   "id": "0c73d047",
   "metadata": {},
   "source": [
    "### Statement in Python \n",
    "\n",
    " A statement in Python is used for creating variables or for displaying values.\n",
    " \n",
    " A statement in Python is not evaluated for some results.\n",
    " \n",
    " A statement can be an expression.\n",
    " \n",
    " #### Example : x=3.\n",
    " \n",
    " Output : 3\n",
    "\n",
    "  \n",
    "### Expression in Python\n",
    "\n",
    " \n",
    " The expression in Python produces some value or result after being interpreted by the Python interpreter.\n",
    " \n",
    " An expression in Python is evaluated for some results.\n",
    " \n",
    " An expression is not a statement.\n",
    " \n",
    " #### Example: x=3+6.\n",
    " \n",
    " Output : 9"
   ]
  },
  {
   "cell_type": "code",
   "execution_count": null,
   "id": "3d3f4b19",
   "metadata": {},
   "outputs": [],
   "source": []
  },
  {
   "cell_type": "markdown",
   "id": "361507bf",
   "metadata": {},
   "source": [
    "# 6. After running the following code, what does the variable bacon contain?\n",
    "# bacon = 22\n",
    "# bacon + 1\n"
   ]
  },
  {
   "cell_type": "markdown",
   "id": "bdca3131",
   "metadata": {},
   "source": [
    "### Answer"
   ]
  },
  {
   "cell_type": "markdown",
   "id": "70f9dcce",
   "metadata": {},
   "source": [
    "• After running the following code, the variable bacon contains 22.\n",
    "\n",
    "• The bacon variable is set to 22. \n",
    "\n",
    "• The bacon + 1 expression does not reassign the value in bacon (that would need an assignment statement: bacon = bacon + 1)"
   ]
  },
  {
   "cell_type": "code",
   "execution_count": null,
   "id": "bb1eaceb",
   "metadata": {},
   "outputs": [],
   "source": []
  },
  {
   "cell_type": "markdown",
   "id": "7098f9bc",
   "metadata": {},
   "source": [
    "# 7. What should the values of the following two terms be?\n",
    "# 'spam' + 'spamspam'\n",
    "# 'spam' * 3\n"
   ]
  },
  {
   "cell_type": "markdown",
   "id": "137e1ba6",
   "metadata": {},
   "source": [
    "### Answer"
   ]
  },
  {
   "cell_type": "markdown",
   "id": "613739d2",
   "metadata": {},
   "source": [
    "•‘spamspamspam’\n",
    "\n",
    "•‘spamspamspam’"
   ]
  },
  {
   "cell_type": "code",
   "execution_count": null,
   "id": "62af13a6",
   "metadata": {},
   "outputs": [],
   "source": []
  },
  {
   "cell_type": "markdown",
   "id": "4beb3289",
   "metadata": {},
   "source": [
    "# 8. Why is eggs a valid variable name while 100 is invalid?"
   ]
  },
  {
   "cell_type": "markdown",
   "id": "7833a62c",
   "metadata": {},
   "source": [
    "### Answer"
   ]
  },
  {
   "cell_type": "markdown",
   "id": "18da0aca",
   "metadata": {},
   "source": [
    "• Eggs is a valid variable name because in python a variable name can start with a letter.\n",
    "\n",
    "• 100 is an invalid variable name because in python a variable name cannot start with a number."
   ]
  },
  {
   "cell_type": "code",
   "execution_count": null,
   "id": "13988a7e",
   "metadata": {},
   "outputs": [],
   "source": []
  },
  {
   "cell_type": "markdown",
   "id": "e7d8449e",
   "metadata": {},
   "source": [
    "# 9. What three functions can be used to get the integer, floating-point number, or string version of a value?"
   ]
  },
  {
   "cell_type": "markdown",
   "id": "1a607921",
   "metadata": {},
   "source": [
    "### Answer"
   ]
  },
  {
   "cell_type": "markdown",
   "id": "ad6c8b09",
   "metadata": {},
   "source": [
    "The int(), float(), and str() functions will evaluate to the integer, floating-point number, and string versions of the value \n",
    "passed to them."
   ]
  },
  {
   "cell_type": "code",
   "execution_count": null,
   "id": "847554cf",
   "metadata": {},
   "outputs": [],
   "source": []
  },
  {
   "cell_type": "markdown",
   "id": "91b86260",
   "metadata": {},
   "source": [
    "# 10. Why does this expression cause an error? How can you fix it?\n",
    "# 'I have eaten ' + 99 + ' burritos.'"
   ]
  },
  {
   "cell_type": "markdown",
   "id": "89204c6c",
   "metadata": {},
   "source": [
    "# Answer"
   ]
  },
  {
   "cell_type": "markdown",
   "id": "1b6905f2",
   "metadata": {},
   "source": [
    "The expression causes an error because 99 is an integer, and only strings can be concatenated to \n",
    "other strings with the + operator.\n",
    "\n",
    "#### The correct way is I have eaten ' + str(99) + ' burritos.'."
   ]
  },
  {
   "cell_type": "code",
   "execution_count": null,
   "id": "0fa8f539",
   "metadata": {},
   "outputs": [],
   "source": []
  }
 ],
 "metadata": {
  "kernelspec": {
   "display_name": "Python 3 (ipykernel)",
   "language": "python",
   "name": "python3"
  },
  "language_info": {
   "codemirror_mode": {
    "name": "ipython",
    "version": 3
   },
   "file_extension": ".py",
   "mimetype": "text/x-python",
   "name": "python",
   "nbconvert_exporter": "python",
   "pygments_lexer": "ipython3",
   "version": "3.10.9"
  }
 },
 "nbformat": 4,
 "nbformat_minor": 5
}

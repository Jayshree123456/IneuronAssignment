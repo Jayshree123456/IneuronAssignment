{
 "cells": [
  {
   "cell_type": "markdown",
   "id": "314da584",
   "metadata": {},
   "source": [
    "# Assignment 2"
   ]
  },
  {
   "cell_type": "markdown",
   "id": "706cee86",
   "metadata": {},
   "source": [
    "# 1.What are the two values of the Boolean data type? How do you write them?"
   ]
  },
  {
   "cell_type": "markdown",
   "id": "78f1191d",
   "metadata": {},
   "source": [
    "### Answer"
   ]
  },
  {
   "cell_type": "markdown",
   "id": "88738180",
   "metadata": {},
   "source": [
    "The Python Boolean type has only two possible values:\n",
    "\n",
    "1.True.\n",
    "\n",
    "2.False.\n",
    "\n",
    "Using capital T and F, with the rest of the word in lowercase."
   ]
  },
  {
   "cell_type": "code",
   "execution_count": null,
   "id": "7e2b51e2",
   "metadata": {},
   "outputs": [],
   "source": []
  },
  {
   "cell_type": "markdown",
   "id": "79c25a99",
   "metadata": {},
   "source": [
    "# 2. What are the three different types of Boolean operators?"
   ]
  },
  {
   "cell_type": "markdown",
   "id": "26e3a4da",
   "metadata": {},
   "source": [
    "### Answer"
   ]
  },
  {
   "cell_type": "code",
   "execution_count": null,
   "id": "480c50e3",
   "metadata": {},
   "outputs": [],
   "source": [
    "The three basic boolean operators are: AND, OR, and NOT."
   ]
  },
  {
   "cell_type": "code",
   "execution_count": null,
   "id": "d1fe499c",
   "metadata": {},
   "outputs": [],
   "source": []
  },
  {
   "cell_type": "markdown",
   "id": "3d4a09cc",
   "metadata": {},
   "source": [
    "# 3. Make a list of each Boolean operator's truth tables (i.e. every possible combination of Boolean values for the operator and what it evaluate )."
   ]
  },
  {
   "cell_type": "markdown",
   "id": "6b033521",
   "metadata": {},
   "source": [
    "### Answer"
   ]
  },
  {
   "cell_type": "markdown",
   "id": "7d814dc3",
   "metadata": {},
   "source": [
    "True and True is True.\n",
    "\n",
    "True and False is False.\n",
    "\n",
    "False and True is False.\n",
    "\n",
    "False and False is False.\n",
    "\n",
    "True or True is True.\n",
    "\n",
    "True or False is True.\n",
    "\n",
    "False or True is True.\n",
    "\n",
    "False or False is False.\n",
    "\n",
    "not True is False.\n",
    "\n",
    "not False is True."
   ]
  },
  {
   "cell_type": "code",
   "execution_count": null,
   "id": "0467c8bd",
   "metadata": {},
   "outputs": [],
   "source": []
  },
  {
   "cell_type": "markdown",
   "id": "f3830ef6",
   "metadata": {},
   "source": [
    "# 4. What are the values of the following expressions?\n"
   ]
  },
  {
   "cell_type": "markdown",
   "id": "3e1d0433",
   "metadata": {},
   "source": [
    "### Answer"
   ]
  },
  {
   "cell_type": "code",
   "execution_count": 2,
   "id": "fa0464c4",
   "metadata": {},
   "outputs": [
    {
     "data": {
      "text/plain": [
       "False"
      ]
     },
     "execution_count": 2,
     "metadata": {},
     "output_type": "execute_result"
    }
   ],
   "source": [
    "(5 > 4) and (3 == 5) "
   ]
  },
  {
   "cell_type": "code",
   "execution_count": 3,
   "id": "3a1feefe",
   "metadata": {},
   "outputs": [
    {
     "data": {
      "text/plain": [
       "False"
      ]
     },
     "execution_count": 3,
     "metadata": {},
     "output_type": "execute_result"
    }
   ],
   "source": [
    "not (5 > 4)"
   ]
  },
  {
   "cell_type": "code",
   "execution_count": 4,
   "id": "cdff4e1b",
   "metadata": {},
   "outputs": [
    {
     "data": {
      "text/plain": [
       "True"
      ]
     },
     "execution_count": 4,
     "metadata": {},
     "output_type": "execute_result"
    }
   ],
   "source": [
    "(5 > 4) or (3 == 5)"
   ]
  },
  {
   "cell_type": "code",
   "execution_count": 6,
   "id": "86ed4f00",
   "metadata": {},
   "outputs": [
    {
     "data": {
      "text/plain": [
       "False"
      ]
     },
     "execution_count": 6,
     "metadata": {},
     "output_type": "execute_result"
    }
   ],
   "source": [
    "not ((5 > 4) or (3 == 5))"
   ]
  },
  {
   "cell_type": "code",
   "execution_count": 7,
   "id": "73df4c3a",
   "metadata": {},
   "outputs": [
    {
     "data": {
      "text/plain": [
       "False"
      ]
     },
     "execution_count": 7,
     "metadata": {},
     "output_type": "execute_result"
    }
   ],
   "source": [
    "(True and True) and (True == False)"
   ]
  },
  {
   "cell_type": "code",
   "execution_count": 8,
   "id": "035935fc",
   "metadata": {},
   "outputs": [
    {
     "data": {
      "text/plain": [
       "True"
      ]
     },
     "execution_count": 8,
     "metadata": {},
     "output_type": "execute_result"
    }
   ],
   "source": [
    "(not False) or (not True) \n"
   ]
  },
  {
   "cell_type": "code",
   "execution_count": null,
   "id": "3dea5779",
   "metadata": {},
   "outputs": [],
   "source": []
  },
  {
   "cell_type": "markdown",
   "id": "5da87d63",
   "metadata": {},
   "source": [
    "# 5. What are the six comparison operators?"
   ]
  },
  {
   "cell_type": "markdown",
   "id": "5feb4041",
   "metadata": {},
   "source": [
    "### Answer"
   ]
  },
  {
   "cell_type": "markdown",
   "id": "c0d6f9d3",
   "metadata": {},
   "source": [
    "\n",
    "== Equal e.g. x == y\n",
    "\n",
    "!= Not equal e.g. x != y\n",
    "\n",
    "> Greater than\te.g. x > y\t\n",
    "\n",
    "< Less than\te.g. x < y\t\n",
    "\n",
    ">= Greater than or equal to\te.g. x >= y\t\n",
    "\n",
    "<=\tLess than or equal to\te.g. x <= y\t\n"
   ]
  },
  {
   "cell_type": "code",
   "execution_count": null,
   "id": "4e344085",
   "metadata": {},
   "outputs": [],
   "source": []
  },
  {
   "cell_type": "markdown",
   "id": "5d83cbe0",
   "metadata": {},
   "source": [
    "# 6. How do you tell the difference between the equal to and assignment operators?  Describe a condition and when you would use one.\n",
    "\n"
   ]
  },
  {
   "cell_type": "markdown",
   "id": "96890f26",
   "metadata": {},
   "source": [
    "### Answer"
   ]
  },
  {
   "cell_type": "markdown",
   "id": "f7fa70c0",
   "metadata": {},
   "source": [
    "In Python = symbol is defined as assignment operator. \n",
    "\n",
    "It requires one variable on its left and an expression on its right.\n",
    "\n",
    "Value of the expression on right is assigned to variable on left."
   ]
  },
  {
   "cell_type": "markdown",
   "id": "139b172f",
   "metadata": {},
   "source": [
    "e.g."
   ]
  },
  {
   "cell_type": "code",
   "execution_count": 13,
   "id": "c5458679",
   "metadata": {},
   "outputs": [
    {
     "data": {
      "text/plain": [
       "(10, 20, 30)"
      ]
     },
     "execution_count": 13,
     "metadata": {},
     "output_type": "execute_result"
    }
   ],
   "source": [
    "a=10\n",
    "b=20\n",
    "c=a+b\n",
    "a,b,c"
   ]
  },
  {
   "cell_type": "markdown",
   "id": "b4ab0566",
   "metadata": {},
   "source": [
    "The == symbol is a comparison operator and called equal to operator. \n",
    "\n",
    "It returns true if operands on either side are equal, otherwise it returns false"
   ]
  },
  {
   "cell_type": "markdown",
   "id": "6bd7edcd",
   "metadata": {},
   "source": [
    "e.g."
   ]
  },
  {
   "cell_type": "code",
   "execution_count": 17,
   "id": "415e3674",
   "metadata": {},
   "outputs": [
    {
     "data": {
      "text/plain": [
       "False"
      ]
     },
     "execution_count": 17,
     "metadata": {},
     "output_type": "execute_result"
    }
   ],
   "source": [
    "10+2 == 10"
   ]
  },
  {
   "cell_type": "code",
   "execution_count": 18,
   "id": "0ad762e6",
   "metadata": {},
   "outputs": [
    {
     "data": {
      "text/plain": [
       "True"
      ]
     },
     "execution_count": 18,
     "metadata": {},
     "output_type": "execute_result"
    }
   ],
   "source": [
    "(10+2) == 12"
   ]
  },
  {
   "cell_type": "code",
   "execution_count": 19,
   "id": "b24045dc",
   "metadata": {},
   "outputs": [
    {
     "data": {
      "text/plain": [
       "False"
      ]
     },
     "execution_count": 19,
     "metadata": {},
     "output_type": "execute_result"
    }
   ],
   "source": [
    "'computer' == 'Computer'"
   ]
  },
  {
   "cell_type": "code",
   "execution_count": 21,
   "id": "c379a004",
   "metadata": {},
   "outputs": [
    {
     "data": {
      "text/plain": [
       "True"
      ]
     },
     "execution_count": 21,
     "metadata": {},
     "output_type": "execute_result"
    }
   ],
   "source": [
    " 'computer' == \"computer\""
   ]
  },
  {
   "cell_type": "markdown",
   "id": "82c41281",
   "metadata": {},
   "source": [
    "Let's say you have a variable `x` that you want to compare to a certain value, say `5`. \n",
    "\n",
    "If you use the assignment operator `=` instead of the equality operator `==`, you will end up assigning the value `5` to `x` \n",
    "\n",
    "instead of comparing `x` to `5`. This could lead to unexpected behavior in your code."
   ]
  },
  {
   "cell_type": "code",
   "execution_count": 22,
   "id": "710cba86",
   "metadata": {},
   "outputs": [
    {
     "ename": "SyntaxError",
     "evalue": "invalid syntax. Maybe you meant '==' or ':=' instead of '='? (3697621853.py, line 5)",
     "output_type": "error",
     "traceback": [
      "\u001b[1;36m  Cell \u001b[1;32mIn [22], line 5\u001b[1;36m\u001b[0m\n\u001b[1;33m    if x = 10:\u001b[0m\n\u001b[1;37m       ^\u001b[0m\n\u001b[1;31mSyntaxError\u001b[0m\u001b[1;31m:\u001b[0m invalid syntax. Maybe you meant '==' or ':=' instead of '='?\n"
     ]
    }
   ],
   "source": [
    "# Here's an example to illustrate this:\n",
    "\n",
    "x = 5\n",
    "\n",
    "if x = 10:\n",
    "    print(\"x is 10\")\n",
    "else:\n",
    "    print(\"x is not 10\")\n",
    "\n",
    "# Output: SyntaxError: invalid syntax"
   ]
  },
  {
   "cell_type": "markdown",
   "id": "69a23411",
   "metadata": {},
   "source": [
    "In the above example, we have mistakenly used the assignment operator `=` instead of the equality operator `==`\n",
    "\n",
    "in the if statement. This will result in a SyntaxError, as the assignment operator cannot be used in a conditional statement.\n",
    "\n",
    "To fix this, we need to use the equality operator `==` instead:\n"
   ]
  },
  {
   "cell_type": "code",
   "execution_count": 25,
   "id": "4db1ac4f",
   "metadata": {},
   "outputs": [
    {
     "name": "stdout",
     "output_type": "stream",
     "text": [
      "x is not 10\n"
     ]
    }
   ],
   "source": [
    "# Example\n",
    "\n",
    "x = 5\n",
    "\n",
    "if x == 10:\n",
    "    print(\"x is 10\")\n",
    "else:\n",
    "    print(\"x is not 10\")\n",
    "\n",
    "# Output: x is not 10\n"
   ]
  },
  {
   "cell_type": "markdown",
   "id": "7472a9e6",
   "metadata": {},
   "source": [
    "In the corrected example, we are using the equality operator `==` to compare the value of `x` to `10`. \n",
    "\n",
    "As `x` is not equal to `10`, the else block is executed and the output is \"x is not 10\"."
   ]
  },
  {
   "cell_type": "code",
   "execution_count": null,
   "id": "e53afe9d",
   "metadata": {},
   "outputs": [],
   "source": []
  },
  {
   "cell_type": "markdown",
   "id": "11a0430b",
   "metadata": {},
   "source": [
    "# 7. Identify the three blocks in this code:\n",
    "spam = 0\n",
    "\n",
    "if spam == 10:\n",
    "\n",
    "print('eggs')\n",
    "\n",
    "if spam > 5:\n",
    "\n",
    "print('bacon')\n",
    "\n",
    "else:\n",
    "\n",
    "print('ham')\n",
    "\n",
    "print('spam')\n",
    "\n",
    "print('spam')"
   ]
  },
  {
   "cell_type": "markdown",
   "id": "5033bc51",
   "metadata": {},
   "source": [
    "### Answer"
   ]
  },
  {
   "cell_type": "markdown",
   "id": "6521ead8",
   "metadata": {},
   "source": [
    "### 1.The first if statement block:\n",
    "\n",
    "if spam == 10:\n",
    "\n",
    "print('eggs')\n",
    "\n",
    "\n",
    "\n",
    "### 2.The second if-else statement block:\n",
    "\n",
    "if spam > 5:\n",
    "\n",
    "print('bacon')\n",
    "\n",
    "else:\n",
    "\n",
    "print('ham')\n",
    "\n",
    "\n",
    "\n",
    "### 3.The print statement block:\n",
    "\n",
    "\n",
    "print('spam')\n",
    "\n",
    "print('spam')"
   ]
  },
  {
   "cell_type": "code",
   "execution_count": null,
   "id": "22cea248",
   "metadata": {},
   "outputs": [],
   "source": []
  },
  {
   "cell_type": "markdown",
   "id": "3a4fedff",
   "metadata": {},
   "source": [
    "# 8. Write code that prints Hello if 1 is stored in spam, prints Howdy \n",
    "# if 2 is stored in spam, and prints Greetings! if anything else is stored in spam."
   ]
  },
  {
   "cell_type": "markdown",
   "id": "0e3ff3cd",
   "metadata": {},
   "source": [
    "### Answer"
   ]
  },
  {
   "cell_type": "code",
   "execution_count": 28,
   "id": "6d372715",
   "metadata": {},
   "outputs": [
    {
     "name": "stdout",
     "output_type": "stream",
     "text": [
      "Enter your value: 2\n",
      "Howdy\n"
     ]
    }
   ],
   "source": [
    "spam = int(input('Enter your value: '))\n",
    "\n",
    "if spam ==1:\n",
    "    print('Hello')\n",
    "elif spam ==2:\n",
    "    print('Howdy')\n",
    "else:\n",
    "    print('Greetings!')"
   ]
  },
  {
   "cell_type": "code",
   "execution_count": null,
   "id": "9abcaa0b",
   "metadata": {},
   "outputs": [],
   "source": []
  },
  {
   "cell_type": "markdown",
   "id": "2011738f",
   "metadata": {},
   "source": [
    "# 9.If your programme is stuck in an endless loop, what keys you’ll press?\n",
    "\n"
   ]
  },
  {
   "cell_type": "markdown",
   "id": "38fc7bfc",
   "metadata": {},
   "source": [
    "### Answer"
   ]
  },
  {
   "cell_type": "markdown",
   "id": "4b64d277",
   "metadata": {},
   "source": [
    "Ctrl +c "
   ]
  },
  {
   "cell_type": "code",
   "execution_count": null,
   "id": "aa23c413",
   "metadata": {},
   "outputs": [],
   "source": []
  },
  {
   "cell_type": "markdown",
   "id": "8e9f229c",
   "metadata": {},
   "source": [
    "# 10. How can you tell the difference between break and continue?"
   ]
  },
  {
   "cell_type": "markdown",
   "id": "ead4ac60",
   "metadata": {},
   "source": [
    "### Answer"
   ]
  },
  {
   "cell_type": "markdown",
   "id": "f75f6e8b",
   "metadata": {},
   "source": [
    "In Python, 'break' and 'continue' are both flow control statements that can be used to alter the behavior of loops, \n",
    "\n",
    "such as 'for'  and 'while' loops. \n",
    "\n",
    "The main difference between 'break'  and 'continue' is that 'break' is used to exit a loop completely, \n",
    "\n",
    "while 'continue'  is used to skip the current iteration of a loop and move on to the next iteration.\n"
   ]
  },
  {
   "cell_type": "code",
   "execution_count": 30,
   "id": "d45082b8",
   "metadata": {},
   "outputs": [
    {
     "name": "stdout",
     "output_type": "stream",
     "text": [
      "0\n",
      "1\n",
      "2\n",
      "3\n",
      "4\n"
     ]
    }
   ],
   "source": [
    "# Here's an example to illustrate the difference:\n",
    "\n",
    "\n",
    "# Using break\n",
    "\n",
    "for i in range(10):\n",
    "    if i == 5:\n",
    "        break\n",
    "    print(i)\n",
    "    \n",
    "# Output: 0 1 2 3 4"
   ]
  },
  {
   "cell_type": "code",
   "execution_count": 31,
   "id": "b75d5180",
   "metadata": {},
   "outputs": [
    {
     "name": "stdout",
     "output_type": "stream",
     "text": [
      "0\n",
      "1\n",
      "2\n",
      "3\n",
      "4\n",
      "6\n",
      "7\n",
      "8\n",
      "9\n"
     ]
    }
   ],
   "source": [
    "# Using continue\n",
    "\n",
    "for i in range(10):\n",
    "    if i == 5:\n",
    "        continue\n",
    "    print(i)\n",
    "    \n",
    "# Output: 0 1 2 3 4 6 7 8 9\n"
   ]
  },
  {
   "cell_type": "markdown",
   "id": "97e20621",
   "metadata": {},
   "source": [
    "In the first example, the 'break' statement is used to exit the loop completely when `i` equals 5. \n",
    "\n",
    "This means that only the numbers 0 through 4 are printed.\n",
    "\n",
    "In the second example, the 'continue' statement is used to skip the current iteration of the loop when `i` equals 5. \n",
    "\n",
    "This means that all numbers from 0 through 9 are printed, except for 5.\n"
   ]
  },
  {
   "cell_type": "code",
   "execution_count": null,
   "id": "59eeb019",
   "metadata": {},
   "outputs": [],
   "source": []
  },
  {
   "cell_type": "markdown",
   "id": "89555920",
   "metadata": {},
   "source": [
    "# 11. In a for loop, what is the difference between range(10), range(0, 10), and range(0, 10, 1)?"
   ]
  },
  {
   "cell_type": "markdown",
   "id": "aedef703",
   "metadata": {},
   "source": [
    "### Answer"
   ]
  },
  {
   "cell_type": "markdown",
   "id": "f10712a3",
   "metadata": {},
   "source": [
    "In a 'for' loop, the functions 'range(10)', 'range(0, 10)', and 'range(0, 10, 1)' all generate the same sequence of numbers \n",
    "\n",
    "from 0 to 9 (inclusive), but they differ in how they specify the start, end, and step values of the sequence."
   ]
  },
  {
   "cell_type": "code",
   "execution_count": 37,
   "id": "8e07d58f",
   "metadata": {},
   "outputs": [
    {
     "name": "stdout",
     "output_type": "stream",
     "text": [
      "0 1 2 3 4 5 6 7 8 9 "
     ]
    }
   ],
   "source": [
    "for i in range(10):\n",
    "  print(i,end=' ')"
   ]
  },
  {
   "cell_type": "markdown",
   "id": "4ef93c5e",
   "metadata": {},
   "source": [
    "# Explanation \n",
    " \n",
    "range(10) generates a sequence of numbers from 0 to 9 (inclusive), with a step size of 1. \n",
    "\n",
    "it is equivalent to 'range(0, 10, 1)'. \n",
    "\n",
    "start value is omitted, so it defaults to 0, and the step value is also omitted, so it defaults to 1."
   ]
  },
  {
   "cell_type": "code",
   "execution_count": 39,
   "id": "c13cb1c8",
   "metadata": {},
   "outputs": [
    {
     "name": "stdout",
     "output_type": "stream",
     "text": [
      "0 1 2 3 4 5 6 7 8 9 "
     ]
    }
   ],
   "source": [
    "for i in range(0, 10):\n",
    "    print(i,end=' ')"
   ]
  },
  {
   "cell_type": "markdown",
   "id": "c85ef93f",
   "metadata": {},
   "source": [
    "# Explanation\n",
    "\n",
    "range(0, 10) generates a sequence of numbers from 0 to 9 (inclusive), with a step size of 1. \n",
    "\n",
    "The start value is explicitly set to 0, and the step value is omitted, so it defaults to 1."
   ]
  },
  {
   "cell_type": "code",
   "execution_count": 40,
   "id": "b3674e49",
   "metadata": {},
   "outputs": [
    {
     "name": "stdout",
     "output_type": "stream",
     "text": [
      "0 1 2 3 4 5 6 7 8 9 "
     ]
    }
   ],
   "source": [
    "for i in range(0,10,1):\n",
    "    print(i,end=' ')"
   ]
  },
  {
   "cell_type": "markdown",
   "id": "f645c86d",
   "metadata": {},
   "source": [
    "# Explanation\n",
    "\n",
    "'range(0, 10, 1)'  generates a sequence of numbers from 0 to 9 (inclusive), with a step size of 1.\n",
    "\n",
    " Both the start value and the step value are explicitly set to 0 and 1, respectively."
   ]
  },
  {
   "cell_type": "code",
   "execution_count": null,
   "id": "9528dc1f",
   "metadata": {},
   "outputs": [],
   "source": []
  },
  {
   "cell_type": "markdown",
   "id": "f6d2721c",
   "metadata": {},
   "source": [
    "# 12. Write a short program that prints the numbers 1 to 10 using a for loop. \n",
    "# Then write an equivalent program that prints the numbers 1 to 10 using a while loop."
   ]
  },
  {
   "cell_type": "markdown",
   "id": "ff4e36ef",
   "metadata": {},
   "source": [
    "### Answer"
   ]
  },
  {
   "cell_type": "code",
   "execution_count": 43,
   "id": "c33440e1",
   "metadata": {},
   "outputs": [
    {
     "name": "stdout",
     "output_type": "stream",
     "text": [
      "1\n",
      "2\n",
      "3\n",
      "4\n",
      "5\n",
      "6\n",
      "7\n",
      "8\n",
      "9\n",
      "10\n"
     ]
    }
   ],
   "source": [
    "# program in Python that uses a ‘for` loop to print the numbers from 1 to 10:\n",
    "\n",
    "for i in range(1, 11):\n",
    "    print(i)"
   ]
  },
  {
   "cell_type": "code",
   "execution_count": 45,
   "id": "418ad10d",
   "metadata": {},
   "outputs": [
    {
     "name": "stdout",
     "output_type": "stream",
     "text": [
      "1\n",
      "2\n",
      "3\n",
      "4\n",
      "5\n",
      "6\n",
      "7\n",
      "8\n",
      "9\n",
      "10\n"
     ]
    }
   ],
   "source": [
    "#Here's an example program in Python that uses a `while` loop to print the numbers from 1 to 10:\n",
    "\n",
    "i = 1\n",
    "while i <= 10:\n",
    "    print(i)\n",
    "    i += 1"
   ]
  },
  {
   "cell_type": "code",
   "execution_count": null,
   "id": "a9f14363",
   "metadata": {},
   "outputs": [],
   "source": []
  },
  {
   "cell_type": "markdown",
   "id": "6ff43b55",
   "metadata": {},
   "source": [
    "# 13. If you had a function named bacon() inside a module named spam, how would you call it after importing spam?\n",
    "# After importing the `spam` module, you can call the `bacon()` function using the dot notation as follows:#\n",
    "\n",
    "\n",
    "\n",
    "\n"
   ]
  },
  {
   "cell_type": "markdown",
   "id": "3db792eb",
   "metadata": {},
   "source": [
    "### Answer"
   ]
  },
  {
   "cell_type": "markdown",
   "id": "0edec742",
   "metadata": {},
   "source": [
    "import spam\n",
    "\n",
    "spam.bacon()"
   ]
  }
 ],
 "metadata": {
  "kernelspec": {
   "display_name": "Python 3 (ipykernel)",
   "language": "python",
   "name": "python3"
  },
  "language_info": {
   "codemirror_mode": {
    "name": "ipython",
    "version": 3
   },
   "file_extension": ".py",
   "mimetype": "text/x-python",
   "name": "python",
   "nbconvert_exporter": "python",
   "pygments_lexer": "ipython3",
   "version": "3.10.9"
  }
 },
 "nbformat": 4,
 "nbformat_minor": 5
}

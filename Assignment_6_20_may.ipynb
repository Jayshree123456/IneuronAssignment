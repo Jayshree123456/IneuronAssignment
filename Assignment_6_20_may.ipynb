{
 "cells": [
  {
   "cell_type": "markdown",
   "id": "430e2782",
   "metadata": {},
   "source": [
    "# Assignment 6"
   ]
  },
  {
   "cell_type": "code",
   "execution_count": null,
   "id": "fb50ff44",
   "metadata": {},
   "outputs": [],
   "source": []
  },
  {
   "cell_type": "markdown",
   "id": "23a2584d",
   "metadata": {},
   "source": [
    "# Q.1. What are keywords in python? Using the keyword library, print all the python keywords. "
   ]
  },
  {
   "cell_type": "markdown",
   "id": "7a3914a5",
   "metadata": {},
   "source": [
    "### Answer"
   ]
  },
  {
   "cell_type": "markdown",
   "id": "0eab29d6",
   "metadata": {},
   "source": [
    "* Keywords in Python are reserved words that have special meaning and cannot be used as variable names or identifiers.   \n",
    "\n",
    "* These words are used to define the syntax and structure of the Python language.  \n",
    "\n",
    "* In Python, you can use the keyword module to get a list of all the keywords in the language.   \n",
    "\n",
    "* Here's an example:  \n",
    "\n",
    "import keyword\n",
    "\n",
    "# get all keywords in Python\n",
    "all_keywords = keyword.kwlist\n",
    "# print all keywords\n",
    "print(all_keywords)\n",
    "\n",
    "\n",
    "* This will output the following list of keywords:\n",
    "\n",
    "['False', 'None', 'True', 'and', 'as', 'assert', 'async', 'await', 'break', 'class', 'continue', 'def', 'del', 'elif',   \n",
    " 'else', 'except', 'finally', 'for', 'from', 'global', 'if', 'import', 'in', 'is', 'lambda', 'nonlocal', 'not', 'or', 'pass',   \n",
    " 'raise', 'return', 'try', 'while', 'with', 'yield']  \n",
    "\n",
    "* These are all the 35 keywords in Python as of the current version (Python 3.10).\n",
    "* Note that keywords are case-sensitive and cannot be used as variable names or identifiers in your Python code."
   ]
  },
  {
   "cell_type": "code",
   "execution_count": null,
   "id": "8534cb16",
   "metadata": {},
   "outputs": [],
   "source": [
    "import keyword\n",
    "all_keywords = keyword.kwlist\n",
    "print(all_keywords)"
   ]
  },
  {
   "cell_type": "code",
   "execution_count": null,
   "id": "0468cb64",
   "metadata": {},
   "outputs": [],
   "source": []
  },
  {
   "cell_type": "markdown",
   "id": "809f7031",
   "metadata": {},
   "source": [
    "# Q.2. What are the rules to create variables in python? "
   ]
  },
  {
   "cell_type": "markdown",
   "id": "fd6d0edb",
   "metadata": {},
   "source": [
    "### Answer"
   ]
  },
  {
   "cell_type": "markdown",
   "id": "6d134246",
   "metadata": {},
   "source": [
    "In Python, variables are used to store data values. Here are the rules to create variables in Python:\n",
    "\n",
    "* Variable names can only contain letters (a to z, A to Z), digits (0 to 9), and underscores (_).   \n",
    "\n",
    "\n",
    "* They cannot contain spaces or special characters such as @, #, $, %, etc.\n",
    "\n",
    "\n",
    "* Variable names must start with a letter or an underscore. They cannot start with a digit.  \n",
    "\n",
    "\n",
    "* Variable names are case-sensitive. For example, myVar and myvar are two different variables.  \n",
    "\n",
    "\n",
    "* Python has some reserved keywords that cannot be used as variable names. Examples of these keywords include \n",
    "  if, else, for, while, class, def, return, and, or, not, in, is, try, except, finally, global, nonlocal, and lambda.  \n",
    "  \n",
    "  \n",
    "* Variable names should be descriptive and meaningful, so that other programmers can easily understand what the variable \n",
    "  represents.  \n",
    "  \n",
    "  \n",
    "* Python uses dynamic typing, which means that the data type of a variable is determined at runtime based on the value \n",
    "  assigned to it. Therefore, you do not need to specify the data type of the variable when you create it.  \n",
    "  \n",
    "  "
   ]
  },
  {
   "cell_type": "code",
   "execution_count": null,
   "id": "df3f7e8c",
   "metadata": {},
   "outputs": [],
   "source": []
  },
  {
   "cell_type": "markdown",
   "id": "5e3e8c30",
   "metadata": {},
   "source": [
    "# Q.3. What are the standards and conventions followed for the nomenclature of variables in python to improve code readability and maintainability? \n",
    "\n",
    "\n"
   ]
  },
  {
   "cell_type": "markdown",
   "id": "849f78de",
   "metadata": {},
   "source": [
    "### Answer"
   ]
  },
  {
   "cell_type": "markdown",
   "id": "6c633121",
   "metadata": {},
   "source": [
    "Following certain standards and conventions for variable naming in Python can improve the readability and maintainability \n",
    "of your code. Here are some common conventions that are widely used in the Python community:\n",
    "    \n",
    "    \n",
    "* **Use descriptive names:** \n",
    "     Variable names should be descriptive and meaningful, so that other programmers can easily understand what the variable     represents. For example, use first_name instead of fn and num_of_students instead of n. \n",
    "     \n",
    "\n",
    "* **Use lowercase letters:**\n",
    "     Variable names should always start with a lowercase letter, unless they are global constants, which should be in   all uppercase letters. For example, use my_var instead of MyVar.\n",
    "     \n",
    "     \n",
    "* **Use underscores to separate words:** \n",
    "     When a variable name is made up of multiple words, use underscores to separate the words. For example, use  first_name instead of firstName or firstname.\n",
    "     \n",
    "     \n",
    "* **Avoid using reserved keywords:**\n",
    "     Do not use reserved keywords in Python as variable names. Reserved keywords are words that have special meaning   in   Python, such as if, else, while, for, class, def, import, etc.\n",
    "     \n",
    "\n",
    "* **Use singular nouns for objects:**\n",
    "    Use singular nouns to name objects, such as book instead of books or book_list.\n",
    "    \n",
    "    \n",
    "* **Use plural nouns for collections:** \n",
    "   Use plural nouns to name collections of objects, such as books instead of book.\n",
    "   \n",
    "\n",
    "* **Use camelCase for method names:** \n",
    "  Use camelCase to name methods, which are functions that belong to a class. For example, use getFirstName() instead of get_first_name().\n",
    "  \n",
    "  \n",
    "* **Use ALL_CAPS for constants:** Use ALL_CAPS to name global constants, which are variables that do not change throughout the program. For example, use MAX_VALUE instead of max_value.\n"
   ]
  },
  {
   "cell_type": "code",
   "execution_count": null,
   "id": "9a9d66ae",
   "metadata": {},
   "outputs": [],
   "source": []
  },
  {
   "cell_type": "markdown",
   "id": "832be79d",
   "metadata": {},
   "source": [
    "# Q.4. What will happen if a keyword is used as a variable name? "
   ]
  },
  {
   "cell_type": "markdown",
   "id": "6606f632",
   "metadata": {},
   "source": [
    "### Answer"
   ]
  },
  {
   "cell_type": "markdown",
   "id": "cb2b42a5",
   "metadata": {},
   "source": [
    "* if a keyword is used as a variable name in a programming language, it will typically result in a **syntax error or \n",
    "    unexpected behavior.** Keywords are reserved words in a programming language that have a special meaning and purpose \n",
    "    defined by the language specification. They are used to identify specific parts of the language syntax and cannot be \n",
    "    used as variable or function names.\n",
    "    \n",
    "    \n",
    "    \n",
    "* When a keyword is used as a variable name, the compiler or interpreter will typically generate an error message, \n",
    "indicating that the name is not allowed or that the code is invalid. In some cases, the code may compile or run without \n",
    "error, but the behavior of the program may be unexpected or incorrect."
   ]
  },
  {
   "cell_type": "code",
   "execution_count": null,
   "id": "f76f1d07",
   "metadata": {},
   "outputs": [],
   "source": []
  },
  {
   "cell_type": "markdown",
   "id": "5e15ffae",
   "metadata": {},
   "source": [
    "# Q.5. For what purpose def keyword is used?\n"
   ]
  },
  {
   "cell_type": "markdown",
   "id": "55ad1165",
   "metadata": {},
   "source": [
    "### Answer"
   ]
  },
  {
   "cell_type": "markdown",
   "id": "08158337",
   "metadata": {},
   "source": [
    "* In Python, the def keyword is used to define a function. A function is a block of code that performs a specific task, and it can be called from other parts of the program.\n",
    "* The general syntax for defining a function in Python is as follows:\n",
    "\n",
    "    def function_name(parameters):\n",
    "        code to be executed \n",
    "        return value\n",
    "* The def keyword is followed by the name of the function, and a set of parentheses that may contain parameters that the function accepts. The code to be executed is then indented after the colon.\n",
    "* The return keyword is used to specify the value that the function should return when it is called. If the function does not return a value, the return statement can be omitted.\n",
    "* Here is an example of a function that takes two parameters and returns their sum:\n",
    "\n",
    "   def add_numbers(x, y):\n",
    "     \n",
    "     sum = x + y\n",
    "     \n",
    "     return sum\n",
    "     \n",
    "* This function can be called from other parts of the program by passing two arguments:\n",
    "\n",
    "    result = add_numbers(3, 5)\n",
    "    \n",
    "    print(result) # Output: 8\n",
    "\n",
    "\n"
   ]
  },
  {
   "cell_type": "code",
   "execution_count": null,
   "id": "c2345f2f",
   "metadata": {},
   "outputs": [],
   "source": [
    "def add_numbers(x,y):\n",
    "    sum = x + y\n",
    "    return sum\n",
    "\n",
    "result = add_numbers(3,5)\n",
    "print('Result is : ',result)"
   ]
  },
  {
   "cell_type": "code",
   "execution_count": null,
   "id": "ee379004",
   "metadata": {},
   "outputs": [],
   "source": []
  },
  {
   "cell_type": "markdown",
   "id": "ecb0c094",
   "metadata": {},
   "source": [
    "# Q.6. What is the operation of this special character ‘\\’? "
   ]
  },
  {
   "cell_type": "markdown",
   "id": "78587bc9",
   "metadata": {},
   "source": [
    "### Answer"
   ]
  },
  {
   "cell_type": "markdown",
   "id": "d961aed5",
   "metadata": {},
   "source": [
    "•\tIn Python (and many other programming languages), the backslash character \\ is used as an escape character. This means that it is used to indicate that the next character(s) should be treated specially.  \n",
    "\n",
    "•\tHere are some examples of how the backslash character is used in Python:\n",
    "1.\t**To include special characters in a string literal:** \n",
    "\n",
    "\n",
    "      Certain characters, such as newline (\\n) and tab (\\t), have special meaning in a string literal. To include these   characters in a string, you can use the backslash character as an escape character. For example:\n",
    "\n",
    "       print(\"Hello\\nWorld\")  # Output: Hello World\n",
    "\n",
    "2.\t**To represent special Unicode characters:** \n",
    "\n",
    "       Unicode characters can be represented using escape sequences of the form \\uXXXX or \\UXXXXXXXX, where XXXX or XXXXXXXX is the hexadecimal code point of the character. For example:\n",
    "\n",
    "       print(\"\\u2713\") # Output: ✓\n",
    "\n",
    "3.\t**To break long lines of code:** \n",
    "        The backslash character can be used to break a long line of code into multiple lines for readability. For example:\n",
    "\n",
    "         my_list = [1, 2, 3, \\\n",
    "                    4, 5, 6]\n",
    "\n",
    "In this example, the backslash character indicates that the list should continue on the next line.\n",
    "\n"
   ]
  },
  {
   "cell_type": "markdown",
   "id": "302a45f9",
   "metadata": {},
   "source": []
  },
  {
   "cell_type": "markdown",
   "id": "22511583",
   "metadata": {},
   "source": [
    "# Q.7. Give an example of the following conditions: (i) Homogeneous list (ii) Heterogeneous set (iii) Homogeneous tuple \n",
    "\n"
   ]
  },
  {
   "cell_type": "markdown",
   "id": "7898c6eb",
   "metadata": {},
   "source": [
    "### Answer"
   ]
  },
  {
   "cell_type": "markdown",
   "id": "be196552",
   "metadata": {},
   "source": [
    "Sure, here are some examples of homogeneous list, heterogeneous set, and homogeneous tuple in Python:\n",
    "    \n",
    "**1.Homogeneous List:** A homogeneous list is a list that contains elements of the same data type. \n",
    "\n",
    "Here's an example:\n",
    "\n",
    "A homogeneous list of integers\n",
    "\n",
    "my_list = [1, 2, 3, 4, 5]\n",
    "\n",
    "In this example, my_list is a list of integers, and all of the elements in the list are of the same type.\n"
   ]
  },
  {
   "cell_type": "markdown",
   "id": "19b02d03",
   "metadata": {},
   "source": [
    "**2 Heterogeneous Set:** A heterogeneous set is a set that contains elements of different data types. Here's an example:\n",
    "\n",
    "A heterogeneous set of different data types\n",
    "\n",
    "my_set = {1, \"hello\", 3.14, True}\n",
    "\n",
    "In this example, my_set is a set that contains elements of different types, including an integer, a string, a floating-point number, and a boolean value.\n",
    "\n"
   ]
  },
  {
   "cell_type": "markdown",
   "id": "98502607",
   "metadata": {},
   "source": [
    "**3.Homogeneous Tuple:** A homogeneous tuple is a tuple that contains elements of the same data type. Here's an example:\n",
    "\n",
    "A homogeneous tuple of strings\n",
    "\n",
    "my_tuple = (\"apple\", \"banana\", \"cherry\", \"durian\")\n",
    "\n",
    "In this example, my_tuple is a tuple that contains elements of the same type, which are all strings.\n",
    "             "
   ]
  },
  {
   "cell_type": "code",
   "execution_count": null,
   "id": "c6e9d406",
   "metadata": {},
   "outputs": [],
   "source": []
  },
  {
   "cell_type": "markdown",
   "id": "b97ddf0d",
   "metadata": {},
   "source": [
    "# Q.8. Explain the mutable and immutable data types with proper explanation & examples.\n",
    "               "
   ]
  },
  {
   "cell_type": "markdown",
   "id": "4af86804",
   "metadata": {},
   "source": [
    "### Amswer"
   ]
  },
  {
   "cell_type": "markdown",
   "id": "20a20f72",
   "metadata": {},
   "source": [
    " In Python, data types can be classified as either mutable or immutable.  \n",
    " \n",
    "Mutable data types are those whose values can be changed after they are created,   \n",
    "\n",
    "while immutable data types are those whose values cannot be changed after they are created.\n",
    "\n",
    "\n",
    "\n",
    "\n",
    "Here are some examples of mutable and immutable data types in Python:\n",
    "\n",
    "\n",
    "\n",
    "**Mutable Data Types**:\n",
    "\n",
    "**a. Lists:**\n",
    "Lists are mutable in Python.   \n",
    "\n",
    "This means that you can change their values after they are created. For example:  \n",
    "\n",
    "    my_list = [1, 2, 3]  \n",
    "\n",
    "    my_list[0] = 4  \n",
    "\n",
    "    print(my_list) # Output: [4, 2, 3]  \n",
    "\n",
    "In this example, the first element of the list is changed from 1 to 4.  \n",
    "\n",
    "**b. Dictionaries:** \n",
    "Dictionaries are also mutable in Python. \n",
    "\n",
    "This means that you can add, remove, or modify key-value pairs after the dictionary is created. For example:\n",
    "\n",
    "    my_dict = {\"one\": 1, \"two\": 2, \"three\": 3}\n",
    "\n",
    "    my_dict[\"one\"] = 4\n",
    "\n",
    "    my_dict[\"four\"] = 4\n",
    "\n",
    "    del my_dict[\"two\"]\n",
    "\n",
    "    print(my_dict) # Output: {\"one\": 4, \"three\": 3, \"four\": 4}\n",
    "\n",
    "In this example, the value associated with the key \"one\" is changed from 1 to 4, a new key-value pair \"four\": 4 is added, and the key-value pair \"two\": 2 is removed.\n",
    "\n",
    "**Immutable Data Types:**\n",
    "\n",
    "**a. Strings:** Strings are immutable in Python. \n",
    "\n",
    "This means that you cannot change their values after they are created. For example:\n",
    "\n",
    "    my_string = \"Hello, World!\"\n",
    "\n",
    "    my_string[0] = \"J\" # raises a TypeError\n",
    "\n",
    "In this example, trying to change the first character of the string to \"J\" raises a TypeError.\n",
    "\n",
    "**b. Tuples:** Tuples are also immutable in Python. \n",
    "\n",
    "This means that you cannot change their values after they are created. For example:\n",
    "\n",
    "    my_tuple = (1, 2, 3)  \n",
    "\n",
    "    my_tuple[0] = 4 # raises a TypeError  \n",
    "\n",
    "In this example, trying to change the first element of the tuple to 4 raises a TypeError.\n"
   ]
  },
  {
   "cell_type": "markdown",
   "id": "93e7eee1",
   "metadata": {},
   "source": [
    "#  Q.9. Write a code to create the given structure using only for loop. "
   ]
  },
  {
   "cell_type": "code",
   "execution_count": null,
   "id": "e5bd6665",
   "metadata": {},
   "outputs": [],
   "source": [
    "   *\n",
    "  ***\n",
    " ***** \n",
    " ******* \n",
    "********* "
   ]
  },
  {
   "cell_type": "markdown",
   "id": "5a333b71",
   "metadata": {},
   "source": [
    "### Answer"
   ]
  },
  {
   "cell_type": "code",
   "execution_count": 14,
   "id": "e1c2c778",
   "metadata": {},
   "outputs": [
    {
     "name": "stdout",
     "output_type": "stream",
     "text": [
      "    *\n",
      "   ***\n",
      "  *****\n",
      " *******\n",
      "*********\n"
     ]
    }
   ],
   "source": [
    "n = 5\n",
    "\n",
    "for i in range(n):\n",
    "    for j in range(n-i-1):\n",
    "        print(\" \", end=\"\")\n",
    "    for j in range(2*i+1):\n",
    "        print(\"*\", end=\"\")\n",
    "    print()\n"
   ]
  },
  {
   "cell_type": "code",
   "execution_count": null,
   "id": "e282dc8e",
   "metadata": {},
   "outputs": [],
   "source": []
  },
  {
   "cell_type": "markdown",
   "id": "ebedec2b",
   "metadata": {},
   "source": [
    "# Q.10. Write a code to create the given structure using while loop. "
   ]
  },
  {
   "cell_type": "code",
   "execution_count": null,
   "id": "6375e42e",
   "metadata": {},
   "outputs": [],
   "source": [
    "||||||||| \n",
    " ||||||| \n",
    "  ||||| \n",
    "   |||"
   ]
  },
  {
   "cell_type": "code",
   "execution_count": 16,
   "id": "8a49c62f",
   "metadata": {},
   "outputs": [
    {
     "name": "stdout",
     "output_type": "stream",
     "text": [
      "     |||||||||\n",
      "      |||||||\n",
      "       |||||\n",
      "        |||\n",
      "         |\n"
     ]
    }
   ],
   "source": [
    "n = 9\n",
    "\n",
    "for i in range(n//2, -1, -1):\n",
    "    for j in range(n-i):\n",
    "        print(\" \", end=\"\")\n",
    "    for j in range(2*i+1):\n",
    "        print(\"|\", end=\"\")\n",
    "    print()"
   ]
  },
  {
   "cell_type": "code",
   "execution_count": null,
   "id": "508d7034",
   "metadata": {},
   "outputs": [],
   "source": []
  }
 ],
 "metadata": {
  "kernelspec": {
   "display_name": "Python 3 (ipykernel)",
   "language": "python",
   "name": "python3"
  },
  "language_info": {
   "codemirror_mode": {
    "name": "ipython",
    "version": 3
   },
   "file_extension": ".py",
   "mimetype": "text/x-python",
   "name": "python",
   "nbconvert_exporter": "python",
   "pygments_lexer": "ipython3",
   "version": "3.10.9"
  }
 },
 "nbformat": 4,
 "nbformat_minor": 5
}

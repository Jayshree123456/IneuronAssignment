{
 "cells": [
  {
   "cell_type": "markdown",
   "id": "9d078d8c",
   "metadata": {},
   "source": [
    "# 1. Explain what inheritance is in object-oriented programming and why it is used. \n",
    "\n"
   ]
  },
  {
   "cell_type": "markdown",
   "id": "1445e12b",
   "metadata": {},
   "source": [
    "### Answer"
   ]
  },
  {
   "cell_type": "markdown",
   "id": "670a4973",
   "metadata": {},
   "source": [
    "• Inheritance is a fundamental concept in object-oriented programming (OOP) that allows a new class (subclass or derived class)\n",
    "   to inherit properties (attributes and methods) from an existing class (superclass or base class). \n",
    "   \n",
    "• In Python, inheritance is a way to create a new class that is based on an existing class, allowing you to reuse and \n",
    "  extend code.\n",
    "\n",
    "\n"
   ]
  },
  {
   "cell_type": "markdown",
   "id": "4e34abb8",
   "metadata": {},
   "source": [
    "Here's a breakdown of what inheritance is and why it's used:"
   ]
  },
  {
   "cell_type": "markdown",
   "id": "b143bbc6",
   "metadata": {},
   "source": [
    "**1. Inheriting Properties:**\n",
    "\n",
    "* When a subclass inherits from a superclass, it automatically gains access to all the attributes and methods of the superclass.\n",
    "\n",
    "\n",
    "\n",
    "* This promotes code reuse and avoids duplicating code for common functionality. You can define a set of properties in a   superclass and then create multiple subclasses that share and extend those properties.\n",
    "\n"
   ]
  },
  {
   "cell_type": "markdown",
   "id": "42a34b5a",
   "metadata": {},
   "source": [
    "**2. Extending Functionality:**\n",
    "\n",
    "* Inheritance allows you to add new attributes and methods to a subclass while maintaining the attributes and methods inherited   from the superclass.\n",
    "\n",
    "\n",
    "\n",
    "* This helps in creating specialized classes that have specific features in addition to the general features inherited from the   superclass.\n"
   ]
  },
  {
   "cell_type": "markdown",
   "id": "567f1f9f",
   "metadata": {},
   "source": [
    "**3. Overriding Behavior:**\n",
    "\n",
    "* Subclasses can override or modify the behavior of methods inherited from the superclass. This allows customization of behavior   to suit the needs of the subclass.\n",
    "\n",
    "\n",
    "* It provides a way to tailor functionality to the specific requirements of each subclass.\n",
    "\n"
   ]
  },
  {
   "cell_type": "markdown",
   "id": "8f75c7da",
   "metadata": {},
   "source": [
    "**4. Organizing Code:**\n",
    "\n",
    "* Inheritance helps organize code hierarchically. You can group related classes under a common superclass, making it easier to     understand and manage the relationships between classes.\n",
    "\n",
    "\n",
    "\n"
   ]
  },
  {
   "cell_type": "markdown",
   "id": "be84a59c",
   "metadata": {},
   "source": [
    "**5.Polymorphism:**\n",
    "\n",
    "* Inheritance is a key component of polymorphism, where objects of different classes can be treated as instances of a common        superclass. This promotes flexibility and allows for more generic and reusable code.\n"
   ]
  },
  {
   "cell_type": "markdown",
   "id": "c7df0291",
   "metadata": {},
   "source": [
    "Example:\n",
    "\n",
    "\n",
    "Let's consider a simple example with an Animal superclass and two subclasses, Dog and Cat:\n"
   ]
  },
  {
   "cell_type": "code",
   "execution_count": null,
   "id": "3a804c8d",
   "metadata": {},
   "outputs": [],
   "source": [
    "class Animal:\n",
    "    def __init__(self, name):\n",
    "        self.name = name\n",
    "\n",
    "    def speak(self):\n",
    "        pass\n",
    "\n",
    "class Dog(Animal):\n",
    "    def speak(self):\n",
    "        return f\"{self.name} says Woof!\"\n",
    "\n",
    "class Cat(Animal):\n",
    "    def speak(self):\n",
    "        return f\"{self.name} says Meow!\"\n"
   ]
  },
  {
   "cell_type": "code",
   "execution_count": null,
   "id": "3329c640",
   "metadata": {},
   "outputs": [],
   "source": []
  },
  {
   "cell_type": "markdown",
   "id": "4ea613d4",
   "metadata": {},
   "source": [
    "# 2.Discuss the concept of single inheritance and multiple inheritance, highlighting their differences and advantages. \n",
    "\n"
   ]
  },
  {
   "cell_type": "markdown",
   "id": "2184a8dd",
   "metadata": {},
   "source": [
    "### Answer"
   ]
  },
  {
   "cell_type": "markdown",
   "id": "2450214c",
   "metadata": {},
   "source": [
    "**Single Inheritance:**\n",
    "\n",
    "  •\tSingle inheritance is a type of inheritance in which a class inherits properties (attributes and methods) from a single   superclass. \n",
    "\n",
    "\n",
    " •\tIn other words, each subclass has only one immediate parent class. \n",
    "\n",
    "\n",
    "*   This is a simpler and more straightforward form of inheritance.\n"
   ]
  },
  {
   "cell_type": "markdown",
   "id": "9452d8b3",
   "metadata": {},
   "source": [
    "### Example:"
   ]
  },
  {
   "cell_type": "code",
   "execution_count": 2,
   "id": "e4a432b2",
   "metadata": {},
   "outputs": [],
   "source": [
    "\n",
    "class Animal:\n",
    "    def speak(self):\n",
    "        pass\n",
    "\n",
    "class Dog(Animal):\n",
    "    def speak(self):\n",
    "        return \"Woof!\"\n",
    "\n",
    "class Cat(Animal):\n",
    "    def speak(self):\n",
    "        return \"Meow!\""
   ]
  },
  {
   "cell_type": "markdown",
   "id": "dc637189",
   "metadata": {},
   "source": [
    "**Advantages of Single Inheritance:**\n",
    "\n",
    "\n",
    "**1.\tSimplicity:** \n",
    "\n",
    "  Single inheritance is easier to understand and manage since each class has only one direct parent class.\n",
    "\n",
    "**2.\tLess Ambiguity:**\n",
    "  \n",
    "  There is no confusion about which superclass's properties to inherit when dealing with a single parent.\n"
   ]
  },
  {
   "cell_type": "code",
   "execution_count": null,
   "id": "2529744b",
   "metadata": {},
   "outputs": [],
   "source": []
  },
  {
   "cell_type": "markdown",
   "id": "aa558c13",
   "metadata": {},
   "source": [
    "\n",
    "**Multiple Inheritance:**\n",
    "•\tMultiple inheritance is a type of inheritance in which a class inherits properties from multiple superclasses.\n",
    "\n",
    "•\tThis allows a subclass to combine features from different parent classes.\n",
    "\n",
    "•\tPython supports multiple inheritance, allowing a class to inherit from multiple classes.\n",
    "\n",
    "\n",
    "\n",
    "\n",
    "\n",
    "\n",
    "\n",
    "\n",
    "\n"
   ]
  },
  {
   "cell_type": "markdown",
   "id": "da009bc2",
   "metadata": {},
   "source": [
    "### Example:"
   ]
  },
  {
   "cell_type": "code",
   "execution_count": 3,
   "id": "420c6320",
   "metadata": {},
   "outputs": [],
   "source": [
    "\n",
    "class Bird:\n",
    "    def fly(self):\n",
    "        pass\n",
    "\n",
    "class Mammal:\n",
    "    def feed_milk(self):\n",
    "        pass\n",
    "    \n",
    "\n",
    "class Bat(Bird, Mammal):\n",
    "    def speak(self):\n",
    "        return \"Screech!\""
   ]
  },
  {
   "cell_type": "markdown",
   "id": "3360f9ad",
   "metadata": {},
   "source": [
    "**Advantages of Multiple Inheritance:**\n"
   ]
  },
  {
   "cell_type": "markdown",
   "id": "07ff70c1",
   "metadata": {},
   "source": [
    "**1.Reuse and Composition:**\n",
    " Multiple inheritance enables a class to inherit features from multiple sources, facilitating code reuse and composition of functionalities.\n",
    " \n",
    " \n",
    "**2.\tFlexibility:** \n",
    " It allows you to create complex class hierarchies that incorporate various traits from different parent classes, promoting modular design.\n"
   ]
  },
  {
   "cell_type": "markdown",
   "id": "98c9cb1e",
   "metadata": {},
   "source": [
    "## **Key Differences:**"
   ]
  },
  {
   "cell_type": "markdown",
   "id": "04a7b519",
   "metadata": {},
   "source": [
    "\n",
    "**1.Number of Superclasses:**\n",
    "\n",
    "**Single Inheritance:** Each subclass has only one immediate parent class.\n",
    "\n",
    "\n",
    "**Multiple Inheritance:** A subclass can have multiple parent classes, inheriting properties from all of them.\n",
    "\n"
   ]
  },
  {
   "cell_type": "markdown",
   "id": "a4c6cf63",
   "metadata": {},
   "source": [
    "**2.Ambiguity:**\n",
    "\n",
    "**Single Inheritance:** There is no ambiguity about which superclass's properties are inherited.\n",
    "\n",
    "**Multiple Inheritance:** Potential ambiguity arises when two or more parent classes have methods with the same name.\n"
   ]
  },
  {
   "cell_type": "markdown",
   "id": "733c6122",
   "metadata": {},
   "source": [
    "**3.Complexity:**\n",
    "\n",
    "**Single Inheritance:** Simpler and easier to manage, suitable for scenarios where classes have a clear hierarchical relationship.\n",
    "\n",
    "**Multiple Inheritance:** More complex but allows for greater flexibility and composition of features.\n",
    "\n"
   ]
  },
  {
   "cell_type": "markdown",
   "id": "fee69762",
   "metadata": {},
   "source": [
    "**4.Method Resolution Order (MRO):**\n",
    "\n",
    "**Single Inheritance:** No issue with method resolution order, as there is only one parent class.\n",
    "\n",
    "\n",
    "**Multiple Inheritance:** Python uses the C3 linearization algorithm to determine the order in which methods are inherited from multiple parent classes.\n",
    "           "
   ]
  },
  {
   "cell_type": "code",
   "execution_count": null,
   "id": "54ce038e",
   "metadata": {},
   "outputs": [],
   "source": []
  },
  {
   "cell_type": "markdown",
   "id": "766ad5b6",
   "metadata": {},
   "source": [
    "# 3.Explain the terms \"base class\" and \"derived class\" in the context of inheritance. "
   ]
  },
  {
   "cell_type": "markdown",
   "id": "935508ac",
   "metadata": {},
   "source": [
    "### Answer"
   ]
  },
  {
   "cell_type": "markdown",
   "id": "69b2066a",
   "metadata": {},
   "source": [
    "**Base Class (Superclass):**\n",
    "\n",
    "\n",
    "•\tA base class, also known as a superclass or parent class, is the class from which another class (derived class) inherits properties (attributes and methods).\n",
    "\n",
    "•\tIt serves as the foundation or blueprint for creating more specialized classes that share its common features.\n",
    "\n",
    "•\tThe base class defines the common attributes and methods that are inherited by its derived classes.\n",
    "\n",
    "•\tDerived classes can extend, override, or add new features to the properties inherited from the base class.\n",
    "\n",
    "\n",
    "\n",
    "\n",
    "\n",
    "\n",
    "\n"
   ]
  },
  {
   "cell_type": "code",
   "execution_count": 2,
   "id": "a1f599a3",
   "metadata": {},
   "outputs": [],
   "source": [
    "class Animal:\n",
    "    def speak(self):\n",
    "        pass\n",
    "\n",
    "class Dog(Animal):  # Dog is a derived class inheriting from Animal (base class)\n",
    "    def speak(self):\n",
    "        return \"Woof!\""
   ]
  },
  {
   "cell_type": "code",
   "execution_count": null,
   "id": "c476840c",
   "metadata": {},
   "outputs": [],
   "source": [
    "In this example, Animal is the base class, and Dog is the derived class that inherits the speak method from Animal."
   ]
  },
  {
   "cell_type": "markdown",
   "id": "0bf0301f",
   "metadata": {},
   "source": [
    "**Derived Class (Subclass):**\n",
    "\n",
    "•\tA derived class, also known as a subclass or child class, is a class that inherits properties from a base class.\n",
    "\n",
    "•\tIt specializes or extends the behavior of the base class by adding new features or modifying existing ones.\n",
    "\n",
    "•\tA derived class can also define its own attributes and methods in addition to those inherited from the base class.\n",
    "\n",
    "•\tIt can override methods from the base class to provide customized behavior specific to the derived class.\n",
    "\n"
   ]
  },
  {
   "cell_type": "markdown",
   "id": "d0ec5592",
   "metadata": {},
   "source": [
    "Example"
   ]
  },
  {
   "cell_type": "code",
   "execution_count": 5,
   "id": "504f50b7",
   "metadata": {},
   "outputs": [],
   "source": [
    "class Animal:\n",
    "    def speak(self):\n",
    "        pass\n",
    "\n",
    "class Dog(Animal):  # Dog is a derived class inheriting from Animal (base class)\n",
    "    def speak(self):\n",
    "        return \"Woof!\"\n",
    "\n"
   ]
  },
  {
   "cell_type": "markdown",
   "id": "b6dfbcff",
   "metadata": {},
   "source": [
    "In this example, Dog is the derived class that inherits the speak method from the base class Animal."
   ]
  },
  {
   "cell_type": "code",
   "execution_count": null,
   "id": "600a073c",
   "metadata": {},
   "outputs": [],
   "source": []
  },
  {
   "cell_type": "markdown",
   "id": "a7465f89",
   "metadata": {},
   "source": [
    "# 4. What is the significance of the \"protected\" access modifier in inheritance? How does it differ from \"private\" and \"public\" modifiers? \n"
   ]
  },
  {
   "cell_type": "code",
   "execution_count": 6,
   "id": "262b0566",
   "metadata": {},
   "outputs": [],
   "source": [
    "### Answer"
   ]
  },
  {
   "cell_type": "markdown",
   "id": "296a33c3",
   "metadata": {},
   "source": [
    "**Significance of \"Protected\" Access in Inheritance:**\n",
    "\n",
    "\n",
    "**Encapsulation and Information Hiding:**\n",
    "\n",
    "* By marking members as protected, you signal to other programmers that these members are intended for internal use within the class hierarchy. \n",
    "* This helps maintain encapsulation and information hiding, preventing unintended access and modification.\n",
    "\n",
    "**Subclass Extension:** \n",
    "\n",
    "•\tProtected members are accessible within subclasses, allowing you to extend or modify the behavior of the base class while still maintaining some level of access control.\n",
    "\n",
    "**Code Maintenance:**\n",
    "\n",
    "• By using the protected convention, you make your code more readable and maintainable for others who might work on your   codebase.\n",
    "\n",
    "* It helps them understand which members are meant for internal use within the class hierarchy.\n"
   ]
  },
  {
   "cell_type": "markdown",
   "id": "fbc09562",
   "metadata": {},
   "source": [
    "\n",
    "\n",
    "**Public Modifier:**\n",
    "\n",
    "•\tMembers (attributes and methods) with no leading underscore are considered public.\n",
    "\n",
    "•\tPublic members are accessible from anywhere, both within the class and outside the class.\n",
    "\n",
    "•\tThere is no access restriction, and anyone can access and modify public members.\n",
    "\n"
   ]
  },
  {
   "cell_type": "code",
   "execution_count": 7,
   "id": "d54cb0bb",
   "metadata": {},
   "outputs": [
    {
     "name": "stdout",
     "output_type": "stream",
     "text": [
      "This is a public method\n"
     ]
    }
   ],
   "source": [
    "class MyClass:\n",
    "    def public_method(self):\n",
    "        print(\"This is a public method\")\n",
    "\n",
    "obj = MyClass()\n",
    "obj.public_method()  # Accessible and callable"
   ]
  },
  {
   "cell_type": "markdown",
   "id": "bbd816e3",
   "metadata": {},
   "source": [
    "**Private Modifier:**\n",
    "\n",
    "•\tMembers with a double leading underscore (e.g., __private_var) are considered private.\n",
    "\n",
    "•\tPrivate members are intended to be used only within the class where they are defined.\n",
    "\n",
    "•\tPython performs name mangling, altering the name of the member to make it less accessible from outside the class.\n",
    "\n"
   ]
  },
  {
   "cell_type": "code",
   "execution_count": null,
   "id": "5f9e86ca",
   "metadata": {},
   "outputs": [],
   "source": [
    "Example:"
   ]
  },
  {
   "cell_type": "code",
   "execution_count": 8,
   "id": "34b8bce5",
   "metadata": {},
   "outputs": [
    {
     "ename": "AttributeError",
     "evalue": "'MyClass' object has no attribute '__private_var'",
     "output_type": "error",
     "traceback": [
      "\u001b[1;31m---------------------------------------------------------------------------\u001b[0m",
      "\u001b[1;31mAttributeError\u001b[0m                            Traceback (most recent call last)",
      "Cell \u001b[1;32mIn [8], line 6\u001b[0m\n\u001b[0;32m      3\u001b[0m         \u001b[38;5;28mself\u001b[39m\u001b[38;5;241m.\u001b[39m__private_var \u001b[38;5;241m=\u001b[39m \u001b[38;5;241m42\u001b[39m\n\u001b[0;32m      5\u001b[0m obj \u001b[38;5;241m=\u001b[39m MyClass()\n\u001b[1;32m----> 6\u001b[0m \u001b[38;5;28mprint\u001b[39m(\u001b[43mobj\u001b[49m\u001b[38;5;241;43m.\u001b[39;49m\u001b[43m__private_var\u001b[49m)  \u001b[38;5;66;03m# Raises an AttributeError due to name mangling\u001b[39;00m\n",
      "\u001b[1;31mAttributeError\u001b[0m: 'MyClass' object has no attribute '__private_var'"
     ]
    }
   ],
   "source": [
    "class MyClass:\n",
    "    def __init__(self):\n",
    "        self.__private_var = 42\n",
    "\n",
    "obj = MyClass()\n",
    "print(obj.__private_var)  # Raises an AttributeError due to name mangling"
   ]
  },
  {
   "cell_type": "markdown",
   "id": "4f9ac239",
   "metadata": {},
   "source": [
    "**Protected Modifier:**\n",
    "\n",
    "•\tMembers with a single leading underscore (e.g., _protected_var) are considered protected.\n",
    "\n",
    "•\tProtected members are meant to be used within the class and its subclasses, but this is a naming convention; there's no strict enforcement of access control.\n",
    "\n",
    "•\tOutside the class and its subclasses, protected members can still be accessed, but they are considered non-public and should be treated as such.\n"
   ]
  },
  {
   "cell_type": "markdown",
   "id": "1bc2840d",
   "metadata": {},
   "source": [
    "Example:"
   ]
  },
  {
   "cell_type": "code",
   "execution_count": 9,
   "id": "09b7803c",
   "metadata": {},
   "outputs": [
    {
     "name": "stdout",
     "output_type": "stream",
     "text": [
      "42\n"
     ]
    }
   ],
   "source": [
    "\n",
    "class MyClass:\n",
    "    def __init__(self):\n",
    "        self._protected_var = 42\n",
    "\n",
    "obj = MyClass()\n",
    "print(obj._protected_var)  # Accessible, but treated as protected\n",
    "\n",
    "\n"
   ]
  },
  {
   "cell_type": "code",
   "execution_count": null,
   "id": "d4905372",
   "metadata": {},
   "outputs": [],
   "source": []
  },
  {
   "cell_type": "markdown",
   "id": "013f3fe3",
   "metadata": {},
   "source": [
    "# 5. What is the purpose of the \"super\" keyword in inheritance? Provide an example. \n"
   ]
  },
  {
   "cell_type": "code",
   "execution_count": 10,
   "id": "8f20252c",
   "metadata": {},
   "outputs": [],
   "source": [
    "### Answer"
   ]
  },
  {
   "cell_type": "markdown",
   "id": "bd892057",
   "metadata": {},
   "source": [
    "•\tThe super keyword in Python is used to call methods from a parent (superclass) class in a class hierarchy.\n",
    "\n",
    "•\tIt is particularly useful in cases of multiple inheritance when you want to invoke a method from a specific superclass, ensuring proper method resolution order (MRO).\n",
    "\n",
    "\n",
    "•\tThe main purpose of the super keyword is to facilitate cooperative inheritance, allowing subclasses to work together smoothly even when they inherit from multiple superclasses.\n"
   ]
  },
  {
   "cell_type": "markdown",
   "id": "b8d2946f",
   "metadata": {},
   "source": [
    "Here's an example to illustrate the use of the super keyword:"
   ]
  },
  {
   "cell_type": "code",
   "execution_count": 11,
   "id": "2961c260",
   "metadata": {},
   "outputs": [
    {
     "name": "stdout",
     "output_type": "stream",
     "text": [
      "Dog barks\n"
     ]
    }
   ],
   "source": [
    "\n",
    "class Animal:\n",
    "    def speak(self):\n",
    "        return \"Animal speaks\"\n",
    "\n",
    "class Dog(Animal):\n",
    "    def speak(self):\n",
    "        return \"Dog barks\"\n",
    "\n",
    "class Cat(Animal):\n",
    "    def speak(self):\n",
    "        return \"Cat meows\"\n",
    "\n",
    "class Pet(Dog, Cat):\n",
    "    def speak(self):\n",
    "        # Using super to call the speak method of the first parent class\n",
    "        return super().speak()  # This calls Dog's speak method\n",
    "\n",
    "# Create an instance of Pet\n",
    "pet = Pet()\n",
    "print(pet.speak())  # Output: Dog barks\n",
    "\n"
   ]
  },
  {
   "cell_type": "code",
   "execution_count": null,
   "id": "09087ff1",
   "metadata": {},
   "outputs": [],
   "source": []
  },
  {
   "cell_type": "markdown",
   "id": "b710fb63",
   "metadata": {},
   "source": [
    "# 6. Create a base class called \"Vehicle\" with attributes like \"make\", \"model\", and \"year\". Then, create a derived class called \"Car\" that inherits from \"Vehicle\" and adds an attribute called \"fuel_type\". Implement appropriate methods in both classes. "
   ]
  },
  {
   "cell_type": "markdown",
   "id": "a49bb3e0",
   "metadata": {},
   "source": [
    "### Answer"
   ]
  },
  {
   "cell_type": "code",
   "execution_count": 12,
   "id": "016c841d",
   "metadata": {},
   "outputs": [
    {
     "name": "stdout",
     "output_type": "stream",
     "text": [
      "Make: Toyota, Model: Camry, Year: 2022\n",
      "Make: Honda, Model: Civic, Year: 2023\n",
      "Fuel Type: Gasoline\n"
     ]
    }
   ],
   "source": [
    "class Vehicle:\n",
    "    def __init__(self, make, model, year):\n",
    "        self.make = make\n",
    "        self.model = model\n",
    "        self.year = year\n",
    "\n",
    "    def display_info(self):\n",
    "        print(f\"Make: {self.make}, Model: {self.model}, Year: {self.year}\")\n",
    "\n",
    "\n",
    "class Car(Vehicle):\n",
    "    def __init__(self, make, model, year, fuel_type):\n",
    "        super().__init__(make, model, year)\n",
    "        self.fuel_type = fuel_type\n",
    "\n",
    "    def display_info(self):\n",
    "        super().display_info()\n",
    "        print(f\"Fuel Type: {self.fuel_type}\")\n",
    "\n",
    "# Create a Vehicle object\n",
    "vehicle = Vehicle(\"Toyota\", \"Camry\", 2022)\n",
    "vehicle.display_info()\n",
    "\n",
    "# Create a Car object\n",
    "car = Car(\"Honda\", \"Civic\", 2023, \"Gasoline\")\n",
    "car.display_info()\n"
   ]
  },
  {
   "cell_type": "code",
   "execution_count": null,
   "id": "f1a9dd93",
   "metadata": {},
   "outputs": [],
   "source": []
  },
  {
   "cell_type": "markdown",
   "id": "a6abfd72",
   "metadata": {},
   "source": [
    "# 7. Create a base class called \"Employee\" with attributes like \"name\" and \"salary.\" Derive two classes, \"Manager\" and \"Developer,\" from \"Employee.\" Add an additional attribute called \"department\" for the \"Manager\" class and \"programming_language\" for the \"Developer\" class. \n",
    "\n"
   ]
  },
  {
   "cell_type": "code",
   "execution_count": null,
   "id": "2b174852",
   "metadata": {},
   "outputs": [],
   "source": []
  },
  {
   "cell_type": "code",
   "execution_count": 13,
   "id": "35e38ee4",
   "metadata": {},
   "outputs": [
    {
     "name": "stdout",
     "output_type": "stream",
     "text": [
      "Name: John Doe, Salary: $50000.00\n",
      "Name: Jane Smith, Salary: $70000.00\n",
      "Department: HR\n",
      "Name: Alice Johnson, Salary: $60000.00\n",
      "Programming Language: Python\n"
     ]
    }
   ],
   "source": [
    "class Employee:\n",
    "    def __init__(self, name, salary):\n",
    "        self.name = name\n",
    "        self.salary = salary\n",
    "\n",
    "    def display_info(self):\n",
    "        print(f\"Name: {self.name}, Salary: ${self.salary:.2f}\")\n",
    "\n",
    "\n",
    "class Manager(Employee):\n",
    "    def __init__(self, name, salary, department):\n",
    "        super().__init__(name, salary)\n",
    "        self.department = department\n",
    "\n",
    "    def display_info(self):\n",
    "        super().display_info()\n",
    "        print(f\"Department: {self.department}\")\n",
    "\n",
    "\n",
    "class Developer(Employee):\n",
    "    def __init__(self, name, salary, programming_language):\n",
    "        super().__init__(name, salary)\n",
    "        self.programming_language = programming_language\n",
    "\n",
    "    def display_info(self):\n",
    "        super().display_info()\n",
    "        print(f\"Programming Language: {self.programming_language}\")\n",
    "\n",
    "\n",
    "# Create an Employee object\n",
    "employee = Employee(\"John Doe\", 50000.0)\n",
    "employee.display_info()\n",
    "\n",
    "# Create a Manager object\n",
    "manager = Manager(\"Jane Smith\", 70000.0, \"HR\")\n",
    "manager.display_info()\n",
    "\n",
    "# Create a Developer object\n",
    "developer = Developer(\"Alice Johnson\", 60000.0, \"Python\")\n",
    "developer.display_info()\n"
   ]
  },
  {
   "cell_type": "code",
   "execution_count": null,
   "id": "c7d7a040",
   "metadata": {},
   "outputs": [],
   "source": []
  },
  {
   "cell_type": "markdown",
   "id": "ada8da1d",
   "metadata": {},
   "source": [
    "# 8. Design a base class called \"Shape\" with attributes like \"colour\" and \"border_width.\" Create derived classes, \"Rectangle\" and \"Circle,\" that inherit from \"Shape\" and add specific attributes like \"length\" and \"width\" for the \"Rectangle\" class and \"radius\" for the \"Circle\" class. \n",
    "\n"
   ]
  },
  {
   "cell_type": "code",
   "execution_count": 14,
   "id": "37b031cd",
   "metadata": {},
   "outputs": [],
   "source": [
    "### Answer"
   ]
  },
  {
   "cell_type": "code",
   "execution_count": 15,
   "id": "ab33fa38",
   "metadata": {},
   "outputs": [
    {
     "name": "stdout",
     "output_type": "stream",
     "text": [
      "Color: Red, Border Width: 2\n",
      "Color: Blue, Border Width: 3\n",
      "Type: Rectangle, Length: 4, Width: 6\n",
      "Color: Green, Border Width: 1\n",
      "Type: Circle, Radius: 5\n"
     ]
    }
   ],
   "source": [
    "class Shape:\n",
    "    def __init__(self, color, border_width):\n",
    "        self.color = color\n",
    "        self.border_width = border_width\n",
    "\n",
    "    def display_info(self):\n",
    "        print(f\"Color: {self.color}, Border Width: {self.border_width}\")\n",
    "\n",
    "\n",
    "class Rectangle(Shape):\n",
    "    def __init__(self, color, border_width, length, width):\n",
    "        super().__init__(color, border_width)\n",
    "        self.length = length\n",
    "        self.width = width\n",
    "\n",
    "    def display_info(self):\n",
    "        super().display_info()\n",
    "        print(f\"Type: Rectangle, Length: {self.length}, Width: {self.width}\")\n",
    "\n",
    "\n",
    "class Circle(Shape):\n",
    "    def __init__(self, color, border_width, radius):\n",
    "        super().__init__(color, border_width)\n",
    "        self.radius = radius\n",
    "\n",
    "    def display_info(self):\n",
    "        super().display_info()\n",
    "        print(f\"Type: Circle, Radius: {self.radius}\")\n",
    "\n",
    "\n",
    "# Create a Shape object\n",
    "shape = Shape(\"Red\", 2)\n",
    "shape.display_info()\n",
    "\n",
    "# Create a Rectangle object\n",
    "rectangle = Rectangle(\"Blue\", 3, 4, 6)\n",
    "rectangle.display_info()\n",
    "\n",
    "# Create a Circle object\n",
    "circle = Circle(\"Green\", 1, 5)\n",
    "circle.display_info()\n"
   ]
  },
  {
   "cell_type": "code",
   "execution_count": null,
   "id": "fe8cfa91",
   "metadata": {},
   "outputs": [],
   "source": []
  },
  {
   "cell_type": "markdown",
   "id": "6399de66",
   "metadata": {},
   "source": [
    "# 9. Create a base class called \"Device\" with attributes like \"brand\" and \"model.\" Derive two classes, \"Phone\" and \"Tablet,\" from \"Device.\" Add specific attributes like \"screen_size\" for the \"Phone\" class and \"battery_capacity\" for the \"Tablet\" class. "
   ]
  },
  {
   "cell_type": "code",
   "execution_count": 16,
   "id": "7a182f17",
   "metadata": {},
   "outputs": [],
   "source": [
    "### Answer"
   ]
  },
  {
   "cell_type": "code",
   "execution_count": 17,
   "id": "933a8286",
   "metadata": {},
   "outputs": [
    {
     "name": "stdout",
     "output_type": "stream",
     "text": [
      "Brand: Apple, Model: iPhone 13\n",
      "Brand: Samsung, Model: Galaxy S21\n",
      "Type: Phone, Screen Size: 6.2 inches\n",
      "Brand: Amazon, Model: Fire HD 10\n",
      "Type: Tablet, Battery Capacity: 6000 mAh\n"
     ]
    }
   ],
   "source": [
    "class Device:\n",
    "    def __init__(self, brand, model):\n",
    "        self.brand = brand\n",
    "        self.model = model\n",
    "\n",
    "    def display_info(self):\n",
    "        print(f\"Brand: {self.brand}, Model: {self.model}\")\n",
    "\n",
    "\n",
    "class Phone(Device):\n",
    "    def __init__(self, brand, model, screen_size):\n",
    "        super().__init__(brand, model)\n",
    "        self.screen_size = screen_size\n",
    "\n",
    "    def display_info(self):\n",
    "        super().display_info()\n",
    "        print(f\"Type: Phone, Screen Size: {self.screen_size} inches\")\n",
    "\n",
    "\n",
    "class Tablet(Device):\n",
    "    def __init__(self, brand, model, battery_capacity):\n",
    "        super().__init__(brand, model)\n",
    "        self.battery_capacity = battery_capacity\n",
    "\n",
    "    def display_info(self):\n",
    "        super().display_info()\n",
    "        print(f\"Type: Tablet, Battery Capacity: {self.battery_capacity} mAh\")\n",
    "\n",
    "\n",
    "# Create a Device object\n",
    "device = Device(\"Apple\", \"iPhone 13\")\n",
    "device.display_info()\n",
    "\n",
    "# Create a Phone object\n",
    "phone = Phone(\"Samsung\", \"Galaxy S21\", 6.2)\n",
    "phone.display_info()\n",
    "\n",
    "# Create a Tablet object\n",
    "tablet = Tablet(\"Amazon\", \"Fire HD 10\", 6000)\n",
    "tablet.display_info()\n"
   ]
  },
  {
   "cell_type": "code",
   "execution_count": null,
   "id": "6eb2a1c5",
   "metadata": {},
   "outputs": [],
   "source": []
  },
  {
   "cell_type": "markdown",
   "id": "22284e51",
   "metadata": {},
   "source": [
    "# 10. Create a base class called \"BankAccount\" with attributes like \"account_number\" and \"balance.\" Derive two classes, \"SavingsAccount\" and \"CheckingAccount,\" from \"BankAccount.\" Add specific methods like \"calculate_interest\" for the \"SavingsAccount\" class and \"deduct_fees\" for the \"CheckingAccount\" class."
   ]
  },
  {
   "cell_type": "code",
   "execution_count": 18,
   "id": "d4912ec2",
   "metadata": {},
   "outputs": [],
   "source": [
    "### Answer"
   ]
  },
  {
   "cell_type": "code",
   "execution_count": 19,
   "id": "f9ee61c8",
   "metadata": {},
   "outputs": [
    {
     "name": "stdout",
     "output_type": "stream",
     "text": [
      "Account Number: SA123456, Balance: $1000.00\n",
      "Account Type: Savings, Interest Rate: 1.5%\n",
      "Interest of $15.00 added to the account.\n",
      "Account Number: SA123456, Balance: $1015.00\n",
      "Account Type: Savings, Interest Rate: 1.5%\n",
      "Account Number: CA789012, Balance: $2000.00\n",
      "Account Type: Checking, Fee: $10.00\n",
      "$10.00 deducted as fees.\n",
      "Account Number: CA789012, Balance: $1990.00\n",
      "Account Type: Checking, Fee: $10.00\n"
     ]
    }
   ],
   "source": [
    "class BankAccount:\n",
    "    def __init__(self, account_number, balance):\n",
    "        self.account_number = account_number\n",
    "        self.balance = balance\n",
    "\n",
    "    def display_info(self):\n",
    "        print(f\"Account Number: {self.account_number}, Balance: ${self.balance:.2f}\")\n",
    "\n",
    "\n",
    "class SavingsAccount(BankAccount):\n",
    "    def __init__(self, account_number, balance, interest_rate):\n",
    "        super().__init__(account_number, balance)\n",
    "        self.interest_rate = interest_rate\n",
    "\n",
    "    def calculate_interest(self):\n",
    "        interest = self.balance * (self.interest_rate / 100)\n",
    "        self.balance += interest\n",
    "        print(f\"Interest of ${interest:.2f} added to the account.\")\n",
    "\n",
    "    def display_info(self):\n",
    "        super().display_info()\n",
    "        print(f\"Account Type: Savings, Interest Rate: {self.interest_rate}%\")\n",
    "\n",
    "\n",
    "class CheckingAccount(BankAccount):\n",
    "    def __init__(self, account_number, balance, fee):\n",
    "        super().__init__(account_number, balance)\n",
    "        self.fee = fee\n",
    "\n",
    "    def deduct_fees(self):\n",
    "        self.balance -= self.fee\n",
    "        print(f\"${self.fee:.2f} deducted as fees.\")\n",
    "\n",
    "    def display_info(self):\n",
    "        super().display_info()\n",
    "        print(f\"Account Type: Checking, Fee: ${self.fee:.2f}\")\n",
    "\n",
    "\n",
    "# Create a SavingsAccount object\n",
    "savings_account = SavingsAccount(\"SA123456\", 1000.0, 1.5)\n",
    "savings_account.display_info()\n",
    "savings_account.calculate_interest()\n",
    "savings_account.display_info()\n",
    "\n",
    "# Create a CheckingAccount object\n",
    "checking_account = CheckingAccount(\"CA789012\", 2000.0, 10.0)\n",
    "checking_account.display_info()\n",
    "checking_account.deduct_fees()\n",
    "checking_account.display_info()\n"
   ]
  },
  {
   "cell_type": "code",
   "execution_count": null,
   "id": "e6c97bbf",
   "metadata": {},
   "outputs": [],
   "source": []
  }
 ],
 "metadata": {
  "kernelspec": {
   "display_name": "Python 3 (ipykernel)",
   "language": "python",
   "name": "python3"
  },
  "language_info": {
   "codemirror_mode": {
    "name": "ipython",
    "version": 3
   },
   "file_extension": ".py",
   "mimetype": "text/x-python",
   "name": "python",
   "nbconvert_exporter": "python",
   "pygments_lexer": "ipython3",
   "version": "3.10.9"
  }
 },
 "nbformat": 4,
 "nbformat_minor": 5
}

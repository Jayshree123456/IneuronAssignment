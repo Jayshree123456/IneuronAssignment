{
 "cells": [
  {
   "cell_type": "markdown",
   "id": "9d0f2f97",
   "metadata": {},
   "source": [
    "# 1.What is the role of the 'else' block in a try-except statement?\n",
    "#  Provide an example scenario where it would be useful."
   ]
  },
  {
   "cell_type": "markdown",
   "id": "83829fbe",
   "metadata": {},
   "source": [
    "### Answer"
   ]
  },
  {
   "cell_type": "markdown",
   "id": "1a473d04",
   "metadata": {},
   "source": [
    "* In Python, **the else block in a try-except statement is optional and is executed only if no exceptions were raised in the \n",
    "try block.** It allows you to specify a block of code to execute when the try block runs successfully, without any exceptions \n",
    "being raised.\n",
    "\n",
    "\n",
    "* Suppose you have a function that divides two numbers and returns the result. You want to handle any exceptions that may \n",
    "occur when you try to divide the numbers, but you also want to perform some additional processing if the division was successful. You can use a try-except-else block to achieve this:\n",
    "\n"
   ]
  },
  {
   "cell_type": "markdown",
   "id": "a6209513",
   "metadata": {},
   "source": [
    "### Example"
   ]
  },
  {
   "cell_type": "code",
   "execution_count": 8,
   "id": "94790277",
   "metadata": {},
   "outputs": [],
   "source": [
    "def divide_numbers(num1, num2):\n",
    "    try:\n",
    "        result = num1 / num2\n",
    "    except ZeroDivisionError:\n",
    "       print(\"Cannot divide by zero.\")\n",
    "    else:\n",
    "# Additional processing when division is successful\n",
    "          print(\"Division successful!\")\n",
    "    return result\n"
   ]
  },
  {
   "cell_type": "code",
   "execution_count": 10,
   "id": "1a197ff7",
   "metadata": {},
   "outputs": [
    {
     "name": "stdout",
     "output_type": "stream",
     "text": [
      "Division successful!\n"
     ]
    },
    {
     "data": {
      "text/plain": [
       "5.0"
      ]
     },
     "execution_count": 10,
     "metadata": {},
     "output_type": "execute_result"
    }
   ],
   "source": [
    "divide_numbers(10,2)"
   ]
  },
  {
   "cell_type": "code",
   "execution_count": null,
   "id": "ee27d0e5",
   "metadata": {},
   "outputs": [],
   "source": []
  },
  {
   "cell_type": "markdown",
   "id": "1065b16a",
   "metadata": {},
   "source": [
    "# 2.Can a try-except block be nested inside another try-except block? Explain with an example. "
   ]
  },
  {
   "cell_type": "markdown",
   "id": "86164dc3",
   "metadata": {},
   "source": [
    "### Answer"
   ]
  },
  {
   "cell_type": "markdown",
   "id": "4f2f6e1e",
   "metadata": {},
   "source": [
    "* Yes, a try-except block can be nested inside another try-except block in Python. This can be useful for handling different \n",
    "types of exceptions at different levels of the code."
   ]
  },
  {
   "cell_type": "markdown",
   "id": "71628951",
   "metadata": {},
   "source": [
    "### Example"
   ]
  },
  {
   "cell_type": "code",
   "execution_count": 14,
   "id": "ea702181",
   "metadata": {},
   "outputs": [],
   "source": [
    "def divide_numbers(num1, num2):\n",
    "    try:\n",
    "        result = num1 / num2\n",
    "    except ZeroDivisionError:\n",
    "        print(\"Cannot divide by zero.\")\n",
    "    else:\n",
    "        try:\n",
    "            print(f\"The result is {result}.\")\n",
    "            if result < 0:\n",
    "                raise ValueError(\"The result is negative.\")\n",
    "        except ValueError as ve:\n",
    "            print(f\"Error: {ve}\")\n",
    "            # Handle the error\n",
    "        else:\n",
    "            print(\"Division successful!\")\n",
    "            # Do additional processing\n"
   ]
  },
  {
   "cell_type": "code",
   "execution_count": 15,
   "id": "3326eb86",
   "metadata": {},
   "outputs": [
    {
     "name": "stdout",
     "output_type": "stream",
     "text": [
      "The result is 5.0.\n",
      "Division successful!\n"
     ]
    }
   ],
   "source": [
    "divide_numbers(10,2)"
   ]
  },
  {
   "cell_type": "code",
   "execution_count": 16,
   "id": "b1907a01",
   "metadata": {},
   "outputs": [
    {
     "name": "stdout",
     "output_type": "stream",
     "text": [
      "Cannot divide by zero.\n"
     ]
    }
   ],
   "source": [
    "divide_numbers(10,0)"
   ]
  },
  {
   "cell_type": "code",
   "execution_count": 18,
   "id": "4ddae67d",
   "metadata": {},
   "outputs": [
    {
     "name": "stdout",
     "output_type": "stream",
     "text": [
      "The result is -5.0.\n",
      "Error: The result is negative.\n"
     ]
    }
   ],
   "source": [
    "divide_numbers(-10,2)"
   ]
  },
  {
   "cell_type": "code",
   "execution_count": null,
   "id": "d13c6438",
   "metadata": {},
   "outputs": [],
   "source": []
  },
  {
   "cell_type": "markdown",
   "id": "4dc01d54",
   "metadata": {},
   "source": [
    "# 3.How can you create a custom exception class in Python? Provide an example that demonstrates its usage. "
   ]
  },
  {
   "cell_type": "markdown",
   "id": "bfb5de2a",
   "metadata": {},
   "source": [
    "### Answer"
   ]
  },
  {
   "cell_type": "markdown",
   "id": "aff8efaa",
   "metadata": {},
   "source": [
    "* In Python, you can create a custom exception class by defining a new class that inherits from the built-in Exception class \n",
    "or one of its subclasses. Here's an example that demonstrates how to create and use a custom exception class:"
   ]
  },
  {
   "cell_type": "markdown",
   "id": "e173c964",
   "metadata": {},
   "source": [
    "### Example"
   ]
  },
  {
   "cell_type": "code",
   "execution_count": 21,
   "id": "1df83c9a",
   "metadata": {},
   "outputs": [
    {
     "name": "stdout",
     "output_type": "stream",
     "text": [
      "Input must be non-negative\n"
     ]
    }
   ],
   "source": [
    "class MyException(Exception):\n",
    "    pass\n",
    "\n",
    "def my_function(x):\n",
    "    if x < 0:\n",
    "        raise MyException(\"Input must be non-negative\")\n",
    "    return x**2\n",
    "\n",
    "try:\n",
    "    result = my_function(-4)\n",
    "except MyException as e:\n",
    "    print(e)\n",
    "else:\n",
    "    print(result)\n"
   ]
  },
  {
   "cell_type": "markdown",
   "id": "06ddb5c3",
   "metadata": {},
   "source": [
    "* Custom exception classes can be useful for defining application-specific error conditions that aren't covered by the \n",
    "built-in exception classes. By defining your own exception classes, you can provide more detailed and informative error \n",
    "messages and make it easier to handle errors in a consistent and structured way throughout your code."
   ]
  },
  {
   "cell_type": "code",
   "execution_count": null,
   "id": "948a8471",
   "metadata": {},
   "outputs": [],
   "source": []
  },
  {
   "cell_type": "markdown",
   "id": "659a9da3",
   "metadata": {},
   "source": [
    "# 4.What are some common exceptions that are built-in to Python? "
   ]
  },
  {
   "cell_type": "markdown",
   "id": "98b96de8",
   "metadata": {},
   "source": [
    "### Answer"
   ]
  },
  {
   "cell_type": "markdown",
   "id": "6897306d",
   "metadata": {},
   "source": [
    "* Python includes many built-in exception classes that can be used to handle different types of errors. \n",
    "Here are some of the most common built-in exceptions in Python:"
   ]
  },
  {
   "cell_type": "markdown",
   "id": "fc6efa7f",
   "metadata": {},
   "source": [
    "* **SyntaxError:** Raised when there is a syntax error in the code.\n",
    "    \n",
    "* **TypeError:** Raised when an operation or function is applied to an object of inappropriate type.\n",
    "    \n",
    "* **NameError:** Raised when a variable or function name is not found in the local or global scope.\n",
    "\n",
    "* **IndexError:** Raised when an index is out of range.\n",
    "\n",
    "* **KeyError:** Raised when a key is not found in a dictionary.\n",
    "\n",
    "* **ValueError:** Raised when a function or operation receives an argument of the correct type but with an inappropriate value.\n",
    "\n",
    "* **ZeroDivisionError:** Raised when trying to divide by zero.\n",
    "\n",
    "* **FileNotFoundError:** Raised when trying to access a file that does not exist.\n",
    "\n",
    "* **IOError:** Raised when an I/O operation fails, such as trying to read from a closed file.\n"
   ]
  },
  {
   "cell_type": "code",
   "execution_count": null,
   "id": "5960c167",
   "metadata": {},
   "outputs": [],
   "source": []
  },
  {
   "cell_type": "markdown",
   "id": "cdaea7ea",
   "metadata": {},
   "source": [
    "# 5.What is logging in Python, and why is it important in software development? "
   ]
  },
  {
   "cell_type": "markdown",
   "id": "2f5705b3",
   "metadata": {},
   "source": [
    "### Answer"
   ]
  },
  {
   "cell_type": "markdown",
   "id": "b251a68f",
   "metadata": {},
   "source": [
    "* In Python, logging is a built-in module that provides a flexible and customizable way to record log messages from  \n",
    "  your application. \n",
    "  \n",
    "\n",
    "* It allows you to track the execution of your application and generate log messages that can be used for debugging, monitoring,\n",
    "  auditing, and analysis purposes.\n",
    "  \n",
    "  \n",
    "* Logging is typically used to record information about events that occur during the execution \n",
    "  of your application, such as errors, warnings, informational messages, and debug messages. \n",
    "  \n",
    "    \n",
    "* You can control the level of detail recorded in log messages by specifying a logging level, which can be set to one of several\n",
    "  predefined levels (such as DEBUG, INFO, WARNING, ERROR, or CRITICAL), or to a custom level.\n",
    "  \n",
    "    \n",
    "* The logging module provides a variety of options for configuring and customizing the behavior of your application's logging.\n",
    "  You can specify the destination of log messages (such as a file or console), customize the format of log messages, and define\n",
    "  your own logging handlers and filters to handle specific types of log messages.\n",
    "  \n",
    "\n"
   ]
  },
  {
   "cell_type": "markdown",
   "id": "73587ef5",
   "metadata": {},
   "source": [
    "Logging is essential in software development for several reasons:\n",
    "    \n",
    "1) **Debugging and Troubleshooting:** \n",
    "  When an application encounters errors or unexpected behavior, logs act as a historical record of what happened leading up to    the issue. Developers can analyze these logs to understand the sequence of events, identify the root cause of problems, and fix bugs more effectively.\n",
    "  \n",
    "2) **Monitoring and Performance Analysis:** By logging relevant performance metrics and events, developers can gain insights into how the application is performing in real-world scenarios. This information is valuable for identifying bottlenecks, resource usage, and overall system health.\n",
    "3) **Auditing and Compliance:** In some industries, like finance and healthcare, logging is crucial for auditing purposes and regulatory compliance. Detailed logs help ensure that the application is behaving correctly and following established guidelines.\n",
    "4) **Security:** Logging can aid in detecting potential security breaches or suspicious activities. Unusual patterns or errors in logs might indicate unauthorized access attempts or other security-related issues.\n",
    "5) **Long-term Analysis:** Logs can be stored for an extended period, allowing developers to perform historical analysis, track trends, and make data-driven decisions for future improvements.\n"
   ]
  },
  {
   "cell_type": "code",
   "execution_count": null,
   "id": "e40d23f2",
   "metadata": {},
   "outputs": [],
   "source": []
  },
  {
   "cell_type": "markdown",
   "id": "57e54087",
   "metadata": {},
   "source": [
    "# 6)Explain the purpose of log levels in Python logging and provide examples of when each log level would be appropriate. \n",
    "\n"
   ]
  },
  {
   "cell_type": "markdown",
   "id": "a9cfee66",
   "metadata": {},
   "source": [
    "### Answer"
   ]
  },
  {
   "cell_type": "markdown",
   "id": "4edb10d2",
   "metadata": {},
   "source": [
    "In Python logging, log levels are used to categorize log messages based on their severity or importance. \n",
    "\n",
    "The logging module provides several predefined log levels that developers can use to indicate the significance of the \n",
    "logged events. \n",
    "\n",
    "Each log level serves a specific purpose, and the appropriate level to use depends on the nature of the message being logged. \n",
    "\n",
    "Below are the standard log levels in Python logging:"
   ]
  },
  {
   "cell_type": "markdown",
   "id": "fff01e98",
   "metadata": {},
   "source": [
    "**DEBUG:**"
   ]
  },
  {
   "cell_type": "markdown",
   "id": "6deb5162",
   "metadata": {},
   "source": [
    "This log level is used for detailed diagnostic information. \n",
    "\n",
    "It is typically used during development or debugging phases to provide insights into the application's internal workings, \n",
    "variable values, and other fine-grained details. "
   ]
  },
  {
   "cell_type": "markdown",
   "id": "0c032c24",
   "metadata": {},
   "source": [
    "Example"
   ]
  },
  {
   "cell_type": "code",
   "execution_count": 24,
   "id": "a2e00385",
   "metadata": {},
   "outputs": [],
   "source": [
    "import logging\n",
    "\n",
    "logging.basicConfig(level=logging.DEBUG)\n",
    "logger = logging.getLogger(__name__)\n",
    "\n",
    "def some_function():\n",
    "    logger.debug(\"This is a debug message\")\n"
   ]
  },
  {
   "cell_type": "markdown",
   "id": "2609ad79",
   "metadata": {},
   "source": [
    "**INFO:** "
   ]
  },
  {
   "cell_type": "markdown",
   "id": "8ea482b3",
   "metadata": {},
   "source": [
    "The INFO log level is used to confirm that things are working as expected. \n",
    "\n",
    "It provides information about important application events but does not include detailed debugging information. \n",
    "\n",
    "It's helpful for tracking the application's progress and general status"
   ]
  },
  {
   "cell_type": "markdown",
   "id": "d0b66cca",
   "metadata": {},
   "source": [
    "Example"
   ]
  },
  {
   "cell_type": "code",
   "execution_count": 25,
   "id": "55794aec",
   "metadata": {},
   "outputs": [],
   "source": [
    "import logging\n",
    "\n",
    "logging.basicConfig(level=logging.INFO)\n",
    "logger = logging.getLogger(__name__)\n",
    "\n",
    "def main():\n",
    "    logger.info(\"Application started.\")\n",
    "    # ... application code ...\n",
    "    logger.info(\"Application finished successfully.\")"
   ]
  },
  {
   "cell_type": "markdown",
   "id": "382664eb",
   "metadata": {},
   "source": [
    "**WARNING:** "
   ]
  },
  {
   "cell_type": "markdown",
   "id": "95a656ae",
   "metadata": {},
   "source": [
    "This log level indicates potential issues that could cause problems but are not severe enough to disrupt the application's\n",
    "execution. \n",
    "\n",
    "Warnings highlight situations that developers should be aware of but may not require immediate attention. "
   ]
  },
  {
   "cell_type": "markdown",
   "id": "75f0073a",
   "metadata": {},
   "source": [
    "Example"
   ]
  },
  {
   "cell_type": "code",
   "execution_count": 26,
   "id": "9b518b52",
   "metadata": {},
   "outputs": [],
   "source": [
    "import logging\n",
    "logging.basicConfig(level=logging.WARNING)\n",
    "logger = logging.getLogger(__name__)\n",
    "\n",
    "def some_function(param):\n",
    "    if param < 0:\n",
    "        logger.warning(\"Received negative parameter value.\")\n"
   ]
  },
  {
   "cell_type": "markdown",
   "id": "5ac5136e",
   "metadata": {},
   "source": [
    "**ERROR:**"
   ]
  },
  {
   "cell_type": "code",
   "execution_count": null,
   "id": "54e77aa4",
   "metadata": {},
   "outputs": [],
   "source": [
    "When an error occurs, the ERROR log level is used to record relevant details. \n",
    "\n",
    "These messages indicate that something unexpected happened, and it might affect the application's behavior negatively. "
   ]
  },
  {
   "cell_type": "markdown",
   "id": "99b106e4",
   "metadata": {},
   "source": [
    "Example"
   ]
  },
  {
   "cell_type": "code",
   "execution_count": null,
   "id": "cd4bfa14",
   "metadata": {},
   "outputs": [],
   "source": [
    "import logging\n",
    "\n",
    "logging.basicConfig(level=logging.ERROR)\n",
    "logger = logging.getLogger(__name__)\n",
    "\n",
    "def some_function():\n",
    "    try:\n",
    "        # ... some code that may raise an exception ...\n",
    "    except Exception as e:\n",
    "        logger.error(\"An error occurred: %s\", e, exc_info=True)"
   ]
  },
  {
   "cell_type": "markdown",
   "id": "d57f958a",
   "metadata": {},
   "source": [
    "**CRITICAL:**"
   ]
  },
  {
   "cell_type": "code",
   "execution_count": null,
   "id": "e968de0d",
   "metadata": {},
   "outputs": [],
   "source": [
    "The CRITICAL log level represents the most severe level of logging. \n",
    "\n",
    "It is used to indicate critical errors or failures that might lead to the application's termination or significant data loss. \n",
    "\n",
    "These messages require immediate attention. "
   ]
  },
  {
   "cell_type": "markdown",
   "id": "fb5a33a5",
   "metadata": {},
   "source": [
    "Example"
   ]
  },
  {
   "cell_type": "code",
   "execution_count": 27,
   "id": "be730e15",
   "metadata": {},
   "outputs": [],
   "source": [
    "import logging\n",
    "\n",
    "logging.basicConfig(level=logging.CRITICAL)\n",
    "logger = logging.getLogger(__name__)\n",
    "\n",
    "def critical_function():\n",
    "    logger.critical(\"Critical error! Application is shutting down.\")\n",
    "    # ... code to handle the critical situation ..."
   ]
  },
  {
   "cell_type": "code",
   "execution_count": null,
   "id": "f295958a",
   "metadata": {},
   "outputs": [],
   "source": []
  },
  {
   "cell_type": "markdown",
   "id": "6d75b0b1",
   "metadata": {},
   "source": [
    "# 7)What are log formatters in Python logging, and how can you customise the log message format using formatters? "
   ]
  },
  {
   "cell_type": "markdown",
   "id": "1baca8ac",
   "metadata": {},
   "source": [
    "### Answer"
   ]
  },
  {
   "cell_type": "markdown",
   "id": "e6e39c63",
   "metadata": {},
   "source": [
    "* In Python logging, log formatters are components responsible for defining the layout and structure of log messages before \n",
    "  they are written to the specified output (e.g., console, files, remote servers).\n",
    "  \n",
    "\n",
    "* They allow developers to customize the format of log messages by specifying various attributes and placeholders, such as \n",
    "  timestamp, log level, logger name, and the actual log message itself.\n",
    "  \n",
    "\n",
    "* The logging module provides the Formatter class that can be used to create custom log formatters.\n",
    "\n",
    "\n",
    "* The Formatter class supports the use of placeholder strings enclosed in curly braces {} to represent different attributes \n",
    "  of the log record.\n",
    "  \n",
    "\n",
    "* Here are some common attributes that can be used in the log message format:\n"
   ]
  },
  {
   "cell_type": "markdown",
   "id": "f177ef50",
   "metadata": {},
   "source": [
    "a) **asctime:** The timestamp of the log record.\n",
    "\n",
    "b) **levelname:** The log level (e.g., DEBUG, INFO, WARNING, ERROR, CRITICAL).\n",
    "\n",
    "c) **name:** The name of the logger.\n",
    "\n",
    "d) **message:** The actual log message.\n"
   ]
  },
  {
   "cell_type": "markdown",
   "id": "efa6fce3",
   "metadata": {},
   "source": [
    "To customize the log message format, you can create an instance of the Formatter class and set it for the desired log handler. \n",
    "\n",
    "Here's an example of customizing the log message format using a formatter:"
   ]
  },
  {
   "cell_type": "code",
   "execution_count": 28,
   "id": "2b7b2f32",
   "metadata": {},
   "outputs": [],
   "source": [
    "import logging\n",
    "\n",
    "# Create a logger and set the log level\n",
    "logger = logging.getLogger(__name__)\n",
    "logger.setLevel(logging.DEBUG)\n",
    "\n",
    "# Create a file handler and set the log level\n",
    "file_handler = logging.FileHandler(\"app.log\")\n",
    "file_handler.setLevel(logging.DEBUG)\n",
    "\n",
    "# Create a formatter and customize the log message format\n",
    "formatter = logging.Formatter(\"{asctime} - {levelname} - {name} - {message}\", style='{')\n",
    "\n",
    "file_handler.setFormatter(formatter)\n",
    "\n",
    "# Add the handler to the logger\n",
    "logger.addHandler(file_handler)\n",
    "\n",
    "def some_function():\n",
    "    logger.info(\"This is an informational message.\")\n",
    "    logger.warning(\"This is a warning message.\")\n"
   ]
  },
  {
   "cell_type": "code",
   "execution_count": null,
   "id": "d3de6cfc",
   "metadata": {},
   "outputs": [],
   "source": []
  },
  {
   "cell_type": "markdown",
   "id": "43748173",
   "metadata": {},
   "source": [
    "# 8. How can you set up logging to capture log messages from multiple modules or classes in a Python application?"
   ]
  },
  {
   "cell_type": "markdown",
   "id": "be396bf2",
   "metadata": {},
   "source": [
    "### Answer"
   ]
  },
  {
   "cell_type": "markdown",
   "id": "ba0ac44e",
   "metadata": {},
   "source": [
    "* To capture log messages from multiple modules or classes in a Python application, you can set up a hierarchical logging \n",
    "   system using the logging module. \n",
    "   \n",
    "\n",
    "* Each module or class can have its own logger, and these loggers can be organized in a hierarchy, which allows you to control \n",
    "  the logging behavior across different parts of the application.\n",
    "  \n",
    "\n",
    "* Here's a step-by-step guide on how to set up logging to capture log messages from multiple modules or classes:"
   ]
  },
  {
   "cell_type": "markdown",
   "id": "6ec729ac",
   "metadata": {},
   "source": [
    "**Step 1: Import the logging module in your main application file (e.g., main.py).**\n",
    "\n"
   ]
  },
  {
   "cell_type": "code",
   "execution_count": 29,
   "id": "051a11e0",
   "metadata": {},
   "outputs": [],
   "source": [
    "import logging"
   ]
  },
  {
   "cell_type": "markdown",
   "id": "1e06db4e",
   "metadata": {},
   "source": [
    "**Step 2: Configure the root logger with a basic configuration. This will ensure that log messages from all modules get \n",
    "    propagated to the root logger. You can do this in the main.py or at the beginning of the script.**"
   ]
  },
  {
   "cell_type": "code",
   "execution_count": null,
   "id": "abdca791",
   "metadata": {},
   "outputs": [],
   "source": [
    "logging.basicConfig(level=logging.DEBUG)"
   ]
  },
  {
   "cell_type": "markdown",
   "id": "c5590837",
   "metadata": {},
   "source": [
    "**Step 3: In each module or class where you want to log messages, create a logger with a name specific to that module or class. \n",
    "    The logger name convention is usually the module name, but you can use any name that makes sense for your application.**"
   ]
  },
  {
   "cell_type": "code",
   "execution_count": 31,
   "id": "0fbd1cd4",
   "metadata": {},
   "outputs": [],
   "source": [
    "# module1.py\n",
    "import logging\n",
    "\n",
    "logger = logging.getLogger(__name__)\n",
    "\n",
    "# module2.py\n",
    "import logging\n",
    "\n",
    "logger = logging.getLogger(__name__)"
   ]
  },
  {
   "cell_type": "markdown",
   "id": "18f42da2",
   "metadata": {},
   "source": [
    "**Step 4: Use the loggers in your modules or classes to log messages.**"
   ]
  },
  {
   "cell_type": "code",
   "execution_count": 32,
   "id": "a7ba9571",
   "metadata": {},
   "outputs": [],
   "source": [
    "# module1.py\n",
    "def some_function():\n",
    "    logger.debug(\"This is a debug message from module1.\")\n",
    "\n",
    "# module2.py\n",
    "def some_function():\n",
    "    logger.info(\"This is an info message from module2.\")\n"
   ]
  },
  {
   "cell_type": "markdown",
   "id": "7c359a34",
   "metadata": {},
   "source": [
    "**Step 5: Now, when your main application (e.g., main.py) runs and calls functions from the different modules, the log messages\n",
    "  will be captured and propagated up to the root logger, which was configured in Step 2. The root logger will, in turn, pass \n",
    "  the log messages to the log handlers (e.g., console, file handlers) based on their log levels and configurations.**"
   ]
  },
  {
   "cell_type": "code",
   "execution_count": null,
   "id": "06895da3",
   "metadata": {},
   "outputs": [],
   "source": []
  },
  {
   "cell_type": "markdown",
   "id": "e0684b37",
   "metadata": {},
   "source": [
    "#  9. What is the difference between the logging and print statements in Python? When should you use logging over print statements in a real-world application? "
   ]
  },
  {
   "cell_type": "markdown",
   "id": "7c7f1128",
   "metadata": {},
   "source": [
    "### Answer"
   ]
  },
  {
   "cell_type": "markdown",
   "id": "dcea14b4",
   "metadata": {},
   "source": [
    "The difference between logging and print statements in Python lies in their **purpose, output location, and functionality.**\n",
    "\n",
    "Here's a concise summary of the main distinctions:"
   ]
  },
  {
   "cell_type": "markdown",
   "id": "51439551",
   "metadata": {},
   "source": [
    "**1. Purpose:**\n",
    "\n",
    "**Print Statements:** Primarily used for simple output and debugging during development. Print statements send the output \n",
    "to the standard output stream (usually the console), displaying information directly to the user or developer.\n",
    "\n",
    "**Logging:** Designed for recording and managing log messages in a structured manner. Logging is used to monitor, analyze, and troubleshoot an application's behavior, especially in real-world production environments.\n"
   ]
  },
  {
   "cell_type": "code",
   "execution_count": null,
   "id": "395f85b8",
   "metadata": {},
   "outputs": [],
   "source": []
  },
  {
   "cell_type": "markdown",
   "id": "a385ee83",
   "metadata": {},
   "source": [
    "**2. Output Location:**\n",
    "\n",
    "**Print Statements:** Output is sent to the standard output stream (console) by default, making it easy to see the output directly while the code is running.\n",
    "\n",
    "**Logging:** Output can be directed to various configurable destinations, including files, remote servers, the console, or third-party log aggregation systems. This provides more control and flexibility over where log messages are stored.\n",
    "\n"
   ]
  },
  {
   "cell_type": "code",
   "execution_count": null,
   "id": "997ab4e3",
   "metadata": {},
   "outputs": [],
   "source": []
  },
  {
   "cell_type": "markdown",
   "id": "a74a2042",
   "metadata": {},
   "source": [
    "**3. Usability and Flexibility:**\n",
    "\n",
    "**Print Statements:** Simple to use and easy to implement, but they have limited functionality. Once added to the code, they remain active until manually removed or commented out.\n",
    "\n",
    "\n",
    "**Logging:** Requires initial setup, but it provides greater flexibility and control over log messages. Logging allows you to set different log levels (e.g., DEBUG, INFO, WARNING, ERROR, CRITICAL) and customize log formats, making it suitable for various scenarios and environments.\n"
   ]
  },
  {
   "cell_type": "code",
   "execution_count": null,
   "id": "700ccc6a",
   "metadata": {},
   "outputs": [],
   "source": []
  },
  {
   "cell_type": "markdown",
   "id": "38c42027",
   "metadata": {},
   "source": [
    "**4. Level of Detail:**\n",
    "\n",
    "**Print Statements:** Typically display the entire message or value being printed, providing limited control over the level of detail displayed.\n",
    "\n",
    "**Logging:** Allows you to control the level of detail shown by setting log levels. Different log levels can be used for different types of messages, such as debug information, informative messages, warnings, errors, and critical events.\n"
   ]
  },
  {
   "cell_type": "code",
   "execution_count": null,
   "id": "ef744dec",
   "metadata": {},
   "outputs": [],
   "source": []
  },
  {
   "cell_type": "markdown",
   "id": "942690e4",
   "metadata": {},
   "source": [
    "**When to Use Logging Over Print Statements in a Real-World Application:**"
   ]
  },
  {
   "cell_type": "markdown",
   "id": "e8b3b861",
   "metadata": {},
   "source": [
    "**Production Environments:** In real-world applications, it's essential to use logging instead of print statements, especially in production environments. Print statements might expose sensitive information to users and can clutter the console output, making it difficult to manage.\n",
    "\n",
    "**Structured Log Data:** Logging provides a structured approach to recording log messages, making it easier to analyze and interpret the application's behavior. Log messages can include timestamps, log levels, and other contextual information.\n",
    "\n",
    "**Monitoring and Troubleshooting:** Logging is crucial for monitoring the application's performance and behavior in real-time. It allows you to collect valuable data that can help troubleshoot issues, identify bugs, and track performance over time.\n",
    "\n",
    "**Separation of Concerns:** Using logging instead of print statements keeps the logging logic separate from the application's core business logic, resulting in cleaner and more maintainable code.\n",
    "\n",
    "**Log Level Control:** By using logging with different log levels, you can control the amount of information displayed. In production, you can set the log level to only show critical and error messages, reducing noise and ensuring only important events are logged.\n"
   ]
  },
  {
   "cell_type": "code",
   "execution_count": null,
   "id": "83dfa5f2",
   "metadata": {},
   "outputs": [],
   "source": []
  },
  {
   "cell_type": "markdown",
   "id": "5c09fb1d",
   "metadata": {},
   "source": [
    "# 10. Write a Python program that logs a message to a file named \"app.log\" with the following requirements: ● The log message should be \"Hello, World!\" ● The log level should be set to \"INFO.\" ● The log file should append new log entries without overwriting previous ones. \n",
    "\n"
   ]
  },
  {
   "cell_type": "markdown",
   "id": "6c79c8b2",
   "metadata": {},
   "source": [
    "### Answer"
   ]
  },
  {
   "cell_type": "code",
   "execution_count": 33,
   "id": "bacbb811",
   "metadata": {},
   "outputs": [
    {
     "name": "stderr",
     "output_type": "stream",
     "text": [
      "INFO:my_logger:Hello, World!\n"
     ]
    }
   ],
   "source": [
    "import logging\n",
    "\n",
    "def setup_logger():\n",
    "    # Create a logger and set the log level to INFO\n",
    "    logger = logging.getLogger(\"my_logger\")\n",
    "    logger.setLevel(logging.INFO)\n",
    "\n",
    "    # Create a file handler and set it to append mode\n",
    "    file_handler = logging.FileHandler(\"app.log\", mode=\"a\")\n",
    "\n",
    "    # Create a formatter to define the log message format\n",
    "    formatter = logging.Formatter(\"%(asctime)s - %(levelname)s - %(message)s\")\n",
    "\n",
    "    # Set the formatter for the file handler\n",
    "    file_handler.setFormatter(formatter)\n",
    "\n",
    "    # Add the file handler to the logger\n",
    "    logger.addHandler(file_handler)\n",
    "\n",
    "    return logger\n",
    "\n",
    "def main():\n",
    "    logger = setup_logger()\n",
    "\n",
    "    # Log the message with INFO level\n",
    "    logger.info(\"Hello, World!\")\n",
    "\n",
    "if __name__ == \"__main__\":\n",
    "    main()\n",
    "\n"
   ]
  },
  {
   "cell_type": "code",
   "execution_count": null,
   "id": "55b62e64",
   "metadata": {},
   "outputs": [],
   "source": []
  },
  {
   "cell_type": "markdown",
   "id": "b8634102",
   "metadata": {},
   "source": [
    "# 11. Create a Python program that logs an error message to the console and a file named \"errors.log\" if an exception occurs during the program's execution. The error message should include the exception type and a timestamp"
   ]
  },
  {
   "cell_type": "markdown",
   "id": "3f1bccd6",
   "metadata": {},
   "source": [
    "### Answer"
   ]
  },
  {
   "cell_type": "code",
   "execution_count": 35,
   "id": "af1ff979",
   "metadata": {},
   "outputs": [
    {
     "name": "stderr",
     "output_type": "stream",
     "text": [
      "2023-08-29 22:24:30,848 - ERROR - Exception occurred: ZeroDivisionError - 2023-08-29 22:24:30.848514\n",
      "2023-08-29 22:24:30,848 - ERROR - Exception occurred: ZeroDivisionError - 2023-08-29 22:24:30.848514\n",
      "ERROR:error_logger:Exception occurred: ZeroDivisionError - 2023-08-29 22:24:30.848514\n",
      "Traceback (most recent call last):\n",
      "  File \"C:\\Users\\donga\\AppData\\Local\\Temp\\ipykernel_19060\\58476163.py\", line 32, in perform_operation\n",
      "    result = 10 / 0  # Division by zero to trigger an exception\n",
      "ZeroDivisionError: division by zero\n"
     ]
    }
   ],
   "source": [
    "import logging\n",
    "import traceback\n",
    "import datetime\n",
    "\n",
    "def setup_logger():\n",
    "    # Create a logger and set the log level to ERROR\n",
    "    logger = logging.getLogger(\"error_logger\")\n",
    "    logger.setLevel(logging.ERROR)\n",
    "\n",
    "    # Create a console handler\n",
    "    console_handler = logging.StreamHandler()\n",
    "    \n",
    "    # Create a file handler for errors.log\n",
    "    file_handler = logging.FileHandler(\"errors.log\", mode=\"a\")\n",
    "\n",
    "    # Create a formatter to define the log message format\n",
    "    formatter = logging.Formatter(\"%(asctime)s - %(levelname)s - %(message)s\")\n",
    "\n",
    "    # Set the formatter for both handlers\n",
    "    console_handler.setFormatter(formatter)\n",
    "    file_handler.setFormatter(formatter)\n",
    "\n",
    "    # Add the handlers to the logger\n",
    "    logger.addHandler(console_handler)\n",
    "    logger.addHandler(file_handler)\n",
    "\n",
    "    return logger\n",
    "\n",
    "def perform_operation():\n",
    "    try:\n",
    "        # Code that might raise an exception\n",
    "        result = 10 / 0  # Division by zero to trigger an exception\n",
    "    except Exception as e:\n",
    "        # Log the exception with ERROR level and include the exception type and timestamp\n",
    "        logger = setup_logger()\n",
    "        logger.error(f\"Exception occurred: {type(e).__name__} - {datetime.datetime.now()}\")\n",
    "        traceback.print_exc()\n",
    "\n",
    "def main():\n",
    "    perform_operation()\n",
    "\n",
    "if __name__ == \"__main__\":\n",
    "    main()"
   ]
  },
  {
   "cell_type": "code",
   "execution_count": null,
   "id": "683321fd",
   "metadata": {},
   "outputs": [],
   "source": []
  }
 ],
 "metadata": {
  "kernelspec": {
   "display_name": "Python 3 (ipykernel)",
   "language": "python",
   "name": "python3"
  },
  "language_info": {
   "codemirror_mode": {
    "name": "ipython",
    "version": 3
   },
   "file_extension": ".py",
   "mimetype": "text/x-python",
   "name": "python",
   "nbconvert_exporter": "python",
   "pygments_lexer": "ipython3",
   "version": "3.10.9"
  }
 },
 "nbformat": 4,
 "nbformat_minor": 5
}

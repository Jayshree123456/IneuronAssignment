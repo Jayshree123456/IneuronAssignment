{
 "cells": [
  {
   "cell_type": "markdown",
   "id": "65058860",
   "metadata": {},
   "source": [
    "### Assignment-7"
   ]
  },
  {
   "cell_type": "code",
   "execution_count": null,
   "id": "ae3874c7",
   "metadata": {},
   "outputs": [],
   "source": []
  },
  {
   "cell_type": "markdown",
   "id": "21909d50",
   "metadata": {},
   "source": [
    "#### Q.1. Create two int type variables, apply addition, subtraction, division and multiplications and store the results in variables.   \n",
    "#### Then print the data in the following format by calling the variables:   \n",
    "#### First variable is __ & second variable is __.   \n",
    "#### Addition: __ + __ = __   \n",
    "#### Subtraction: __ - __ = __   \n",
    "#### Multiplication: __ * __ = __   \n",
    "#### Division: __ / __ = __    \n",
    "\n"
   ]
  },
  {
   "cell_type": "markdown",
   "id": "abcd1474",
   "metadata": {},
   "source": [
    "### Answer"
   ]
  },
  {
   "cell_type": "code",
   "execution_count": 2,
   "id": "4c0be157",
   "metadata": {},
   "outputs": [
    {
     "name": "stdout",
     "output_type": "stream",
     "text": [
      "First variable is 10 & second variable is 5.\n",
      "Addition: 10 + 5 = 15\n",
      "Subtraction: 10 - 5 = 5\n",
      "Multiplication: 10 * 5 = 50\n",
      "Division: 10 / 5 = 2.0\n"
     ]
    }
   ],
   "source": [
    "# Create two integer variables\n",
    "x = 10\n",
    "y = 5\n",
    "\n",
    "# Perform arithmetic operations and store the results in variables\n",
    "addition = x + y\n",
    "subtraction = x - y\n",
    "multiplication = x * y\n",
    "division = x / y\n",
    "\n",
    "# Print the output in the requested format\n",
    "print(f\"First variable is {x} & second variable is {y}.\")\n",
    "print(f\"Addition: {x} + {y} = {addition}\")\n",
    "print(f\"Subtraction: {x} - {y} = {subtraction}\")\n",
    "print(f\"Multiplication: {x} * {y} = {multiplication}\")\n",
    "print(f\"Division: {x} / {y} = {division}\")"
   ]
  },
  {
   "cell_type": "code",
   "execution_count": null,
   "id": "5bef5979",
   "metadata": {},
   "outputs": [],
   "source": []
  },
  {
   "cell_type": "markdown",
   "id": "3542a9c2",
   "metadata": {},
   "source": [
    "## Q.2. What is the difference between the following operators: \n",
    "## (i) ‘/’ & ‘//’\n",
    "## (ii) ‘**’ & ‘^’ \n"
   ]
  },
  {
   "cell_type": "markdown",
   "id": "8a8f176d",
   "metadata": {},
   "source": [
    "### Answer"
   ]
  },
  {
   "cell_type": "markdown",
   "id": "97e435cf",
   "metadata": {},
   "source": [
    "### (i) ‘/’ & ‘//’"
   ]
  },
  {
   "cell_type": "markdown",
   "id": "2a48d960",
   "metadata": {},
   "source": [
    "**1. Performing division using the ‘/’ operator**\n",
    "\n",
    "* This method of division is considered as the ‘classic division’.   \n",
    "*The ‘/’ single slash carries out the float division.   \n",
    "* The output of this operator is always a quotient with a float datatype.   \n",
    "* The output remains float even if the input numbers are integer values.   \n",
    "* Even the sign of the input operands doesn’t matter about the output.  \n",
    "\n"
   ]
  },
  {
   "cell_type": "markdown",
   "id": "9e02b2f7",
   "metadata": {},
   "source": [
    "### Examples  "
   ]
  },
  {
   "cell_type": "code",
   "execution_count": 9,
   "id": "8390613d",
   "metadata": {},
   "outputs": [
    {
     "name": "stdout",
     "output_type": "stream",
     "text": [
      "2.5\n"
     ]
    }
   ],
   "source": [
    "#integer input\n",
    "x1 = 15\n",
    "y1 = 6\n",
    "print(x1/y1)"
   ]
  },
  {
   "cell_type": "code",
   "execution_count": 10,
   "id": "04ae903f",
   "metadata": {},
   "outputs": [
    {
     "name": "stdout",
     "output_type": "stream",
     "text": [
      "5.0\n"
     ]
    }
   ],
   "source": [
    "#float input\n",
    "x2 = 15.0\n",
    "y2 = 3.0\n",
    "print(x2/y2)"
   ]
  },
  {
   "cell_type": "markdown",
   "id": "88427d09",
   "metadata": {},
   "source": [
    "#### Note that in both of the above cases, the output is the same even when the input datatypes are different."
   ]
  },
  {
   "cell_type": "code",
   "execution_count": 13,
   "id": "cfc0848a",
   "metadata": {},
   "outputs": [
    {
     "name": "stdout",
     "output_type": "stream",
     "text": [
      "-7.5\n"
     ]
    }
   ],
   "source": [
    "#negative input\n",
    "x3 = -15\n",
    "y3 = 2\n",
    "print(x3/y3)"
   ]
  },
  {
   "cell_type": "markdown",
   "id": "5e35730f",
   "metadata": {},
   "source": [
    "**2. Performing division using the ‘//’ operator**\n",
    "\n",
    "* This method of division is considered the ‘true division’.   \n",
    "* The ‘//’ double slash carries out integer division which is also known as floor division.   \n",
    "* The output of this operator will be the quotient rounded off to the closest whole number.   \n",
    "* For example, 15 divided by 6 is actually 2.5 but it gets rounded off to 2.  \n",
    "* The data type of the output, in this case, is an integer for integer input whereas floating for float input.   \n",
    "* In the case of the negative input number, the output is rounded off to the larger side. For example, -15 divided by 6 is -2.5,   since the quotient has a negative sign assigned to it, the output of floor division will get rounded off to -3 (remember not   -2.)\n",
    "* The working of this operator is the same as that of math.floor function  "
   ]
  },
  {
   "cell_type": "markdown",
   "id": "698e1ea5",
   "metadata": {},
   "source": [
    "### Examples"
   ]
  },
  {
   "cell_type": "code",
   "execution_count": 14,
   "id": "58e19d1b",
   "metadata": {},
   "outputs": [
    {
     "name": "stdout",
     "output_type": "stream",
     "text": [
      "2\n"
     ]
    }
   ],
   "source": [
    "#integer input\n",
    "x1 = 15\n",
    "y1 = 6\n",
    "print(x1//y1)"
   ]
  },
  {
   "cell_type": "code",
   "execution_count": 15,
   "id": "4ced4518",
   "metadata": {},
   "outputs": [
    {
     "name": "stdout",
     "output_type": "stream",
     "text": [
      "2.0\n"
     ]
    }
   ],
   "source": [
    "#float input\n",
    "x2 = 15.0\n",
    "y2 = 6\n",
    "print(x2//y2)"
   ]
  },
  {
   "cell_type": "code",
   "execution_count": 17,
   "id": "86356c5c",
   "metadata": {},
   "outputs": [
    {
     "name": "stdout",
     "output_type": "stream",
     "text": [
      "-3.0\n"
     ]
    }
   ],
   "source": [
    "#negative input\n",
    "x2 = -15.0\n",
    "y2 = 6\n",
    "print(x2//y2)"
   ]
  },
  {
   "cell_type": "markdown",
   "id": "b68c7230",
   "metadata": {},
   "source": [
    "### (ii) ‘**’ & ‘^’"
   ]
  },
  {
   "cell_type": "markdown",
   "id": "341b5209",
   "metadata": {},
   "source": [
    "* The operators ** and ^ are both used for exponentiation in Python, but they operate differently.\n",
    "* The ** operator is used for exponentiation, and it raises the left operand to the power of the right operand. \n",
    "\n"
   ]
  },
  {
   "cell_type": "code",
   "execution_count": 19,
   "id": "3730d447",
   "metadata": {},
   "outputs": [
    {
     "data": {
      "text/plain": [
       "8"
      ]
     },
     "execution_count": 19,
     "metadata": {},
     "output_type": "execute_result"
    }
   ],
   "source": [
    "# For example:\n",
    "2 ** 3\n",
    "8"
   ]
  },
  {
   "cell_type": "code",
   "execution_count": null,
   "id": "645168fe",
   "metadata": {},
   "outputs": [],
   "source": [
    "The ^ operator is the bitwise XOR operator, which performs a bitwise exclusive OR operation on the operands. \n",
    "It returns a value where each bit is the exclusive result of the corresponding bits of the operands. "
   ]
  },
  {
   "cell_type": "code",
   "execution_count": 22,
   "id": "17b73ea8",
   "metadata": {},
   "outputs": [
    {
     "data": {
      "text/plain": [
       "3"
      ]
     },
     "execution_count": 22,
     "metadata": {},
     "output_type": "execute_result"
    }
   ],
   "source": [
    "# For example:\n",
    "0b101 ^ 0b110"
   ]
  },
  {
   "cell_type": "code",
   "execution_count": null,
   "id": "67658b78",
   "metadata": {},
   "outputs": [],
   "source": []
  },
  {
   "cell_type": "markdown",
   "id": "21042582",
   "metadata": {},
   "source": [
    "# Q.3. List the logical operators. \n",
    "\n"
   ]
  },
  {
   "cell_type": "markdown",
   "id": "9035051a",
   "metadata": {},
   "source": [
    "### Answer"
   ]
  },
  {
   "cell_type": "markdown",
   "id": "1d51a299",
   "metadata": {},
   "source": [
    "In Python, the logical operators are:  \n",
    "1.**and:** Returns True if both operands are True, otherwise False.  \n",
    "2.**or:** Returns True if at least one of the operands is True, otherwise False.  \n",
    "3.**not:** Returns False if the operand is True, and True if the operand is False.  \n",
    "These operators are used to combine and manipulate Boolean values (True and False).    \n",
    "\n"
   ]
  },
  {
   "cell_type": "code",
   "execution_count": null,
   "id": "aac3c43b",
   "metadata": {},
   "outputs": [],
   "source": []
  },
  {
   "cell_type": "markdown",
   "id": "a062f281",
   "metadata": {},
   "source": [
    "# Q.4. Explain right shift operator and left shift operator with examples."
   ]
  },
  {
   "cell_type": "markdown",
   "id": "1c67e137",
   "metadata": {},
   "source": [
    "### Answer"
   ]
  },
  {
   "cell_type": "markdown",
   "id": "aed7738f",
   "metadata": {},
   "source": [
    "**Bitwise right shift:**  \n",
    "\n",
    "*Shifts the bits of the number to the right and fills 0 on voids left( fills 1 in the case of a \n",
    "negative number) as a result.   \n",
    "*Similar effect as of dividing the number with some power of two.\n",
    "\n",
    "    \n",
    "\n",
    "\n",
    "Example 1:  \n",
    "a = 10 = 0000 1010 (Binary)  \n",
    "a >> 1 = 0000 0101 = 5  \n",
    "\n",
    "\n",
    "Example 2:  \n",
    "a = -10 = 1111 0110 (Binary)  \n",
    "a >> 1 = 1111 1011 = -5   \n",
    "\n",
    "\n",
    "**Bitwise left shift:** \n",
    "\n",
    "*Shifts the bits of the number to the left and fills 0 on voids right as a result.     \n",
    "*Similar effect as of multiplying the number with some power of two.    \n",
    "\n",
    "  \n",
    "\n",
    "Example 1:  \n",
    "a = 5 = 0000 0101 (Binary)  \n",
    "a << 1 = 0000 1010 = 10  \n",
    "a << 2 = 0001 0100 = 20   \n",
    "\n",
    "\n",
    "Example 2:\n",
    "b = -10 = 1111 0110 (Binary)  \n",
    "b << 1 = 1110 1100 = -20  \n",
    "b << 2 = 1101 1000 = -40   \n"
   ]
  },
  {
   "cell_type": "code",
   "execution_count": 24,
   "id": "7359ae47",
   "metadata": {},
   "outputs": [
    {
     "name": "stdout",
     "output_type": "stream",
     "text": [
      "a >> 1 = 5\n",
      "b >> 1 = -5\n",
      "a << 1 = 10\n",
      "b << 1 = -20\n"
     ]
    }
   ],
   "source": [
    "\n",
    "# Python program to show\n",
    "# shift operators\n",
    " \n",
    "a = 10\n",
    "b = -10\n",
    " \n",
    "# print bitwise right shift operator\n",
    "print(\"a >> 1 =\", a >> 1)\n",
    "print(\"b >> 1 =\", b >> 1)\n",
    " \n",
    "a = 5\n",
    "b = -10\n",
    " \n",
    "# print bitwise left shift operator\n",
    "print(\"a << 1 =\", a << 1)\n",
    "print(\"b << 1 =\", b << 1)\n"
   ]
  },
  {
   "cell_type": "code",
   "execution_count": null,
   "id": "2681f0fa",
   "metadata": {},
   "outputs": [],
   "source": []
  },
  {
   "cell_type": "markdown",
   "id": "c48f60db",
   "metadata": {},
   "source": [
    "# Q.5. Create a list containing int type data of length 15. Then write a code to check if 10 is present in the list or not"
   ]
  },
  {
   "cell_type": "code",
   "execution_count": 25,
   "id": "0463e27a",
   "metadata": {},
   "outputs": [
    {
     "name": "stdout",
     "output_type": "stream",
     "text": [
      "10 is present in the list\n"
     ]
    }
   ],
   "source": [
    "# Create a list of integers\n",
    "my_list = [2, 4, 6, 8, 10, 12, 14, 16, 18, 20, 22, 24, 26, 28, 30]\n",
    "\n",
    "# Check if 10 is present in the list\n",
    "if 10 in my_list:\n",
    "    print(\"10 is present in the list\")\n",
    "else:\n",
    "    print(\"10 is not present in the list\")\n"
   ]
  },
  {
   "cell_type": "code",
   "execution_count": null,
   "id": "3a958f66",
   "metadata": {},
   "outputs": [],
   "source": []
  }
 ],
 "metadata": {
  "kernelspec": {
   "display_name": "Python 3 (ipykernel)",
   "language": "python",
   "name": "python3"
  },
  "language_info": {
   "codemirror_mode": {
    "name": "ipython",
    "version": 3
   },
   "file_extension": ".py",
   "mimetype": "text/x-python",
   "name": "python",
   "nbconvert_exporter": "python",
   "pygments_lexer": "ipython3",
   "version": "3.10.9"
  }
 },
 "nbformat": 4,
 "nbformat_minor": 5
}

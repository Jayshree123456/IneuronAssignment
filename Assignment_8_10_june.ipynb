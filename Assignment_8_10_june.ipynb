{
 "cells": [
  {
   "cell_type": "markdown",
   "id": "0f9152b4",
   "metadata": {},
   "source": [
    "# Assignment 8"
   ]
  },
  {
   "cell_type": "markdown",
   "id": "389e69fe",
   "metadata": {},
   "source": [
    "# Q.1. In Python, what is the difference between a built-in function and a user-defined function? Provide an example of each.\n",
    "\n"
   ]
  },
  {
   "cell_type": "markdown",
   "id": "894c17f3",
   "metadata": {},
   "source": [
    "### Answer"
   ]
  },
  {
   "cell_type": "markdown",
   "id": "68b5f0cd",
   "metadata": {},
   "source": [
    "*In Python, a built-in function is a function that is pre-defined in Python's standard library and can be used directly without requiring any additional code to be written.\n",
    "\n",
    "*A user-defined function is a function that is defined by the user in their own code and can be used to perform a specific task."
   ]
  },
  {
   "cell_type": "markdown",
   "id": "7f90ed00",
   "metadata": {},
   "source": [
    "Here's an example of a built-in function in Python:\n",
    "\n",
    "###### The 'len' function returns the length of a sequence such as a string, list, or tuple\n"
   ]
  },
  {
   "cell_type": "code",
   "execution_count": 1,
   "id": "7ee144d2",
   "metadata": {},
   "outputs": [
    {
     "name": "stdout",
     "output_type": "stream",
     "text": [
      "13\n"
     ]
    }
   ],
   "source": [
    "my_string = \"Hello, World!\"\n",
    "length = len(my_string)\n",
    "print(length)  # Output: 13"
   ]
  },
  {
   "cell_type": "code",
   "execution_count": null,
   "id": "1f6d7344",
   "metadata": {},
   "outputs": [],
   "source": [
    "Here's an example of a user-defined function in Python:\n",
    "\n",
    "# This function takes two arguments and returns their sum\n"
   ]
  },
  {
   "cell_type": "code",
   "execution_count": 2,
   "id": "eff67d58",
   "metadata": {},
   "outputs": [
    {
     "name": "stdout",
     "output_type": "stream",
     "text": [
      "8\n"
     ]
    }
   ],
   "source": [
    "def add_numbers(x, y):\n",
    "    return x + y\n",
    "\n",
    "# Call the function with arguments 3 and 5\n",
    "result = add_numbers(3, 5)\n",
    "print(result)  # Output: 8"
   ]
  },
  {
   "cell_type": "code",
   "execution_count": null,
   "id": "0292f530",
   "metadata": {},
   "outputs": [],
   "source": []
  },
  {
   "cell_type": "markdown",
   "id": "d1a9e546",
   "metadata": {},
   "source": [
    "# Q.2. How can you pass arguments to a function in Python? Explain the difference between positional arguments and  keyword arguments. "
   ]
  },
  {
   "cell_type": "markdown",
   "id": "edaf6845",
   "metadata": {},
   "source": [
    "In Python, you can pass arguments to a function by including them inside the parentheses when you call the function.  \n",
    "Here's an example:"
   ]
  },
  {
   "cell_type": "code",
   "execution_count": 3,
   "id": "433af390",
   "metadata": {},
   "outputs": [
    {
     "name": "stdout",
     "output_type": "stream",
     "text": [
      "8\n"
     ]
    }
   ],
   "source": [
    "# Define a function that takes two arguments and returns their sum\n",
    "\n",
    "def add_numbers(x, y):\n",
    "    return x + y\n",
    "\n",
    "# Call the function with arguments 3 and 5\n",
    "result = add_numbers(3, 5)\n",
    "print(result)  # Output: 8"
   ]
  },
  {
   "cell_type": "code",
   "execution_count": null,
   "id": "96430dd0",
   "metadata": {},
   "outputs": [],
   "source": [
    "In the example above, the add_numbers function takes two arguments x and y, which are passed to the function\n",
    "when it is called with add_numbers(3, 5)."
   ]
  },
  {
   "cell_type": "markdown",
   "id": "2a8f7dc4",
   "metadata": {},
   "source": [
    "There are two types of arguments that can be passed to a function in Python: positional arguments and keyword arguments.\n",
    "\n",
    "**Positional arguments**\n",
    "\n",
    "*Positional arguments are passed to a function based on the position of their corresponding parameters in the function definition.    \n",
    "\n",
    "*In other words, the first argument passed corresponds to the first parameter in the function definition, the second argument passed corresponds to the second parameter, and so on  \n",
    "\n",
    "*Here's an example:  "
   ]
  },
  {
   "cell_type": "code",
   "execution_count": 4,
   "id": "0b29752d",
   "metadata": {},
   "outputs": [
    {
     "name": "stdout",
     "output_type": "stream",
     "text": [
      "10\n"
     ]
    }
   ],
   "source": [
    "# Define a function that takes three positional arguments and returns their sum\n",
    "def add_numbers(x, y, z):\n",
    "    return x + y + z\n",
    "\n",
    "# Call the function with positional arguments 3, 5, and 2\n",
    "result = add_numbers(3, 5, 2)\n",
    "print(result)  # Output: 10"
   ]
  },
  {
   "cell_type": "markdown",
   "id": "bc662062",
   "metadata": {},
   "source": [
    "**Keyword arguments**\n",
    "\n",
    "•Keyword arguments, on the other hand, are passed to a function based on their parameter names, regardless of their position in the function call.   \n",
    "•To pass a keyword argument, you include the parameter name and the argument separated by an equal sign (=) in the function call.   \n",
    "•Here's an example:"
   ]
  },
  {
   "cell_type": "code",
   "execution_count": 5,
   "id": "a8d204e5",
   "metadata": {},
   "outputs": [
    {
     "name": "stdout",
     "output_type": "stream",
     "text": [
      "10\n"
     ]
    }
   ],
   "source": [
    "# Define a function that takes three keyword arguments and returns their sum\n",
    "def add_numbers(x, y, z):\n",
    "    return x + y + z\n",
    "\n",
    "# Call the function with keyword arguments\n",
    "result = add_numbers(x=3, z=2, y=5)\n",
    "print(result)  # Output: 10\n"
   ]
  },
  {
   "cell_type": "code",
   "execution_count": null,
   "id": "5e2cce2c",
   "metadata": {},
   "outputs": [],
   "source": [
    "In the example above, the arguments are passed as x=3, y=5, and z=2, which are matched with the corresponding parameters in the\n",
    "function definition based on their names, not their position."
   ]
  },
  {
   "cell_type": "code",
   "execution_count": null,
   "id": "1b0d3c12",
   "metadata": {},
   "outputs": [],
   "source": []
  },
  {
   "cell_type": "markdown",
   "id": "a1d1e644",
   "metadata": {},
   "source": [
    "# Q.3. What is the purpose of the return statement in a function? Can a function have multiple return statements? Explain with an example."
   ]
  },
  {
   "cell_type": "markdown",
   "id": "8326c890",
   "metadata": {},
   "source": [
    "### Answer"
   ]
  },
  {
   "cell_type": "markdown",
   "id": "c9af4e9b",
   "metadata": {},
   "source": [
    "* The return statement in a function is used to specify the value that the function should return when it is called. \n",
    "\n",
    "* When a return statement is executed, the function immediately stops executing and returns the specified value to the caller.  \n",
    "\n",
    "* The purpose of the return statement is to allow a function to pass its output or result back to the calling code.  \n",
    "\n",
    "* Without the return statement, a function would not be able to return any value back to the caller, and its output would not \n",
    "be usable in the rest of the program.  \n",
    "\n",
    "\n"
   ]
  },
  {
   "cell_type": "markdown",
   "id": "722cd82a",
   "metadata": {},
   "source": [
    "* **A function can have multiple return statements**, but only one return statement will be executed when the function is called.   \n",
    "* The first return statement that is encountered during the function's execution will cause the function to stop executing and \n",
    "return the specified value to the caller.  \n",
    "* Here's an example of a function with multiple return statements:  \n",
    "\n",
    "\n",
    "\n"
   ]
  },
  {
   "cell_type": "code",
   "execution_count": 6,
   "id": "f9681f3b",
   "metadata": {},
   "outputs": [],
   "source": [
    "# This function takes an integer argument and returns a string\n",
    "# indicating whether the number is positive, negative, or zero"
   ]
  },
  {
   "cell_type": "code",
   "execution_count": 7,
   "id": "e2ba19a8",
   "metadata": {},
   "outputs": [
    {
     "name": "stdout",
     "output_type": "stream",
     "text": [
      "Positive\n",
      "Negative\n",
      "Zero\n"
     ]
    }
   ],
   "source": [
    "def check_number(n):\n",
    "    if n > 0:\n",
    "        return \"Positive\"\n",
    "    elif n < 0:\n",
    "        return \"Negative\"\n",
    "    else:\n",
    "        return \"Zero\"\n",
    "\n",
    "# Call the function with argument 5\n",
    "result1 = check_number(5)\n",
    "print(result1)  # Output: Positive\n",
    "\n",
    "# Call the function with argument -3\n",
    "result2 = check_number(-3)\n",
    "print(result2)  # Output: Negative\n",
    "\n",
    "# Call the function with argument 0\n",
    "result3 = check_number(0)\n",
    "print(result3)  # Output: Zero\n"
   ]
  },
  {
   "cell_type": "code",
   "execution_count": null,
   "id": "cd722f12",
   "metadata": {},
   "outputs": [],
   "source": []
  },
  {
   "cell_type": "markdown",
   "id": "1f4a35e7",
   "metadata": {},
   "source": [
    "# 4. What are lambda functions in Python? How are they different from regular functions?\n",
    "# Provide an example where a lambda function can be useful.\n",
    "\n"
   ]
  },
  {
   "cell_type": "markdown",
   "id": "e5f5023a",
   "metadata": {},
   "source": [
    "### Answer"
   ]
  },
  {
   "cell_type": "markdown",
   "id": "2f49f356",
   "metadata": {},
   "source": [
    "**Lambda Funcitons**\n",
    "\n",
    "* Lambda functions in Python are anonymous functions that are defined using the lambda keyword.   \n",
    "* They are called anonymous functions because they don't have a name like regular functions.   \n",
    "* Instead, they can be used as a one-liner function that can be passed as an argument to other functions.  "
   ]
  },
  {
   "cell_type": "markdown",
   "id": "883bdd1c",
   "metadata": {},
   "source": [
    "**Lambda functions are different from regular functions in a few ways:**\n",
    "\n",
    "1.\tLambda functions are defined using the lambda keyword, while regular functions are defined using the def keyword.\n",
    "2.\tLambda functions can only contain a single expression, while regular functions can contain multiple statements.\n",
    "3.\tLambda functions do not have a name, while regular functions have a name that can be used to call them."
   ]
  },
  {
   "cell_type": "code",
   "execution_count": null,
   "id": "51a876f8",
   "metadata": {},
   "outputs": [],
   "source": [
    "Here's an example of a lambda function that takes two arguments and returns their sum:"
   ]
  },
  {
   "cell_type": "code",
   "execution_count": 8,
   "id": "727d3b19",
   "metadata": {},
   "outputs": [
    {
     "name": "stdout",
     "output_type": "stream",
     "text": [
      "8\n"
     ]
    }
   ],
   "source": [
    "sum = lambda x, y: x + y\n",
    "result = sum(3, 5)\n",
    "print(result)  # Output: 8"
   ]
  },
  {
   "cell_type": "markdown",
   "id": "a8563170",
   "metadata": {},
   "source": [
    "**Lambda functions can be useful in situations** where you need to create a function that will only be used once or where you need to pass a simple function as an argument to another function.   \n",
    "\n",
    "For example, you can use a lambda function with the built-in map() function to apply a function to each element of a list:  \n"
   ]
  },
  {
   "cell_type": "code",
   "execution_count": 9,
   "id": "3d08200b",
   "metadata": {},
   "outputs": [],
   "source": [
    "# Define a list of numbers\n",
    "numbers = [1, 2, 3, 4, 5]\n",
    "\n",
    "# Use a lambda function with the map() function to square each number in the list\n",
    "squared_numbers = list(map(lambda x: x ** 2, numbers))"
   ]
  },
  {
   "cell_type": "code",
   "execution_count": 10,
   "id": "5069bbae",
   "metadata": {},
   "outputs": [
    {
     "name": "stdout",
     "output_type": "stream",
     "text": [
      "[1, 4, 9, 16, 25]\n"
     ]
    }
   ],
   "source": [
    "# Print the squared numbers\n",
    "print(squared_numbers)  # Output: [1, 4, 9, 16, 25]"
   ]
  },
  {
   "cell_type": "code",
   "execution_count": null,
   "id": "7c1532d4",
   "metadata": {},
   "outputs": [],
   "source": []
  },
  {
   "cell_type": "markdown",
   "id": "3a2ba082",
   "metadata": {},
   "source": [
    "# 5. How does the concept of \"scope\" apply to functions in Python? Explain the difference between local scope and global scope. \n",
    "\n"
   ]
  },
  {
   "cell_type": "markdown",
   "id": "0e62d375",
   "metadata": {},
   "source": [
    "### Answer"
   ]
  },
  {
   "cell_type": "markdown",
   "id": "54b10c6a",
   "metadata": {},
   "source": [
    "* In Python, the concept of \"scope\" refers to the **visibility and accessibility of variables and other objects within a program,  based on where they are defined.**   \n",
    "\n",
    "* In particular, when you define a variable or object within a Python function,   it has a specific \"scope\" that determines where it can be accessed and modified.  \n",
    "\n"
   ]
  },
  {
   "cell_type": "markdown",
   "id": "694dd560",
   "metadata": {},
   "source": [
    "There are two main types of scope in Python: local scope and global scope.\n",
    "\n",
    "**Local scope:** \n",
    "\n",
    "* Variables and objects defined within a function have local scope, which means they are only accessible within the function itself. \n",
    "\n",
    "\n",
    "* This means that variables defined within a function cannot be accessed outside of the function, and any modifications made to those variables only affect their values within the function.\n",
    "\n"
   ]
  },
  {
   "cell_type": "code",
   "execution_count": null,
   "id": "0baf557d",
   "metadata": {},
   "outputs": [],
   "source": [
    "Here's an example of a function with a local variable:"
   ]
  },
  {
   "cell_type": "code",
   "execution_count": 11,
   "id": "a5851a28",
   "metadata": {},
   "outputs": [
    {
     "name": "stdout",
     "output_type": "stream",
     "text": [
      "The value of x is: 10\n"
     ]
    },
    {
     "ename": "NameError",
     "evalue": "name 'x' is not defined",
     "output_type": "error",
     "traceback": [
      "\u001b[1;31m---------------------------------------------------------------------------\u001b[0m",
      "\u001b[1;31mNameError\u001b[0m                                 Traceback (most recent call last)",
      "Cell \u001b[1;32mIn [11], line 6\u001b[0m\n\u001b[0;32m      3\u001b[0m     \u001b[38;5;28mprint\u001b[39m(\u001b[38;5;124m\"\u001b[39m\u001b[38;5;124mThe value of x is:\u001b[39m\u001b[38;5;124m\"\u001b[39m, x)\n\u001b[0;32m      5\u001b[0m my_function()  \u001b[38;5;66;03m# Output: \"The value of x is: 10\"\u001b[39;00m\n\u001b[1;32m----> 6\u001b[0m \u001b[38;5;28mprint\u001b[39m(\u001b[43mx\u001b[49m)  \u001b[38;5;66;03m# Output: NameError: name 'x' is not defined\u001b[39;00m\n",
      "\u001b[1;31mNameError\u001b[0m: name 'x' is not defined"
     ]
    }
   ],
   "source": [
    "def my_function():\n",
    "    x = 10  # This is a local variable\n",
    "    print(\"The value of x is:\", x)\n",
    "\n",
    "my_function()  # Output: \"The value of x is: 10\"\n",
    "print(x)  # Output: NameError: name 'x' is not defined"
   ]
  },
  {
   "cell_type": "markdown",
   "id": "60e5d881",
   "metadata": {},
   "source": [
    "### Explanation: \n",
    "    \n",
    "* In this example, the variable x is defined within the my_function() function and has local scope. \n",
    "* It can only be accessed within the function itself, as demonstrated by the print() statement within the function. \n",
    "* When we try to access x outside of the function, we get a NameError because it is not defined in the global scope.\n"
   ]
  },
  {
   "cell_type": "markdown",
   "id": "ca1b58a4",
   "metadata": {},
   "source": [
    "**Global scope:** \n",
    "\n",
    "Variables and objects defined outside of a function have global scope, which means they can be accessed and modified from anywhere in the program, including within functions.\n",
    "\n"
   ]
  },
  {
   "cell_type": "code",
   "execution_count": null,
   "id": "033933aa",
   "metadata": {},
   "outputs": [],
   "source": [
    "Here's an example of a global variable:"
   ]
  },
  {
   "cell_type": "code",
   "execution_count": 12,
   "id": "24d91e90",
   "metadata": {},
   "outputs": [
    {
     "name": "stdout",
     "output_type": "stream",
     "text": [
      "The value of y is: 20\n",
      "20\n"
     ]
    }
   ],
   "source": [
    "y = 20  # This is a global variable\n",
    "\n",
    "def my_function():\n",
    "    print(\"The value of y is:\", y)\n",
    "\n",
    "my_function()  # Output: \"The value of y is: 20\"\n",
    "print(y)  # Output: 20\n",
    "\n"
   ]
  },
  {
   "cell_type": "markdown",
   "id": "4f0d06f9",
   "metadata": {},
   "source": [
    "### Explanation:\n",
    "\n",
    "* In this example, the variable y is defined outside of the my_function() function and has global scope. \n",
    "* It can be accessed and modified from anywhere in the program, including within the function as demonstrated by the print() \n",
    "statement.\n"
   ]
  },
  {
   "cell_type": "code",
   "execution_count": null,
   "id": "77bf4f1d",
   "metadata": {},
   "outputs": [],
   "source": []
  },
  {
   "cell_type": "markdown",
   "id": "3a5671fb",
   "metadata": {},
   "source": [
    "# 6. How can you use the \"return\" statement in a Python function to return multiple values? "
   ]
  },
  {
   "cell_type": "markdown",
   "id": "7ca04916",
   "metadata": {},
   "source": [
    "### Answer"
   ]
  },
  {
   "cell_type": "markdown",
   "id": "145847be",
   "metadata": {},
   "source": [
    "* In Python, you can use the return statement in a function to return multiple values by **separating the values with commas.**   \n",
    "\n",
    "* When you return multiple values in this way, Python automatically creates a tuple containing the values, which can then be\n",
    " assigned to separate variables or accessed using indexing.  \n",
    " \n",
    "\n"
   ]
  },
  {
   "cell_type": "markdown",
   "id": "48085297",
   "metadata": {},
   "source": [
    "Here's an example:"
   ]
  },
  {
   "cell_type": "code",
   "execution_count": 17,
   "id": "70563f90",
   "metadata": {},
   "outputs": [],
   "source": [
    "def get_name_and_age():\n",
    "    name = \"Alice\"\n",
    "    age = 30\n",
    "    return name, age\n"
   ]
  },
  {
   "cell_type": "code",
   "execution_count": 18,
   "id": "f3352ceb",
   "metadata": {},
   "outputs": [
    {
     "name": "stdout",
     "output_type": "stream",
     "text": [
      "Alice\n",
      "30\n",
      "Alice\n",
      "30\n"
     ]
    }
   ],
   "source": [
    "# Call the function and assign the returned values to variables\n",
    "\n",
    "n, a = get_name_and_age()\n",
    "\n",
    "# Print the variables\n",
    "print(n)  # Output: \"Alice\"\n",
    "print(a)  # Output: 30\n",
    "\n",
    "# Access the returned values using indexing\n",
    "result = get_name_and_age()\n",
    "print(result[0])  # Output: \"Alice\"\n",
    "print(result[1])  # Output: 30\n",
    "\n"
   ]
  },
  {
   "cell_type": "code",
   "execution_count": null,
   "id": "cbd8fbd9",
   "metadata": {},
   "outputs": [],
   "source": []
  },
  {
   "cell_type": "markdown",
   "id": "aaee6496",
   "metadata": {},
   "source": [
    "# 7. What is the difference between the \"pass by value\" and \"pass by reference\" concepts when it comes to function argumentsin Python? \n",
    "\n"
   ]
  },
  {
   "cell_type": "markdown",
   "id": "c39c5ff6",
   "metadata": {},
   "source": [
    "### Answer"
   ]
  },
  {
   "cell_type": "markdown",
   "id": "beb61275",
   "metadata": {},
   "source": [
    "In Python, the difference between \"pass by value\" and \"pass by reference\" is not straightforward because Python uses a somewhat   different approach, which is called **\"pass by object reference\".**  "
   ]
  },
  {
   "cell_type": "markdown",
   "id": "6c073b0b",
   "metadata": {},
   "source": [
    "* In **\"pass by value\"**, a copy of the value of the argument is passed to the function.   \n",
    "* This means that any changes made to the  argument within the function do not affect the original value outside the function.  "
   ]
  },
  {
   "cell_type": "markdown",
   "id": "ba4d2472",
   "metadata": {},
   "source": [
    "* In **\"pass by reference\"**, a reference to the original object is passed to the function. \n",
    "* This means that any changes made to the argument within the function affect the original value outside the function.\n"
   ]
  },
  {
   "cell_type": "markdown",
   "id": "dafe1d39",
   "metadata": {},
   "source": [
    "* In Python, however, everything is an object, and function arguments are passed by object reference. \n",
    "* This means that when an object is passed as an argument, a reference to the object is created and passed to the function. \n",
    "* If the object is immutable (such as a string, tuple, or integer), any changes made to it within the function create a new \n",
    "object, and the original object outside the function remains unchanged. \n",
    "* If the object is mutable (such as a list, set, or dictionary), any changes made to it within the function modify the original \n",
    "object outside the function."
   ]
  },
  {
   "cell_type": "markdown",
   "id": "754c171d",
   "metadata": {},
   "source": [
    "Here's an example:"
   ]
  },
  {
   "cell_type": "code",
   "execution_count": 20,
   "id": "3bcfeb91",
   "metadata": {},
   "outputs": [
    {
     "name": "stdout",
     "output_type": "stream",
     "text": [
      "[1, 2, 3, 4]\n"
     ]
    }
   ],
   "source": [
    "def modify_list(my_list):\n",
    "    my_list.append(4)\n",
    "\n",
    "my_list = [1, 2, 3]\n",
    "modify_list(my_list)\n",
    "print(my_list)  # Output: [1, 2, 3, 4]"
   ]
  },
  {
   "cell_type": "code",
   "execution_count": null,
   "id": "e65bbbdd",
   "metadata": {},
   "outputs": [],
   "source": []
  },
  {
   "cell_type": "markdown",
   "id": "02392e2b",
   "metadata": {},
   "source": [
    "## 8. Create a function that can intake integer or decimal value and do following operations:   \n",
    "##    a. Logarithmic function (log x)   \n",
    "##    b. Exponential function (exp(x))   \n",
    "##    c. Power function with base 2 (2 x )    \n",
    "##    d. Square root  \n",
    "\n"
   ]
  },
  {
   "cell_type": "markdown",
   "id": "bef7ae83",
   "metadata": {},
   "source": [
    "### Answer"
   ]
  },
  {
   "cell_type": "code",
   "execution_count": 2,
   "id": "bab818ac",
   "metadata": {},
   "outputs": [
    {
     "name": "stdout",
     "output_type": "stream",
     "text": [
      "Logarithmic function (log x): 1.3862943611198906\n",
      "Exponential function (exp(x)): 54.598150033144236\n",
      "Power function with base 2 (2^x): 16\n",
      "Square root: 2.0\n"
     ]
    }
   ],
   "source": [
    "\n",
    "import math\n",
    "\n",
    "def math_operations(x):\n",
    "    log_x = math.log(x)\n",
    "    exp_x = math.exp(x)\n",
    "    power_x = 2 ** x\n",
    "    sqrt_x = math.sqrt(x)\n",
    "    \n",
    "    print(\"Logarithmic function (log x):\", log_x)\n",
    "    print(\"Exponential function (exp(x)):\", exp_x)\n",
    "    print(\"Power function with base 2 (2^x):\", power_x)\n",
    "    print(\"Square root:\", sqrt_x)\n",
    "\n",
    "math_operations(4)"
   ]
  },
  {
   "cell_type": "code",
   "execution_count": null,
   "id": "a68c309f",
   "metadata": {},
   "outputs": [],
   "source": []
  },
  {
   "cell_type": "markdown",
   "id": "b01044f5",
   "metadata": {},
   "source": [
    "# 9. Create a function that takes a full name as an argument and returns first name and last name"
   ]
  },
  {
   "cell_type": "code",
   "execution_count": 14,
   "id": "fabf576d",
   "metadata": {},
   "outputs": [],
   "source": [
    "def get_first_and_last_name(full_name):\n",
    "    # Split the full name into a list of words\n",
    "    words = full_name.split()\n",
    "\n",
    "    # Get the first and last words from the list\n",
    "    first_name = words[0]\n",
    "    last_name = words[-1]\n",
    "\n",
    "    # Return the first and last names as a tuple\n",
    "    return (first_name, last_name)"
   ]
  },
  {
   "cell_type": "code",
   "execution_count": 15,
   "id": "aeab3888",
   "metadata": {},
   "outputs": [
    {
     "name": "stdout",
     "output_type": "stream",
     "text": [
      "('Jayshree', 'Donga')\n"
     ]
    }
   ],
   "source": [
    "# Call the function with a full name\n",
    "result = get_first_and_last_name(\"Jayshree Donga\")\n",
    "\n",
    "# Print the result\n",
    "print(result)  \n"
   ]
  },
  {
   "cell_type": "code",
   "execution_count": null,
   "id": "3f6fe4d2",
   "metadata": {},
   "outputs": [],
   "source": []
  }
 ],
 "metadata": {
  "kernelspec": {
   "display_name": "Python 3 (ipykernel)",
   "language": "python",
   "name": "python3"
  },
  "language_info": {
   "codemirror_mode": {
    "name": "ipython",
    "version": 3
   },
   "file_extension": ".py",
   "mimetype": "text/x-python",
   "name": "python",
   "nbconvert_exporter": "python",
   "pygments_lexer": "ipython3",
   "version": "3.10.9"
  }
 },
 "nbformat": 4,
 "nbformat_minor": 5
}

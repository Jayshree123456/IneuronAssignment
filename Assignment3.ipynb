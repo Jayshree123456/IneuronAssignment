{
 "cells": [
  {
   "cell_type": "markdown",
   "id": "1c40c2c6",
   "metadata": {},
   "source": [
    "# Assignment 3"
   ]
  },
  {
   "cell_type": "markdown",
   "id": "bc7035f9",
   "metadata": {},
   "source": [
    "# 1.Why are functions advantageous to have in your programs?"
   ]
  },
  {
   "cell_type": "markdown",
   "id": "11fc00a8",
   "metadata": {},
   "source": [
    "### Answer"
   ]
  },
  {
   "cell_type": "markdown",
   "id": "72302131",
   "metadata": {},
   "source": [
    "### Functions in Python offer a number of advantages, some of which include:\n",
    "\n",
    "1. Code reusability: Functions allow you to reuse code by encapsulating a block of code that performs a specific task. \n",
    "   Once a function is defined, you can call it multiple times from anywhere in your program, reducing code duplication \n",
    "   and making your code more efficient and readable.\n",
    "   \n",
    "\n",
    "2. Modularity: Functions make your code more modular by breaking it up into smaller, more manageable pieces. \n",
    "   This makes your   code easier to understand and maintain, as well as easier to test and debug.\n",
    "   \n",
    "\n",
    "3. Abstraction: Functions allow you to abstract away the details of how a particular task is performed, making it \n",
    "   easier to focus on the higher-level logic of your program. This can help you write more readable and maintainable code.\n",
    "   \n",
    "\n",
    "4. Scoping: Functions create a local scope for their variables, meaning that variables defined within a function are not \n",
    "   visible outside of that function. This helps to prevent naming conflicts and makes it easier to reason about your code.\n",
    "   \n",
    "\n",
    "5. Organization: Functions provide a way to organize your code into logical units, making it easier to navigate and \n",
    "   understand. This can be especially helpful for larger programs with many different functions.\n",
    "   \n",
    "\n",
    "6. Testing: Functions can be tested independently of the rest of your code, making it easier to identify and fix bugs.\n"
   ]
  },
  {
   "cell_type": "code",
   "execution_count": null,
   "id": "448c48cb",
   "metadata": {
    "scrolled": true
   },
   "outputs": [],
   "source": []
  },
  {
   "cell_type": "markdown",
   "id": "61b1d87a",
   "metadata": {},
   "source": [
    "# 2.When does the code in a function run: when it's specified or when it's called?"
   ]
  },
  {
   "cell_type": "markdown",
   "id": "5de9721a",
   "metadata": {},
   "source": [
    "### Answer"
   ]
  },
  {
   "cell_type": "markdown",
   "id": "eb530b54",
   "metadata": {},
   "source": [
    "In Python, the code in a function runs only when the function is called, not when it is defined. \n",
    "\n",
    "When you define a function in Python using the 'def' keyword, you are essentially creating a new object that represents the function. The code inside the function is not executed until the function is called.\n",
    "\n",
    "For example, consider the following function definition:\n",
    "\n",
    "\n",
    "def greet(name):\n",
    "    print(\"Hello, \" + name + \"!\")\n",
    "\n",
    "\n",
    "This defines a function called 'greet' that takes in a parameter 'name' and prints a greeting message to the console. \n",
    "However, no code is executed at this point.\n",
    "\n",
    "To actually execute the code in the function, you need to call it by its name, passing any required arguments in parentheses. Here's an example:\n",
    "\n",
    "\n",
    "greet(\"Alice\")\n",
    "\n",
    "\n",
    "This will call the 'greet' function with the argument \"Alice\", causing the message \"Hello, Alice!\" to be printed to the console.\n"
   ]
  },
  {
   "cell_type": "code",
   "execution_count": null,
   "id": "5a343d01",
   "metadata": {},
   "outputs": [],
   "source": []
  },
  {
   "cell_type": "markdown",
   "id": "95d5deb2",
   "metadata": {},
   "source": [
    "# 3. What statement creates a function?"
   ]
  },
  {
   "cell_type": "markdown",
   "id": "f97c3f0b",
   "metadata": {},
   "source": [
    "### Answer"
   ]
  },
  {
   "cell_type": "markdown",
   "id": "288426a3",
   "metadata": {},
   "source": [
    "### In Python, you can create a function using the 'def' statement followed by the function name and its   parameters.  \n",
    "Here is the syntax for defining a function in Python:\n",
    "\n",
    "def function_name(parameter1, parameter2, ...):\n",
    "    # Function body\n",
    "    # Statements to be executed when the function is called\n",
    "    return value\n",
    "\n",
    "\n",
    " The 'def' keyword is used to indicate that you are defining a function. 'function_name' is the name of the function, and 'parameter1', 'parameter2', etc. are the parameters that the function takes as input. The function body is indented below the 'def' statement and contains the statements to be executed when the function is called. The 'return' statement is used to specify the value that the function should return.\n",
    "\n",
    "For example, here is a simple function that takes two numbers as input and returns their sum:\n",
    "\n",
    "\n",
    "def add_numbers(x, y):\n",
    "    sum = x + y\n",
    "    return sum\n",
    "\n",
    "\n",
    "Once this function is defined, you can call it from other parts of your code by passing in arguments for 'x' and 'y', like this:\n",
    "\n",
    "\n",
    "result = add_numbers(3, 5)\n",
    "print(result)  # Output: 8\n",
    "\n"
   ]
  },
  {
   "cell_type": "code",
   "execution_count": null,
   "id": "a9919231",
   "metadata": {},
   "outputs": [],
   "source": []
  },
  {
   "cell_type": "markdown",
   "id": "9fa1732d",
   "metadata": {},
   "source": [
    "# 4. What is the difference between a function and a function call?"
   ]
  },
  {
   "cell_type": "markdown",
   "id": "411d3067",
   "metadata": {},
   "source": [
    "### Answer"
   ]
  },
  {
   "cell_type": "markdown",
   "id": "3c629faf",
   "metadata": {},
   "source": [
    "### In Python, a function is a block of code that performs a specific task, \n",
    "### while a function call is the act of invoking, or executing, a function with specific arguments.\n",
    "\n",
    "A function is defined using the 'def' keyword, followed by the function name, parentheses, and any required parameters. Here's an example of a function definition:\n",
    "\n",
    "\n",
    "def add_numbers(a, b):\n",
    "    return a + b\n",
    "\n",
    "This function takes two parameters, 'a' and 'b', and returns their sum.\n",
    "\n",
    "A function call, on the other hand, is the act of invoking the function with specific arguments. To call a function, you simply use the function name followed by parentheses and any required arguments. Here's an example of a function call:\n",
    "\n",
    "\n",
    "result = add_numbers(5, 3)\n",
    "\n",
    "\n",
    "In this example, the 'add_numbers' function is called with the arguments '5' and '3' The function executes and returns the value '8' which is then assigned to the variable 'result'."
   ]
  },
  {
   "cell_type": "code",
   "execution_count": null,
   "id": "c4546f8e",
   "metadata": {},
   "outputs": [],
   "source": []
  },
  {
   "cell_type": "markdown",
   "id": "f11e0015",
   "metadata": {},
   "source": [
    "# 5. How many global scopes are there in a Python program? How many local scopes?"
   ]
  },
  {
   "cell_type": "markdown",
   "id": "4b26df86",
   "metadata": {},
   "source": [
    "### Answer"
   ]
  },
  {
   "cell_type": "markdown",
   "id": "37d3a26b",
   "metadata": {},
   "source": [
    "### In a Python program, there is only one global scope, which is created when the program starts and  exists throughout the entire program. \n",
    "\n",
    "### On the other hand, local scopes are created whenever a function is called and are destroyed when the function returns. So there can be n number of local scope i.e. n means the number of times function is called.\n",
    "### When a function is called, a new local scope is created for that function's variables and any variables defined within that function are only accessible within that local scope. \n",
    "\n",
    "For example, consider the following code:\n",
    "\n",
    "```\n",
    "x = 100  # global variable\n",
    "\n",
    "def my_function():\n",
    "    y = 50  # local variable\n",
    "    print(x)  # global variable can be accessed\n",
    "    print(y)  # local variable can be accessed\n",
    "\n",
    "my_function()\n",
    "```\n",
    "\n",
    "In this example, there is one global variable 'x' and one local variable 'y' defined within the 'my_function' function.\n",
    "When 'my_function' is called, a new local scope is created for it, which contains the 'y' variable. \n",
    "The global variable 'x' is also accessible within the local scope of 'my_function'. \n",
    "When the function is finished executing, the local scope is destroyed and the 'y' variable is no longer accessible.\n",
    "\n"
   ]
  },
  {
   "cell_type": "code",
   "execution_count": null,
   "id": "cd1e51dd",
   "metadata": {},
   "outputs": [],
   "source": []
  },
  {
   "cell_type": "markdown",
   "id": "0c9dbeb4",
   "metadata": {},
   "source": [
    "# 6. What happens to variables in a local scope when the function call returns?"
   ]
  },
  {
   "cell_type": "markdown",
   "id": "685c7d41",
   "metadata": {},
   "source": [
    "### Answer"
   ]
  },
  {
   "cell_type": "markdown",
   "id": "6d035f58",
   "metadata": {},
   "source": [
    "### When a function call returns in Python, the variables defined within the local scope of that function are destroyed and their values are no longer accessible.\n",
    "\n",
    "In Python, each function call creates a new local scope, which is a separate namespace from the global scope and \n",
    "any other local scopes. Variables defined within a local scope are only accessible within that scope, \n",
    "and are destroyed when the function returns. This means that any variables defined within a function will not be \n",
    "accessible outside of that function's scope once the function returns.\n",
    "\n",
    "For example, consider the following code:"
   ]
  },
  {
   "cell_type": "code",
   "execution_count": 2,
   "id": "ff9e800b",
   "metadata": {},
   "outputs": [
    {
     "name": "stdout",
     "output_type": "stream",
     "text": [
      "The value of x is: 10\n"
     ]
    },
    {
     "ename": "NameError",
     "evalue": "name 'x' is not defined",
     "output_type": "error",
     "traceback": [
      "\u001b[1;31m---------------------------------------------------------------------------\u001b[0m",
      "\u001b[1;31mNameError\u001b[0m                                 Traceback (most recent call last)",
      "Cell \u001b[1;32mIn [2], line 6\u001b[0m\n\u001b[0;32m      3\u001b[0m     \u001b[38;5;28mprint\u001b[39m(\u001b[38;5;124m\"\u001b[39m\u001b[38;5;124mThe value of x is:\u001b[39m\u001b[38;5;124m\"\u001b[39m, x)\n\u001b[0;32m      5\u001b[0m my_function()\n\u001b[1;32m----> 6\u001b[0m \u001b[38;5;28mprint\u001b[39m(\u001b[38;5;124m\"\u001b[39m\u001b[38;5;124mThe value of x outside the function is:\u001b[39m\u001b[38;5;124m\"\u001b[39m, \u001b[43mx\u001b[49m)\n",
      "\u001b[1;31mNameError\u001b[0m: name 'x' is not defined"
     ]
    }
   ],
   "source": [
    "def my_function():\n",
    "    x = 10\n",
    "    print(\"The value of x is:\", x)\n",
    "\n",
    "my_function()\n",
    "print(\"The value of x outside the function is:\", x)"
   ]
  },
  {
   "cell_type": "markdown",
   "id": "4aef6f5e",
   "metadata": {},
   "source": [
    "In this example, the variable 'x' is defined within the local scope of the 'my_function' function.\n",
    "\n",
    "When the function is called, a new local scope is created and the value of 'x' is set to '10'. \n",
    "\n",
    "The value of 'x' is then printed to the console. \n",
    "\n",
    "\n",
    "However, once the function returns, the local scope is destroyed and the variable 'x' is no longer accessible. \n",
    "\n",
    "If you try to print the value of 'x' outside of the function, you will get a 'NameError'\n",
    "\n",
    "because 'x' is not defined in the global scope."
   ]
  },
  {
   "cell_type": "code",
   "execution_count": null,
   "id": "b56619de",
   "metadata": {},
   "outputs": [],
   "source": []
  },
  {
   "cell_type": "markdown",
   "id": "e5c62b5c",
   "metadata": {},
   "source": [
    "# 7. What is the concept of a return value? Is it possible to have a return value in an expression?"
   ]
  },
  {
   "cell_type": "markdown",
   "id": "1ddfaf9f",
   "metadata": {},
   "source": [
    "### Answer"
   ]
  },
  {
   "cell_type": "markdown",
   "id": "40761db9",
   "metadata": {},
   "source": [
    "### In Python, a return value is the value that a function returns after it has completed its computation.  When a function is called, it can perform some operations and then return a value to the caller.\n",
    "\n",
    "For example, consider the following function:\n",
    "\n",
    "\n",
    "def add_numbers(a, b):\n",
    "\n",
    "    return a + b\n",
    "\n",
    "\n",
    "This function takes two arguments, 'a' and 'b', and returns their sum. When this function is called, it performs the \n",
    "computation 'a + b' and then returns the result. The returned value can then be assigned to a variable, used in an expression, or printed to the console.\n",
    "\n",
    "### It is possible to have a return value in an expression in Python. Functions can be used within expressions just like any other value. For example, consider the following code:\n",
    "\n",
    "\n",
    "def add_numbers(a, b):\n",
    "\n",
    "    return a + b\n",
    "\n",
    "result = add_numbers(5, 3) * 2\n",
    "\n",
    "print(result)\n",
    "\n",
    "\n",
    "In this example, the 'add_number'  function is called with the arguments '5' and '3', which returns the value '8'. \n",
    "This value is then multiplied by '2' to produce the value '16', which is assigned to the variable 'result'. The value of 'result' is then printed to the console.\n",
    "\n",
    "In summary, a return value is the value that a function returns after it has completed its computation. Functions can be used within expressions just like any other value in Python.\n"
   ]
  },
  {
   "cell_type": "code",
   "execution_count": null,
   "id": "a619127a",
   "metadata": {},
   "outputs": [],
   "source": []
  },
  {
   "cell_type": "markdown",
   "id": "a144b8a4",
   "metadata": {},
   "source": [
    "# 8. If a function does not have a return statement, what is the return value of a call to that function?"
   ]
  },
  {
   "cell_type": "markdown",
   "id": "eb3c4629",
   "metadata": {},
   "source": [
    "### Answer"
   ]
  },
  {
   "cell_type": "markdown",
   "id": "c1928dab",
   "metadata": {},
   "source": [
    "###  If a function does not have a return statement in Python, the return value of a call to that function is 'None'.\n",
    "\n",
    "### When a function is called in Python, it can optionally return a value using the 'return' statement. If the function does not have a 'return' statement, or if the 'return' statement does not specify a value to return, the function will return 'None' by default.\n",
    "\n",
    "\n"
   ]
  },
  {
   "cell_type": "markdown",
   "id": "62afdc5a",
   "metadata": {},
   "source": [
    "For example, consider the following function:\n",
    "\n",
    "\n",
    "def print_hello():\n",
    "    print(\"Hello, World!\")\n",
    "\n",
    "\n",
    "This function does not have a 'return' statement. When this function is called, it will print the message \"Hello, World!\" to the console, but it will not return a value. If you try to assign the result of this function call to a variable, the variable will contain the value 'None'.\n",
    "\n",
    "\n",
    "result = print_hello()\n",
    "print(result)  # Output: None\n",
    "\n",
    "\n",
    "In this example, the 'print_hello' function is called, which prints the message \"Hello, World!\" to the console. \n",
    "The result of the function call is assigned to the variable 'result', but since the function does not have a return statement, the value of 'result' is set to 'None'.\n",
    "\n",
    "In summary, if a function does not have a return statement in Python, the return value of a call to that function is 'None'."
   ]
  },
  {
   "cell_type": "code",
   "execution_count": null,
   "id": "dfa7b1e1",
   "metadata": {},
   "outputs": [],
   "source": [
    "# program to None type"
   ]
  },
  {
   "cell_type": "code",
   "execution_count": 4,
   "id": "9e895efe",
   "metadata": {},
   "outputs": [
    {
     "name": "stdout",
     "output_type": "stream",
     "text": [
      "Hello, World!\n",
      "None\n"
     ]
    }
   ],
   "source": [
    "def print_hello():\n",
    "    print(\"Hello, World!\")\n",
    "\n",
    "\n",
    "result = print_hello()\n",
    "print(result)  # Output: None"
   ]
  },
  {
   "cell_type": "code",
   "execution_count": null,
   "id": "787dfea8",
   "metadata": {},
   "outputs": [],
   "source": []
  },
  {
   "cell_type": "markdown",
   "id": "c581b4bd",
   "metadata": {},
   "source": [
    "# 9. How do you make a function variable refer to the global variable?\n"
   ]
  },
  {
   "cell_type": "markdown",
   "id": "cb38e7b2",
   "metadata": {},
   "source": [
    "### Answer"
   ]
  },
  {
   "cell_type": "markdown",
   "id": "5286eac7",
   "metadata": {},
   "source": [
    "### In Python, if you want to refer to a global variable from within a function, you can use the 'global' keyword to declare  the variable as global. This tells Python that the variable should be accessed from the global scope rather than creating  a new local variable with the same name."
   ]
  },
  {
   "cell_type": "code",
   "execution_count": 5,
   "id": "1729ad4b",
   "metadata": {},
   "outputs": [
    {
     "name": "stdout",
     "output_type": "stream",
     "text": [
      "The value of x inside the function is: 20\n",
      "The value of x outside the function is: 20\n"
     ]
    }
   ],
   "source": [
    "\n",
    "#For example, consider the following code:\n",
    "\n",
    "x = 10\n",
    "\n",
    "def my_function():\n",
    "    global x\n",
    "    x = 20\n",
    "    print(\"The value of x inside the function is:\", x)\n",
    "\n",
    "my_function()\n",
    "print(\"The value of x outside the function is:\", x)\n",
    "\n",
    "\n"
   ]
  },
  {
   "cell_type": "markdown",
   "id": "9adc43fa",
   "metadata": {},
   "source": [
    "In this example, the variable 'x' is defined in the global scope with a value of '10'. The 'my_function' function is then\n",
    "defined, which declares 'x' as a global variable using the 'global' keyword. Within the function, the value of 'x' is \n",
    "changed to '20' and then printed to the console. When the function returns, the value of 'x' in the global scope has been\n",
    "updated to '20'. The value of 'x' is then printed again outside the function, which shows that the global variable has been \n",
    "updated.\n"
   ]
  },
  {
   "cell_type": "code",
   "execution_count": null,
   "id": "77667dea",
   "metadata": {},
   "outputs": [],
   "source": []
  },
  {
   "cell_type": "markdown",
   "id": "ce8bbe80",
   "metadata": {},
   "source": [
    "# 10. What is the data type of None?"
   ]
  },
  {
   "cell_type": "markdown",
   "id": "93d9bf57",
   "metadata": {},
   "source": [
    "# Answer"
   ]
  },
  {
   "cell_type": "markdown",
   "id": "a48a725b",
   "metadata": {},
   "source": [
    "### In Python, 'None' is a special constant that represents the absence of a value or the lack of a return value. \n",
    "### It is often used to signify that something has not been initialized or that a function or method does not return a value.\n",
    "\n",
    "### The data type of 'None' in Python is 'NoneType'. It is a built-in data type that has only one possible value, which is  'None'. You can check the data type of 'None' using the 'type()' function in Python, like this:"
   ]
  },
  {
   "cell_type": "code",
   "execution_count": 7,
   "id": "2819e859",
   "metadata": {},
   "outputs": [
    {
     "data": {
      "text/plain": [
       "NoneType"
      ]
     },
     "execution_count": 7,
     "metadata": {},
     "output_type": "execute_result"
    }
   ],
   "source": [
    "#Example\n",
    "\n",
    "type(None)\n",
    "\n"
   ]
  },
  {
   "cell_type": "code",
   "execution_count": null,
   "id": "0b5cf2c3",
   "metadata": {},
   "outputs": [],
   "source": []
  },
  {
   "cell_type": "markdown",
   "id": "6a8ab96f",
   "metadata": {},
   "source": [
    "# 11. What does the sentence import areallyourpetsnamederic do?\n",
    "\n"
   ]
  },
  {
   "cell_type": "markdown",
   "id": "8d6e5e22",
   "metadata": {},
   "source": [
    "### Answer"
   ]
  },
  {
   "cell_type": "markdown",
   "id": "7f13318e",
   "metadata": {},
   "source": [
    "The sentence import areallyourpetsnamederic' in Python is a syntactically valid import statement, but it does not actually import any valid Python module or package named \"areallyourpetsnamederic\". \n",
    "\n",
    "Python allows you to create your own modules and packages, and import them using the 'import statement. However, in this case, since there is no module or package named \"areallyourpetsnamederic\", Python will raise a 'ModuleNotFoundError' exception when this import statement is executed.\n"
   ]
  },
  {
   "cell_type": "code",
   "execution_count": 10,
   "id": "6790a729",
   "metadata": {},
   "outputs": [
    {
     "ename": "ModuleNotFoundError",
     "evalue": "No module named 'areallyourpetsnamederic'",
     "output_type": "error",
     "traceback": [
      "\u001b[1;31m---------------------------------------------------------------------------\u001b[0m",
      "\u001b[1;31mModuleNotFoundError\u001b[0m                       Traceback (most recent call last)",
      "Cell \u001b[1;32mIn [10], line 1\u001b[0m\n\u001b[1;32m----> 1\u001b[0m \u001b[38;5;28;01mimport\u001b[39;00m \u001b[38;5;21;01mareallyourpetsnamederic\u001b[39;00m\n",
      "\u001b[1;31mModuleNotFoundError\u001b[0m: No module named 'areallyourpetsnamederic'"
     ]
    }
   ],
   "source": [
    "#Demonstration of Example\n",
    "\n",
    "import areallyourpetsnamederic"
   ]
  },
  {
   "cell_type": "code",
   "execution_count": null,
   "id": "2fb49a32",
   "metadata": {},
   "outputs": [],
   "source": []
  },
  {
   "cell_type": "markdown",
   "id": "a801cb47",
   "metadata": {},
   "source": [
    "# 12. If you had a bacon() feature in a spam module, what would you call it after importing spam?\n"
   ]
  },
  {
   "cell_type": "markdown",
   "id": "377c4934",
   "metadata": {},
   "source": [
    "### Answer"
   ]
  },
  {
   "cell_type": "markdown",
   "id": "d2526f73",
   "metadata": {},
   "source": [
    "### If you had a `bacon()` function in a module named `spam` in Python, you can call it after importing the `spam` module using  the dot notation as follows:\n",
    "\n",
    "\n"
   ]
  },
  {
   "cell_type": "markdown",
   "id": "4ab59dc8",
   "metadata": {},
   "source": [
    "import spam\n",
    "\n",
    "spam.bacon()\n"
   ]
  },
  {
   "cell_type": "markdown",
   "id": "d6f0346e",
   "metadata": {},
   "source": [
    "Here, the `import` statement is used to import the `spam` module into your Python script. Once you have imported the `spam` \n",
    "module, you can access the `bacon()` function using the dot notation, which specifies the name of the module (`spam`) \n",
    "followed by the name of the function (`bacon()`)."
   ]
  },
  {
   "cell_type": "code",
   "execution_count": null,
   "id": "e5441d6f",
   "metadata": {},
   "outputs": [],
   "source": []
  },
  {
   "cell_type": "markdown",
   "id": "6c90d40c",
   "metadata": {},
   "source": [
    "# 13. What can you do to save a programme from crashing if it encounters an error?\n",
    "\n"
   ]
  },
  {
   "cell_type": "markdown",
   "id": "c71f7023",
   "metadata": {},
   "source": [
    "### Answer"
   ]
  },
  {
   "cell_type": "markdown",
   "id": "576aca82",
   "metadata": {},
   "source": [
    "In Python, there are several ways to save a program from crashing if it encounters an error. Here are some options:\n",
    "\n",
    "### 1.  Try-Except Blocks: You can use try-except blocks to catch and handle exceptions that may cause the program to crash.  If an error occurs within the try block, the program will jump to the except block and execute the code there instead of crashing.\n",
    "\n",
    "\n"
   ]
  },
  {
   "cell_type": "markdown",
   "id": "fafc62d3",
   "metadata": {},
   "source": [
    "Here is an example:\n",
    "\n",
    "\n",
    "try:\n",
    "    # code that may raise an error\n",
    "except:\n",
    "    # code to handle the error\n"
   ]
  },
  {
   "cell_type": "code",
   "execution_count": null,
   "id": "1c62659a",
   "metadata": {},
   "outputs": [],
   "source": []
  },
  {
   "cell_type": "markdown",
   "id": "3d04745c",
   "metadata": {},
   "source": [
    "# 14. What is the purpose of the try clause? What is the purpose of the except clause?\n"
   ]
  },
  {
   "cell_type": "markdown",
   "id": "fdd31f26",
   "metadata": {},
   "source": [
    "### Answer"
   ]
  },
  {
   "cell_type": "markdown",
   "id": "c3f2c392",
   "metadata": {},
   "source": [
    "### In Python, the 'try' clause is used to enclose the code that might raise an exception,  while the 'except' clause is used to handle the exception that was raised. The purpose of the 'try' clause is to attempt  to execute a block of code that might raise an exception, and the purpose of the 'except' clause is to specify what to do  if an exception is raised."
   ]
  },
  {
   "cell_type": "code",
   "execution_count": null,
   "id": "30820c1a",
   "metadata": {},
   "outputs": [],
   "source": [
    "Here's an example:\n",
    "\n",
    "\n",
    "try:\n",
    "    # block of code that might raise an exception\n",
    "except SomeException:\n",
    "    # handle the exception here"
   ]
  },
  {
   "cell_type": "markdown",
   "id": "2f9fa59d",
   "metadata": {},
   "source": [
    "In this example, the 'try' clause contains the code that might raise an exception. If an exception is raised, \n",
    "the program will jump to the 'except' clause, which specifies what to do if the exception named 'SomeException' is raised. \n",
    "You can specify a different exception type or use the 'except' clause without specifying an exception type to handle \n",
    "any type of exception that might be raised.\n",
    "\n",
    "The 'try' and 'except' clauses are often used together to catch and handle exceptions that might occur during the execution of \n",
    "a program. By using these clauses, you can prevent your program from crashing if an exception is raised, and handle the \n",
    "exception in a way that allows the program to continue running.\n"
   ]
  },
  {
   "cell_type": "code",
   "execution_count": null,
   "id": "77a2b0d4",
   "metadata": {},
   "outputs": [],
   "source": []
  }
 ],
 "metadata": {
  "kernelspec": {
   "display_name": "Python 3 (ipykernel)",
   "language": "python",
   "name": "python3"
  },
  "language_info": {
   "codemirror_mode": {
    "name": "ipython",
    "version": 3
   },
   "file_extension": ".py",
   "mimetype": "text/x-python",
   "name": "python",
   "nbconvert_exporter": "python",
   "pygments_lexer": "ipython3",
   "version": "3.10.9"
  }
 },
 "nbformat": 4,
 "nbformat_minor": 5
}

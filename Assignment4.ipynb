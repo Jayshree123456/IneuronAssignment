{
 "cells": [
  {
   "cell_type": "markdown",
   "id": "6997374d",
   "metadata": {},
   "source": [
    "# Assignment 4"
   ]
  },
  {
   "cell_type": "markdown",
   "id": "a55c4d87",
   "metadata": {},
   "source": [
    "# 1.\tWhat exactly is []?"
   ]
  },
  {
   "cell_type": "markdown",
   "id": "8496f3c9",
   "metadata": {},
   "source": [
    "### Answer"
   ]
  },
  {
   "cell_type": "code",
   "execution_count": null,
   "id": "aba6cba3",
   "metadata": {},
   "outputs": [],
   "source": [
    "In Python, [] denotes an empty list, which is a built-in data type that can hold an ordered collection of items. \n",
    "\n",
    "A list is created by placing comma-separated values inside square brackets. \n",
    "\n",
    "An empty list is simply a list that has no elements.\n",
    "\n",
    "Here is  an example of creating an empty list in Python:"
   ]
  },
  {
   "cell_type": "code",
   "execution_count": 5,
   "id": "166d5d0f",
   "metadata": {},
   "outputs": [
    {
     "name": "stdout",
     "output_type": "stream",
     "text": [
      "[]\n"
     ]
    }
   ],
   "source": [
    "my_list = []\n",
    "print(my_list)"
   ]
  },
  {
   "cell_type": "markdown",
   "id": "0c4be659",
   "metadata": {},
   "source": [
    "Now my_list is an empty list with a length of zero."
   ]
  },
  {
   "cell_type": "markdown",
   "id": "a1cf9b45",
   "metadata": {},
   "source": [
    "# 2.In a list of values stored in a variable called spam, how would you assign the value 'hello' as the third value? (Assume [2, 4, 6, 8, 10] are in spam.)"
   ]
  },
  {
   "cell_type": "markdown",
   "id": "b81a99fb",
   "metadata": {},
   "source": [
    "### Answer"
   ]
  },
  {
   "cell_type": "markdown",
   "id": "21eded60",
   "metadata": {},
   "source": [
    "To assign the value 'hello' as the third value in a list of values stored in a variable called spam, you can use indexing and assignment.\n",
    "\n",
    "In Python, indexing starts at 0, so the third value in the list has an index of 2. Here's how you can do it:"
   ]
  },
  {
   "cell_type": "code",
   "execution_count": 6,
   "id": "f601122a",
   "metadata": {},
   "outputs": [
    {
     "name": "stdout",
     "output_type": "stream",
     "text": [
      "[2, 4, 6, 8, 10]\n",
      "[2, 4, 'hello', 8, 10]\n"
     ]
    }
   ],
   "source": [
    "spam = [2, 4, 6, 8, 10]\n",
    "print(spam)\n",
    "spam[2] = 'hello'\n",
    "print(spam)"
   ]
  },
  {
   "cell_type": "code",
   "execution_count": null,
   "id": "9c558953",
   "metadata": {},
   "outputs": [],
   "source": [
    "After these statements are executed, spam will contain the following list:\n",
    "\n",
    "[2, 4, 'hello', 8, 10]\n",
    "\n",
    "Note that the value at the index position 2 (which is the third value in the list) has been replaced with the string 'hello'."
   ]
  },
  {
   "cell_type": "code",
   "execution_count": null,
   "id": "3a06feeb",
   "metadata": {},
   "outputs": [],
   "source": []
  },
  {
   "cell_type": "markdown",
   "id": "afa33d98",
   "metadata": {},
   "source": [
    "# Let's pretend the spam includes the list ['a', 'b', 'c', 'd'] for the next three queries.\n"
   ]
  },
  {
   "cell_type": "markdown",
   "id": "f138f0d4",
   "metadata": {},
   "source": [
    "# 3. What is the value of spam[int(int('3' * 2) / 11)]?\n",
    "# 4. What is the value of spam[-1]?\n",
    "# 5. What is the value of spam[:2]?"
   ]
  },
  {
   "cell_type": "markdown",
   "id": "367e7c44",
   "metadata": {},
   "source": [
    "### Answer 3"
   ]
  },
  {
   "cell_type": "markdown",
   "id": "aacc67f9",
   "metadata": {},
   "source": [
    "Assuming 'spam' includes the list `['a', 'b', 'c', 'd']"
   ]
  },
  {
   "cell_type": "markdown",
   "id": "18f9f018",
   "metadata": {},
   "source": [
    "The expression 'int('3' * 2)' concatenates two strings of '3' to form '33', which is then converted to the integer '33'. \n",
    "Dividing '33' by '11' using integer division (`//`) results in '3'.\n",
    "\n",
    "Finally, 'spam[3]' is accessed, which is the fourth element in the list."
   ]
  },
  {
   "cell_type": "code",
   "execution_count": 7,
   "id": "f2242dc6",
   "metadata": {},
   "outputs": [
    {
     "data": {
      "text/plain": [
       "'d'"
      ]
     },
     "execution_count": 7,
     "metadata": {},
     "output_type": "execute_result"
    }
   ],
   "source": [
    "spam = ['a','b','c','d']\n",
    "spam[int(int('3' * 2 )/11)]"
   ]
  },
  {
   "cell_type": "markdown",
   "id": "e7413764",
   "metadata": {},
   "source": [
    "### Answer 4"
   ]
  },
  {
   "cell_type": "markdown",
   "id": "8303b3aa",
   "metadata": {},
   "source": [
    "'spam[-1] evaluates to 'd', which is the last element in the list ''['a', 'b', 'c', 'd']''.\n",
    "    \n",
    "Negative indexing in Python starts from the end of the list, so ''-1' refers to the last element. \n"
   ]
  },
  {
   "cell_type": "code",
   "execution_count": 8,
   "id": "5d32ac35",
   "metadata": {},
   "outputs": [
    {
     "data": {
      "text/plain": [
       "'d'"
      ]
     },
     "execution_count": 8,
     "metadata": {},
     "output_type": "execute_result"
    }
   ],
   "source": [
    "spam = ['a','b','c','d']\n",
    "spam[-1]"
   ]
  },
  {
   "cell_type": "markdown",
   "id": "16b69ee6",
   "metadata": {},
   "source": [
    "### Answer 5"
   ]
  },
  {
   "cell_type": "markdown",
   "id": "9a99cc97",
   "metadata": {},
   "source": [
    "'spam[:2]'' evaluates to `['a', 'b']`, which is a new list containing the first two elements \n",
    "of the list ''['a', 'b', 'c', 'd']'' \n",
    "\n",
    "The slice notation ''[:2]'' means \"take all the elements from the beginning of the list up to (but not including) \n",
    "the element at index 2\"."
   ]
  },
  {
   "cell_type": "code",
   "execution_count": 9,
   "id": "2d5c165c",
   "metadata": {},
   "outputs": [
    {
     "data": {
      "text/plain": [
       "['a', 'b']"
      ]
     },
     "execution_count": 9,
     "metadata": {},
     "output_type": "execute_result"
    }
   ],
   "source": [
    "spam =['a','b','c','d']\n",
    "spam[:2]"
   ]
  },
  {
   "cell_type": "code",
   "execution_count": null,
   "id": "292bf072",
   "metadata": {},
   "outputs": [],
   "source": []
  },
  {
   "cell_type": "markdown",
   "id": "6106c3fb",
   "metadata": {},
   "source": [
    "# Let's pretend bacon has the list [3.14, 'cat,' 11, 'cat,' True] for the next three questions.\n",
    "\n",
    "# 6. What is the value of bacon.index('cat')?\n",
    "\n",
    "# 7. How does bacon.append(99) change the look of the list value in bacon?\n",
    "\n",
    "# 8. How does bacon.remove('cat') change the look of the list in bacon?\n"
   ]
  },
  {
   "cell_type": "markdown",
   "id": "6cff4fb5",
   "metadata": {},
   "source": [
    "### Answer 6"
   ]
  },
  {
   "cell_type": "markdown",
   "id": "fdb02522",
   "metadata": {},
   "source": [
    "bacon.index('cat') returns the index of the first occurrence of the string 'cat' in the list bacon. \n",
    "\n",
    "In this case, 'cat' appears at indices 1 and 3, but bacon.index('cat') returns the index 1, \n",
    "\n",
    "since that is the index of the first occurrence of 'cat'."
   ]
  },
  {
   "cell_type": "code",
   "execution_count": 10,
   "id": "fcbec47d",
   "metadata": {},
   "outputs": [
    {
     "data": {
      "text/plain": [
       "1"
      ]
     },
     "execution_count": 10,
     "metadata": {},
     "output_type": "execute_result"
    }
   ],
   "source": [
    "bacon = [3.14,'cat',11,'cat',True]\n",
    "bacon.index('cat')"
   ]
  },
  {
   "cell_type": "markdown",
   "id": "22896058",
   "metadata": {},
   "source": [
    "### Answer 7"
   ]
  },
  {
   "cell_type": "markdown",
   "id": "187e91c5",
   "metadata": {},
   "source": [
    "bacon.append(99) adds the integer 99 to the end of the list bacon. \n",
    "\n",
    "After this statement is executed, bacon will contain the following list: [3.14, 'cat', 11, 'cat', True, 99]."
   ]
  },
  {
   "cell_type": "code",
   "execution_count": 12,
   "id": "9d252d56",
   "metadata": {},
   "outputs": [
    {
     "name": "stdout",
     "output_type": "stream",
     "text": [
      "[3.14, 'cat', 11, 'cat', True, 99]\n"
     ]
    }
   ],
   "source": [
    "bacon = [3.14,'cat',11,'cat',True]\n",
    "bacon.append(99)\n",
    "print(bacon)"
   ]
  },
  {
   "cell_type": "markdown",
   "id": "1c09ef3c",
   "metadata": {},
   "source": [
    "### Answer 8"
   ]
  },
  {
   "cell_type": "markdown",
   "id": "9ea932ca",
   "metadata": {},
   "source": [
    "bacon.remove('cat') removes the first occurrence of the string 'cat' from the list bacon. \n",
    "\n",
    "After this statement is executed, bacon will contain the following list: [3.14, 11, 'cat', True]. \n",
    "\n",
    "Note that only the first occurrence of 'cat' is removed, so the second occurrence remains in the list."
   ]
  },
  {
   "cell_type": "code",
   "execution_count": 13,
   "id": "38a26a4a",
   "metadata": {},
   "outputs": [
    {
     "name": "stdout",
     "output_type": "stream",
     "text": [
      "[3.14, 11, 'cat', True]\n"
     ]
    }
   ],
   "source": [
    "bacon = [3.14,'cat',11,'cat',True]\n",
    "bacon.remove('cat')\n",
    "print(bacon)"
   ]
  },
  {
   "cell_type": "code",
   "execution_count": null,
   "id": "03c9455c",
   "metadata": {},
   "outputs": [],
   "source": []
  },
  {
   "cell_type": "markdown",
   "id": "05a2166e",
   "metadata": {},
   "source": [
    "# 9.What are the list concatenation and list replication operators?\n",
    "\n"
   ]
  },
  {
   "cell_type": "markdown",
   "id": "f404326b",
   "metadata": {},
   "source": [
    "### Answer"
   ]
  },
  {
   "cell_type": "markdown",
   "id": "cbcb653a",
   "metadata": {},
   "source": [
    "In Python, the list concatenation operator is +, which concatenates two or more lists into a new list.\n",
    "\n",
    "For example:\n",
    "\n",
    "\n",
    "#### list1 = [1, 2, 3]\n",
    "\n",
    "#### list2 = [4, 5, 6]\n",
    "\n",
    "#### concatenated_list = list1 + list2\n",
    "\n",
    "#### print(concatenated_list)   # Output: [1, 2, 3, 4, 5, 6]\n",
    "\n",
    "In this example, list1 + list2 creates a new list that contains all the elements of list1 followed by all the elements of list2.\n",
    "\n"
   ]
  },
  {
   "cell_type": "code",
   "execution_count": 14,
   "id": "741dedd0",
   "metadata": {},
   "outputs": [
    {
     "name": "stdout",
     "output_type": "stream",
     "text": [
      "[1, 2, 3, 4, 5, 6]\n"
     ]
    }
   ],
   "source": [
    "list1 = [1,2,3]\n",
    "list2 = [4,5,6]\n",
    "concatenated_list = list1 + list2\n",
    "print(concatenated_list)"
   ]
  },
  {
   "cell_type": "markdown",
   "id": "340eb501",
   "metadata": {},
   "source": [
    "The list replication operator is *, which creates a new list by replicating an existing list a given number of times.\n",
    "\n",
    "For example:\n",
    "\n",
    "#### list1 = [1, 2, 3]\n",
    "\n",
    "#### replicated_list = list1 * 3\n",
    "\n",
    "#### print(replicated_list)   # Output: [1, 2, 3, 1, 2, 3, 1, 2, 3]\n",
    "\n",
    "In this example, list1 * 3 creates a new list that contains three copies of all the elements in list1."
   ]
  },
  {
   "cell_type": "code",
   "execution_count": 15,
   "id": "e42ce003",
   "metadata": {},
   "outputs": [
    {
     "name": "stdout",
     "output_type": "stream",
     "text": [
      "[1, 2, 3, 1, 2, 3, 1, 2, 3]\n"
     ]
    }
   ],
   "source": [
    "list1 = [1,2,3]\n",
    "replicated_list = list1 * 3\n",
    "print(replicated_list)"
   ]
  },
  {
   "cell_type": "code",
   "execution_count": null,
   "id": "10541cde",
   "metadata": {},
   "outputs": [],
   "source": []
  },
  {
   "cell_type": "markdown",
   "id": "4c599572",
   "metadata": {},
   "source": [
    "# 10.What is difference between the list methods append() and insert()?"
   ]
  },
  {
   "cell_type": "markdown",
   "id": "ba924dea",
   "metadata": {},
   "source": [
    "### append() method\n",
    "The 'append()' method adds an element to the end of a list. \n",
    "\n",
    "It takes a single argument, which is the value to be added to the list. \n",
    "\n",
    "Here's an example:\n",
    "\n",
    "\n",
    "#### my_list = [1, 2, 3]\n",
    "\n",
    "#### my_list.append(4)\n",
    "\n",
    "#### print(my_list)   # Output: [1, 2, 3, 4]\n",
    "\n",
    "\n",
    "In this example, 'append(4)' adds the value '4' to the end of the list 'my_list'."
   ]
  },
  {
   "cell_type": "code",
   "execution_count": 16,
   "id": "b4efaef9",
   "metadata": {},
   "outputs": [
    {
     "name": "stdout",
     "output_type": "stream",
     "text": [
      "[1, 2, 3, 4]\n"
     ]
    }
   ],
   "source": [
    "my_list =[1,2,3]\n",
    "my_list.append(4)\n",
    "print(my_list)"
   ]
  },
  {
   "cell_type": "markdown",
   "id": "f0e2dfcf",
   "metadata": {},
   "source": [
    "### insert() method\n",
    "\n",
    "The 'insert()' method, on the other hand, adds an element to a specific position in the list. \n",
    "\n",
    "It takes two arguments: the first argument is the index position where the element should be inserted, and the second argument is the value to be inserted. \n",
    "\n",
    "Here's an example:\n",
    "\n",
    "\n",
    "#### my_list = [1, 2, 3]\n",
    "\n",
    "#### my_list.insert(1, 4)\n",
    "\n",
    "#### print(my_list)   # Output: [1, 4, 2, 3]\n",
    "\n",
    "\n",
    "In this example, 'insert(1, a)' inserts the value 'a' at index position '1' (i.e., the second position) of the list 'my_list'.\n",
    "\n",
    "This shifts all the elements at index positions 1 and greater one position to the right."
   ]
  },
  {
   "cell_type": "code",
   "execution_count": 17,
   "id": "cebb948d",
   "metadata": {},
   "outputs": [
    {
     "name": "stdout",
     "output_type": "stream",
     "text": [
      "[1, 'a', 2, 3]\n"
     ]
    }
   ],
   "source": [
    "my_list =[1,2,3]\n",
    "my_list.insert(1,'a')\n",
    "print(my_list)"
   ]
  },
  {
   "cell_type": "code",
   "execution_count": null,
   "id": "5e2273cf",
   "metadata": {},
   "outputs": [],
   "source": []
  },
  {
   "cell_type": "markdown",
   "id": "f4cac402",
   "metadata": {},
   "source": [
    "# 11.What are the two methods for removing items from a list?\n"
   ]
  },
  {
   "cell_type": "markdown",
   "id": "dbfeb727",
   "metadata": {},
   "source": [
    "### Answer"
   ]
  },
  {
   "cell_type": "markdown",
   "id": "8b2c8591",
   "metadata": {},
   "source": [
    "In Python, there are two methods for removing items from a list:\n",
    "\n",
    "### remove() method\n",
    "\n",
    "This method removes the first occurrence of a given value from the list. \n",
    "\n",
    "It takes a single argument, which is the value to be removed. \n",
    "\n",
    "If the value is not in the list, it raises a 'ValueError'. Here's an example:\n",
    "\n",
    "#### my_list = [1, 2, 3, 2]\n",
    "#### my_list.remove(2)\n",
    "#### print(my_list)   # Output: [1, 3, 2]\n",
    "\n",
    "In this example, 'remove(2)' removes the first occurrence of the value '2' from the list 'my_list'."
   ]
  },
  {
   "cell_type": "code",
   "execution_count": 18,
   "id": "1019c11b",
   "metadata": {},
   "outputs": [
    {
     "name": "stdout",
     "output_type": "stream",
     "text": [
      "[1, 3, 2]\n"
     ]
    }
   ],
   "source": [
    "my_list =[1,2,3,2]\n",
    "my_list.remove(2)\n",
    "print(my_list)"
   ]
  },
  {
   "cell_type": "markdown",
   "id": "124c7c0f",
   "metadata": {},
   "source": [
    "### pop() method\n",
    "\n",
    "This method removes the item at a given index position from the list and returns its value.\n",
    "\n",
    "If no index is specified, it removes and returns the last item in the list. Here's an example:\n",
    "\n",
    "\n",
    "#### my_list = [1, 2, 3]\n",
    "\n",
    "#### popped_item = my_list.pop(1)\n",
    "\n",
    "#### print(popped_item)   # Output: 2\n",
    "\n",
    "#### print(my_list)       # Output: [1, 3]\n",
    "\n",
    "\n",
    "In this example, 'pop(1)' removes the item at index position '1' (i.e., the second item) from the list 'my_list'\n",
    "and returns its value, which is '2'. The resulting list is '[1, 3]'."
   ]
  },
  {
   "cell_type": "code",
   "execution_count": 19,
   "id": "3d152b3d",
   "metadata": {},
   "outputs": [
    {
     "name": "stdout",
     "output_type": "stream",
     "text": [
      "2\n",
      "[1, 3]\n"
     ]
    }
   ],
   "source": [
    "my_list =[1,2,3]\n",
    "popped_item = my_list.pop(1)\n",
    "print(popped_item)\n",
    "print(my_list)"
   ]
  },
  {
   "cell_type": "code",
   "execution_count": null,
   "id": "1f02ea11",
   "metadata": {},
   "outputs": [],
   "source": []
  },
  {
   "cell_type": "markdown",
   "id": "3168acf9",
   "metadata": {},
   "source": [
    "# 12.Describe how list values and string values are identical.\n",
    "\n"
   ]
  },
  {
   "cell_type": "markdown",
   "id": "b37b25d7",
   "metadata": {},
   "source": [
    "### Answer"
   ]
  },
  {
   "cell_type": "markdown",
   "id": "398b999d",
   "metadata": {},
   "source": [
    "List values and string values share some similarities in how they are handled in Python. \n",
    "Here are some ways in which they are identical:\n",
    "\n",
    "### 1. Indexing: \n",
    "    \n",
    "Both lists and strings allow you to access individual elements or characters using indexing.\n",
    "In Python, indexing starts at 0, so the first element or character in a list or string has an index of 0.\n",
    "\n",
    "### 2. Slicing: \n",
    "\n",
    "Both lists and strings allow you to extract a portion of the sequence using slicing. Slicing allows you to specify a range of\n",
    "indices to extract a portion of the list or string.\n",
    "\n",
    "### 3. Iteration: \n",
    "  \n",
    "Both lists and strings can be iterated over using a loop. You can use a 'for' loop to iterate over each element or character    in the list or string.\n",
    "\n",
    "### 4. Concatenation: \n",
    " \n",
    "Both lists and strings can be concatenated using the '+' operator. This creates a new list or string that contains all the  elements or characters from the original lists or strings.\n",
    "\n",
    "### 5. Replication: \n",
    "\n",
    "Both lists and strings can be replicated using the '*' operator. This creates a new list or string by replicating the original list or string a given number of times.\n",
    "\n",
    "### 6. Membership testing: \n",
    "\n",
    "Both lists and strings support membership testing using the 'in' and 'not in' operators. These operators allow you to check if a given element or character is present in the list or string.\n",
    "\n"
   ]
  },
  {
   "cell_type": "code",
   "execution_count": null,
   "id": "65ed4351",
   "metadata": {},
   "outputs": [],
   "source": []
  },
  {
   "cell_type": "markdown",
   "id": "a428f33c",
   "metadata": {},
   "source": [
    "# 13.What's the difference between tuples and lists?"
   ]
  },
  {
   "cell_type": "markdown",
   "id": "1621ce65",
   "metadata": {},
   "source": [
    "### Answer"
   ]
  },
  {
   "cell_type": "markdown",
   "id": "5d4ffde4",
   "metadata": {},
   "source": [
    "In Python, tuples and lists are both used to store a collection of elements, but they have some key differences:\n",
    "    \n",
    "### 1 Mutability: \n",
    "    \n",
    "    Lists are mutable, which means you can modify their contents after they have been created. \n",
    "    Tuples, on the other hand, are immutable, which means you cannot modify their contents once they have been created.\n",
    "    \n",
    "### 2.Syntax: \n",
    "    \n",
    "    Lists are represented using square brackets [ ], while tuples are represented using parentheses ( ). \n",
    "    For example, [1, 2, 3] is a list, while (1, 2, 3) is a tuple.\n",
    "\n",
    "### 3.Usage: \n",
    "    Lists are typically used to store collections of related items that may need to be modified, \n",
    "    while tuples are typically used to store collections of related items that should not be modified once they are created.\n",
    "\n",
    "### 4.Methods: \n",
    "    Lists have several methods that are specific to their data type, such as append(), remove(), and sort(). \n",
    "    Tuples, being immutable, have fewer methods available to them.\n",
    "\n",
    "### 5.Performance: \n",
    "    Tuples are generally faster and more memory-efficient than lists, especially for large collections of data.\n",
    "\n",
    "\n",
    "### In summary, the main difference between tuples and lists is that tuples are immutable, while lists are mutable. Tuples are typically used to store data that should not be modified after it is created, while lists are used to store data that may need to be modified.\n"
   ]
  },
  {
   "cell_type": "code",
   "execution_count": null,
   "id": "a292f30d",
   "metadata": {},
   "outputs": [],
   "source": []
  },
  {
   "cell_type": "markdown",
   "id": "b9d60231",
   "metadata": {},
   "source": [
    "# 14.How do you type a tuple value that only contains the integer 42?\n"
   ]
  },
  {
   "cell_type": "markdown",
   "id": "32bd2152",
   "metadata": {},
   "source": [
    "### Answer"
   ]
  },
  {
   "cell_type": "markdown",
   "id": "3c4755d8",
   "metadata": {},
   "source": [
    "To create a tuple value that only contains the integer 42, you can enclose the integer in parentheses, like this:\n",
    "\n",
    "#### my_tuple = (42,)\n",
    "\n",
    "\n",
    "Note that the comma after the integer is important, as it distinguishes a tuple with a single element from a \n",
    "simple integer in parentheses. \n",
    "\n",
    "Without the comma, Python will interpret the value as a simple integer, not a tuple.\n",
    "\n"
   ]
  },
  {
   "cell_type": "code",
   "execution_count": 20,
   "id": "8d9fe6ca",
   "metadata": {},
   "outputs": [
    {
     "data": {
      "text/plain": [
       "int"
      ]
     },
     "execution_count": 20,
     "metadata": {},
     "output_type": "execute_result"
    }
   ],
   "source": [
    "my_tuple =(42)\n",
    "type(my_tuple)"
   ]
  },
  {
   "cell_type": "code",
   "execution_count": 21,
   "id": "dfebf1ec",
   "metadata": {},
   "outputs": [
    {
     "data": {
      "text/plain": [
       "tuple"
      ]
     },
     "execution_count": 21,
     "metadata": {},
     "output_type": "execute_result"
    }
   ],
   "source": [
    "my_tuple =(42,)\n",
    "type(my_tuple)"
   ]
  },
  {
   "cell_type": "code",
   "execution_count": null,
   "id": "b9cf0ece",
   "metadata": {},
   "outputs": [],
   "source": []
  },
  {
   "cell_type": "markdown",
   "id": "a23d729a",
   "metadata": {},
   "source": [
    "# 15.How do you get a list value's tuple form? How do you get a tuple value's list form?\n",
    "\n"
   ]
  },
  {
   "cell_type": "markdown",
   "id": "2985c1c8",
   "metadata": {},
   "source": [
    "### Answer"
   ]
  },
  {
   "cell_type": "markdown",
   "id": "4ae5211f",
   "metadata": {},
   "source": [
    "To get a list value's tuple form, you can use the 'tuple()'  function. \n",
    "\n",
    "This function takes a list as an argument and returns a new tuple containing the same elements as the list. \n",
    "\n",
    "Here's an example:\n",
    "\n",
    "\n",
    "#### my_list = [1,2,3]\n",
    "#### my_tuple = tuple(my_list)\n",
    "#### print(my_tuple)   # Output: (1, 2, 3)\n",
    "\n",
    "\n",
    "In this example, 'tuple(my_list)'  creates a new tuple containing the same elements as the list 'my_list'.\n",
    "\n"
   ]
  },
  {
   "cell_type": "code",
   "execution_count": 22,
   "id": "1f14fa93",
   "metadata": {},
   "outputs": [
    {
     "name": "stdout",
     "output_type": "stream",
     "text": [
      "(1, 2, 3)\n"
     ]
    }
   ],
   "source": [
    "my_list =[1,2,3]\n",
    "my_tuple =tuple(my_list)\n",
    "print(my_tuple)"
   ]
  },
  {
   "cell_type": "markdown",
   "id": "7ad4f381",
   "metadata": {},
   "source": [
    "To get a tuple value's list form, you can use the 'list()' function. \n",
    "\n",
    "This function takes a tuple as an argument and returns a new list containing the same elements as the tuple. \n",
    "\n",
    "Here's an example:\n",
    "\n",
    "\n",
    "#### my_tuple = (1, 2, 3)\n",
    "####  my_list = list(my_tuple)\n",
    "####  print(my_list)   # Output: [1, 2, 3]\n",
    "\n",
    "\n",
    "In this example, 'list(my_tuple)' creates a new list containing the same elements as the tuple 'my_tuple'."
   ]
  },
  {
   "cell_type": "code",
   "execution_count": 9,
   "id": "98667e39",
   "metadata": {},
   "outputs": [
    {
     "name": "stdout",
     "output_type": "stream",
     "text": [
      "[1, 2, 3]\n"
     ]
    }
   ],
   "source": [
    "my_tuple =(1,2,3)\n",
    "my_list = list(my_tuple)\n",
    "print(my_list)"
   ]
  },
  {
   "cell_type": "code",
   "execution_count": null,
   "id": "5c98b708",
   "metadata": {},
   "outputs": [],
   "source": []
  },
  {
   "cell_type": "markdown",
   "id": "1511abfc",
   "metadata": {},
   "source": [
    "# 16.Variables that \"contain\" list values are not necessarily lists themselves. Instead, what do they contain?"
   ]
  },
  {
   "cell_type": "markdown",
   "id": "b7f2d3e3",
   "metadata": {},
   "source": [
    "Variables that \"contain\" list values in Python actually contain references to the list objects. \n",
    "\n",
    "In other words, the variable does not directly store the list values, but rather a reference to the location in memory \n",
    "where the list is stored.\n",
    "\n",
    "When you assign a list to a variable in Python, the variable stores a reference to the list object, rather than a copy \n",
    "of the list itself. \n",
    "\n",
    "This means that if you assign the same list to multiple variables, all of the variables will reference the same list object \n",
    "in memory. \n",
    "For example:\n",
    "\n",
    "\n",
    "#### my_list = [1, 2, 3]\n",
    "\n",
    "#### other_list = my_list\n",
    "\n",
    "#### print(my_list)    # Output: [1, 2, 3]\n",
    "\n",
    "#### print(other_list)  # Output: [1, 2, 3]\n",
    "\n",
    "#### my_list.append(4)\n",
    "\n",
    "#### print(my_list)    # Output: [1, 2, 3, 4]\n",
    "\n",
    "#### print(other_list)  # Output: [1, 2, 3, 4]\n",
    "\n",
    "\n",
    "\n",
    "\n",
    "In this example, we create a list 'my_list' containing the elements '1', '2', and '3'. \n",
    "We then assign 'my_list' to another variable 'other_list. Both 'my_list' and 'other_list reference the same list object in memory, so any changes made to the list through one variable will be reflected in the other variable.\n",
    "\n",
    "So, while variables that \"contain\" list values in Python are often referred to as lists, they actually contain references to list objects in memory.\n"
   ]
  },
  {
   "cell_type": "code",
   "execution_count": 25,
   "id": "b4a8e6fe",
   "metadata": {},
   "outputs": [
    {
     "name": "stdout",
     "output_type": "stream",
     "text": [
      "[1, 2, 3]\n",
      "[1, 2, 3]\n"
     ]
    }
   ],
   "source": [
    "my_list =[1,2,3]\n",
    "other_list = my_list\n",
    "print(my_list)\n",
    "print(other_list)"
   ]
  },
  {
   "cell_type": "code",
   "execution_count": 26,
   "id": "35cf0ca4",
   "metadata": {},
   "outputs": [
    {
     "name": "stdout",
     "output_type": "stream",
     "text": [
      "[1, 2, 3, 4]\n",
      "[1, 2, 3, 4]\n"
     ]
    }
   ],
   "source": [
    "my_list.append(4)\n",
    "print(my_list)\n",
    "print(other_list)"
   ]
  },
  {
   "cell_type": "markdown",
   "id": "0cd1f9c3",
   "metadata": {},
   "source": [
    "# 17. How do you distinguish between copy.copy() and copy.deepcopy()?\n"
   ]
  },
  {
   "cell_type": "markdown",
   "id": "33c4df71",
   "metadata": {},
   "source": [
    "### Answer"
   ]
  },
  {
   "cell_type": "markdown",
   "id": "8bb423da",
   "metadata": {},
   "source": [
    "In Python's 'copy' module, 'copy.copy()' and 'copy.deepcopy()'' are two methods that are used to create copies of objects. \n",
    "\n",
    "Here's how they differ:\n",
    "\n",
    "'copy.copy()' creates a shallow copy of an object. \n",
    "\n",
    "A shallow copy of an object is a new object that is a copy of the original object, but the new object references the same \n",
    "objects as the original object. \n",
    "\n",
    "In other words, the new object contains references to the same objects in memory as the original object. \n",
    "If any of the referenced objects are mutable, changes made to them will be reflected in both the original and copied objects. \n",
    "\n",
    "Here's an example:\n",
    "\n",
    "\n",
    "import copy\n",
    "\n",
    "#### original_list = [1, [2, 3], 4]\n",
    "#### copied_list = copy.copy(original_list)\n",
    "\n",
    "#### print(original_list)   # Output: [1, [2, 3], 4]\n",
    "#### print(copied_list)     # Output: [1, [2, 3], 4]\n",
    "\n",
    "#### original_list[1][0] = 0\n",
    "#### print(original_list)   # Output: [1, [0, 3], 4]\n",
    "#### print(copied_list)     # Output: [1, [0, 3], 4]\n",
    "\n",
    "\n",
    "In this example, we create a list 'original_list' containing the elements '1', '[2, 3]', and '4'. We then use 'copy.copy()' to create a shallow copy of 'original_list' called 'copied_list. When we change the first element of the nested list in 'original_list', the same change is reflected in 'copied_list'.\n",
    "\n"
   ]
  },
  {
   "cell_type": "code",
   "execution_count": 3,
   "id": "dfb5df64",
   "metadata": {},
   "outputs": [
    {
     "name": "stdout",
     "output_type": "stream",
     "text": [
      "[1, [2, 3], 4]\n",
      "[1, [2, 3], 4]\n"
     ]
    }
   ],
   "source": [
    "import copy\n",
    "original_list=[1,[2,3],4]\n",
    "copied_list =copy.copy(original_list)\n",
    "print(original_list)\n",
    "print(copied_list)"
   ]
  },
  {
   "cell_type": "code",
   "execution_count": 4,
   "id": "9d30b91f",
   "metadata": {},
   "outputs": [
    {
     "name": "stdout",
     "output_type": "stream",
     "text": [
      "[1, [0, 3], 4]\n",
      "[1, [0, 3], 4]\n"
     ]
    }
   ],
   "source": [
    "original_list[1][0]=0\n",
    "print(original_list)\n",
    "print(copied_list)"
   ]
  },
  {
   "cell_type": "markdown",
   "id": "de7b3477",
   "metadata": {},
   "source": [
    "'copy.deepcopy()' creates a deep copy of an object. A deep copy of an object is a new object that is a copy of the \n",
    "original object, and all of the objects referenced by the original object are also copied recursively. \n",
    "\n",
    "In other words, a deep copy creates a completely new set of objects that are identical to the original objects. \n",
    "\n",
    "If any of the referenced objects are mutable, changes made to them will not be reflected in the copied object.\n",
    "\n",
    "Here's an example:\n",
    "\n",
    "\n",
    "import copy\n",
    "\n",
    "#### original_list = [1, [2, 3], 4]\n",
    "#### copied_list = copy.deepcopy(original_list)\n",
    "\n",
    "#### print(original_list)   # Output: [1, [2, 3], 4]\n",
    "#### print(copied_list)     # Output: [1, [2, 3], 4]\n",
    "\n",
    "#### original_list[1][0] = 0\n",
    "#### print(original_list)   # Output: [1, [0, 3], 4]\n",
    "#### print(copied_list)     # Output: [1, [2, 3], 4]\n",
    "\n",
    "\n",
    "In this example, we create a list 'original_list' containing the elements '1', '[2, 3]', and '4'. \n",
    "We then use 'copy.deepcopy()' to create a deep copy of 'original_list' called 'copied_list'. \n",
    "When we change the first element of the nested list in 'original_list', the same change is not reflected in 'copied_list'.\n"
   ]
  },
  {
   "cell_type": "code",
   "execution_count": 6,
   "id": "a61bc8a6",
   "metadata": {},
   "outputs": [
    {
     "name": "stdout",
     "output_type": "stream",
     "text": [
      "[1, [2, 3], 4]\n"
     ]
    }
   ],
   "source": [
    "import copy\n",
    "\n",
    "original_list =[1,[2,3],4]\n",
    "copied_list =copy.deepcopy(original_list)\n",
    "print(original_list)\n"
   ]
  },
  {
   "cell_type": "code",
   "execution_count": 7,
   "id": "b91b13ab",
   "metadata": {},
   "outputs": [
    {
     "name": "stdout",
     "output_type": "stream",
     "text": [
      "[1, [0, 3], 4]\n",
      "[1, [2, 3], 4]\n"
     ]
    }
   ],
   "source": [
    "original_list[1][0]=0\n",
    "print(original_list)\n",
    "print(copied_list)"
   ]
  },
  {
   "cell_type": "code",
   "execution_count": null,
   "id": "60ead7ee",
   "metadata": {},
   "outputs": [],
   "source": []
  }
 ],
 "metadata": {
  "kernelspec": {
   "display_name": "Python 3 (ipykernel)",
   "language": "python",
   "name": "python3"
  },
  "language_info": {
   "codemirror_mode": {
    "name": "ipython",
    "version": 3
   },
   "file_extension": ".py",
   "mimetype": "text/x-python",
   "name": "python",
   "nbconvert_exporter": "python",
   "pygments_lexer": "ipython3",
   "version": "3.10.9"
  }
 },
 "nbformat": 4,
 "nbformat_minor": 5
}

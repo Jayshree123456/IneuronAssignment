{
 "cells": [
  {
   "cell_type": "markdown",
   "id": "22422f35",
   "metadata": {},
   "source": [
    "# Assignment 5"
   ]
  },
  {
   "cell_type": "markdown",
   "id": "d1c962ab",
   "metadata": {},
   "source": [
    "# 1. What does an empty dictionary's code look like?"
   ]
  },
  {
   "cell_type": "markdown",
   "id": "87bc25dc",
   "metadata": {},
   "source": [
    "### Answer"
   ]
  },
  {
   "cell_type": "code",
   "execution_count": null,
   "id": "66f87a12",
   "metadata": {},
   "outputs": [],
   "source": [
    "In Python, an empty dictionary can be created using curly braces {} or the dict() constructor with no arguments. \n",
    "\n",
    "Here is an example of creating an empty dictionary using both methods:\n",
    "\n",
    "# Using curly braces\n",
    "my_dict = {}\n",
    "\n",
    "# Using the dict() constructor\n",
    "my_dict = dict()\n",
    "\n",
    "Both of these approaches will create an empty dictionary with no key-value pairs."
   ]
  },
  {
   "cell_type": "code",
   "execution_count": 1,
   "id": "ce9182e9",
   "metadata": {},
   "outputs": [],
   "source": [
    "my_dict = {}"
   ]
  },
  {
   "cell_type": "code",
   "execution_count": 2,
   "id": "8e6d05ae",
   "metadata": {},
   "outputs": [],
   "source": [
    "my_dict = dict()"
   ]
  },
  {
   "cell_type": "code",
   "execution_count": null,
   "id": "5fc98a7a",
   "metadata": {},
   "outputs": [],
   "source": []
  },
  {
   "cell_type": "markdown",
   "id": "c2d55bcf",
   "metadata": {},
   "source": [
    "# 2.What is the value of a dictionary value with the key 'foo' and the value 42?"
   ]
  },
  {
   "cell_type": "markdown",
   "id": "2efc9f66",
   "metadata": {},
   "source": [
    "### Answer"
   ]
  },
  {
   "cell_type": "code",
   "execution_count": null,
   "id": "58e44c91",
   "metadata": {},
   "outputs": [],
   "source": [
    "If a dictionary has a key 'foo' with a value of 42, you can access the value associated with the key using square brackets [] \n",
    "with the key:\n",
    "\n",
    "my_dict = {'foo': 42}\n",
    "value = my_dict['foo']\n",
    "print(value)  # Output: 42\n",
    "\n",
    "In this case, the value associated with the key 'foo' is 42."
   ]
  },
  {
   "cell_type": "code",
   "execution_count": 16,
   "id": "f4fb64b7",
   "metadata": {},
   "outputs": [
    {
     "name": "stdout",
     "output_type": "stream",
     "text": [
      "42\n"
     ]
    }
   ],
   "source": [
    "my_dict ={'foo': 42}\n",
    "value = my_dict['foo']\n",
    "print(value)"
   ]
  },
  {
   "cell_type": "markdown",
   "id": "1a637629",
   "metadata": {},
   "source": [
    "# 3.What is the most significant distinction between a dictionary and a list?"
   ]
  },
  {
   "cell_type": "markdown",
   "id": "06657a8f",
   "metadata": {},
   "source": [
    "### Answer"
   ]
  },
  {
   "cell_type": "markdown",
   "id": "a815ffd7",
   "metadata": {},
   "source": [
    "### Lists are ordered, dictionaries are not:,\n",
    " \n",
    "    The elements in a list are stored in a specific order, and you can access them by their position (index). In contrast, \n",
    "    the key-value pairs in a dictionary are not stored in any particular order, and you access them by their keys."
   ]
  },
  {
   "cell_type": "markdown",
   "id": "fe9b8240",
   "metadata": {},
   "source": [
    "### Lists are indexed by integers, dictionaries are indexed by keys: \n",
    "\n",
    "    In a list, each element is accessed by its position, which is an integer. In a dictionary, each value is accessed by its key, which can be of any hashable data type (such as a string, integer, or tuple).\n"
   ]
  },
  {
   "cell_type": "markdown",
   "id": "fe9e2edd",
   "metadata": {},
   "source": [
    "### Lists can contain duplicates, dictionaries cannot: \n",
    "    A list can contain duplicate elements, meaning that the same value can appear in the list multiple times. In contrast, a dictionary cannot have duplicate keys - each key must be unique within the dictionary.\n"
   ]
  },
  {
   "cell_type": "markdown",
   "id": "12e2387d",
   "metadata": {},
   "source": [
    "### Lists have a fixed order, dictionaries do not: \n",
    " In Python 3.7 and later, dictionaries preserve the order in which keys were inserted. However, this is not guaranteed behavior in earlier versions of Python, and in any case, dictionaries are not designed to be ordered collections. Lists, on the other hand, always preserve their order.\n"
   ]
  },
  {
   "cell_type": "code",
   "execution_count": null,
   "id": "b9baf942",
   "metadata": {},
   "outputs": [],
   "source": []
  },
  {
   "cell_type": "markdown",
   "id": "88e108e1",
   "metadata": {},
   "source": [
    "# 4.What happens if you try to access spam['foo'] if spam is {'bar': 100}?"
   ]
  },
  {
   "cell_type": "markdown",
   "id": "17a5dfea",
   "metadata": {},
   "source": [
    "### Answer"
   ]
  },
  {
   "cell_type": "code",
   "execution_count": null,
   "id": "3723ab41",
   "metadata": {},
   "outputs": [],
   "source": [
    "\n",
    "  If you try to access 'spam['foo']'' and 'spam' is ''{'bar': 100}'', you will get a 'KeyError', because 'spam' does not\n",
    "have a key 'foo'.\n",
    "\n",
    "Here is an example of trying to access 'spam['foo']':\n",
    "\n",
    "\n",
    "spam = {'bar': 100}\n",
    "print(spam['foo'])  # Raises KeyError: 'foo'\n",
    "\n"
   ]
  },
  {
   "cell_type": "code",
   "execution_count": 3,
   "id": "03ae3550",
   "metadata": {},
   "outputs": [
    {
     "ename": "KeyError",
     "evalue": "'foo'",
     "output_type": "error",
     "traceback": [
      "\u001b[1;31m---------------------------------------------------------------------------\u001b[0m",
      "\u001b[1;31mKeyError\u001b[0m                                  Traceback (most recent call last)",
      "Cell \u001b[1;32mIn [3], line 2\u001b[0m\n\u001b[0;32m      1\u001b[0m spam  \u001b[38;5;241m=\u001b[39m{\u001b[38;5;124m'\u001b[39m\u001b[38;5;124mbar\u001b[39m\u001b[38;5;124m'\u001b[39m : \u001b[38;5;241m100\u001b[39m}\n\u001b[1;32m----> 2\u001b[0m \u001b[38;5;28mprint\u001b[39m(\u001b[43mspam\u001b[49m\u001b[43m[\u001b[49m\u001b[38;5;124;43m'\u001b[39;49m\u001b[38;5;124;43mfoo\u001b[39;49m\u001b[38;5;124;43m'\u001b[39;49m\u001b[43m]\u001b[49m)\n",
      "\u001b[1;31mKeyError\u001b[0m: 'foo'"
     ]
    }
   ],
   "source": [
    "spam  ={'bar' : 100}\n",
    "print(spam['foo'])"
   ]
  },
  {
   "cell_type": "code",
   "execution_count": null,
   "id": "249cade5",
   "metadata": {},
   "outputs": [],
   "source": []
  },
  {
   "cell_type": "markdown",
   "id": "b6a1605a",
   "metadata": {},
   "source": [
    "# 5.If a dictionary is stored in spam, what is the difference between the expressions 'cat' in spam and 'cat' in spam.keys()?"
   ]
  },
  {
   "cell_type": "markdown",
   "id": "e4aa504a",
   "metadata": {},
   "source": [
    "### Answer"
   ]
  },
  {
   "cell_type": "markdown",
   "id": "e6853594",
   "metadata": {},
   "source": [
    "### Both expressions will give the same result and check for the presence of the key 'cat' in the dictionary's keys.\n",
    "\n",
    "If a dictionary is stored in the variable spam, the expression 'cat' in spam will check whether the key 'cat' is present in the\n",
    "keys of the dictionary. \n",
    "\n",
    "This expression will return True if the key 'cat' is present in the dictionary, and False otherwise.\n",
    "\n",
    "On the other hand, the expression 'cat' in spam.keys() will also check whether the key 'cat' is present in the keys of the \n",
    "dictionary. However, in this case, the keys() method is called explicitly to return a list of the keys of the dictionary, and \n",
    "then the expression checks whether the string 'cat' is present in that list. This expression will also return True if the key \n",
    "'cat' is present in the dictionary, and False otherwise.\n",
    "\n",
    "\n",
    "here's an example:\n",
    "\n",
    "\n",
    "# define a dictionary\n",
    "spam = {'cat': 'meow', 'dog': 'woof', 'bird': 'tweet'}\n",
    "\n",
    "# check if 'cat' is in the dictionary\n",
    "if 'cat' in spam:\n",
    "\n",
    "    print(\"'cat' is a key in the dictionary\")\n",
    "\n",
    "# check if 'cat' is in the dictionary using keys() method\n",
    "if 'cat' in spam.keys():\n",
    "\n",
    "    print(\"'cat' is a key in the dictionary\")\n",
    "    \n",
    " In this example, both if statements will be executed since the key 'cat' is present in the dictionary. The first if statement checks if 'cat' is a key in the dictionary spam, while the second if statement explicitly calls the keys() method to return a list of the keys and checks if 'cat' is present in that list. Both statements will print the same output: 'cat' is a key in the dictionary.\n"
   ]
  },
  {
   "cell_type": "markdown",
   "id": "65cbf6a6",
   "metadata": {},
   "source": [
    "# Program"
   ]
  },
  {
   "cell_type": "code",
   "execution_count": 1,
   "id": "e12bc521",
   "metadata": {},
   "outputs": [
    {
     "name": "stdout",
     "output_type": "stream",
     "text": [
      "'cat' is a key in the dictionary\n"
     ]
    }
   ],
   "source": [
    "spam = {'cat' : 'meow','dog' : 'woof','bird':'tweet'}\n",
    "\n",
    "if 'cat' in spam:\n",
    "    print(\"'cat' is a key in the dictionary\")"
   ]
  },
  {
   "cell_type": "markdown",
   "id": "1d3a517a",
   "metadata": {},
   "source": [
    "# program"
   ]
  },
  {
   "cell_type": "code",
   "execution_count": 3,
   "id": "b4de084b",
   "metadata": {},
   "outputs": [
    {
     "name": "stdout",
     "output_type": "stream",
     "text": [
      "'cat' is a key in the dictionary\n"
     ]
    }
   ],
   "source": [
    "spam = {'cat' : 'meow','dog' : 'woof','bird' :'tweet'}\n",
    "\n",
    "if 'cat' in spam.keys():\n",
    "    print(\"'cat' is a key in the dictionary\")\n"
   ]
  },
  {
   "cell_type": "code",
   "execution_count": null,
   "id": "bdea91d1",
   "metadata": {},
   "outputs": [],
   "source": []
  },
  {
   "cell_type": "markdown",
   "id": "c06c2c08",
   "metadata": {},
   "source": [
    "# 6.If a dictionary is stored in spam, what is the difference between the expressions 'cat' in spam and 'cat' in spam.values()?\n",
    "\n"
   ]
  },
  {
   "cell_type": "markdown",
   "id": "1e99c426",
   "metadata": {},
   "source": [
    "### Answer"
   ]
  },
  {
   "cell_type": "markdown",
   "id": "b6572b8a",
   "metadata": {},
   "source": [
    "     If a dictionary is stored in the variable spam, the expression 'cat' in spam will check whether the key 'cat' is present   in the keys of the dictionary. This expression will return True if the key 'cat' is present in the dictionary,  and False otherwise.\n",
    "\n",
    "     However, the expression 'cat' in spam.values() will check whether the value 'cat' is present in any of the values of the  dictionary. This expression will return True if the value 'cat' is present in any of the dictionary values, and False otherwise.\n",
    "\n",
    "     Here's an example to illustrate the difference:"
   ]
  },
  {
   "cell_type": "code",
   "execution_count": 7,
   "id": "de958e0d",
   "metadata": {},
   "outputs": [
    {
     "name": "stdout",
     "output_type": "stream",
     "text": [
      "'cat' is a key in the dictionary\n"
     ]
    }
   ],
   "source": [
    "# define a dictionary\n",
    "spam = {'cat': 'meow', 'dog': 'woof', 'bird': 'tweet'}\n",
    "\n",
    "# check if 'cat' is a key in the dictionary\n",
    "if 'cat' in spam:\n",
    "    print(\"'cat' is a key in the dictionary\")\n",
    "\n",
    "# check if 'cat' is a value in the dictionary using values() method\n",
    "if 'cat' in spam.values():\n",
    "    print(\"'cat' is a value in the dictionary\")"
   ]
  },
  {
   "cell_type": "code",
   "execution_count": null,
   "id": "eab55779",
   "metadata": {},
   "outputs": [],
   "source": []
  },
  {
   "cell_type": "markdown",
   "id": "e897d1b7",
   "metadata": {},
   "source": [
    "# 7. What is a shortcut for the following code?\n",
    "# if 'color' not in spam:\n",
    "# spam['color'] = 'black'\n"
   ]
  },
  {
   "cell_type": "markdown",
   "id": "7c8b0dfc",
   "metadata": {},
   "source": [
    "### Answer"
   ]
  },
  {
   "cell_type": "markdown",
   "id": "9386bdd5",
   "metadata": {},
   "source": [
    " You can use the dict.setdefault() method to set a default value for a key in a dictionary if the key is not already present. you can use setdefault() to create the key 'color' with a value of 'black' if it doesn't exist in the spam dictionary:\n",
    "\n",
    "\n",
    "spam.setdefault('color', 'black')\n",
    "\n",
    " This will check if the key 'color' is already in the dictionary. If it is, it returns the current value associated with the key. If it's not, it creates a new key 'color' with a value of 'black' and returns that value.\n",
    "\n"
   ]
  },
  {
   "cell_type": "code",
   "execution_count": 2,
   "id": "693c9d57",
   "metadata": {},
   "outputs": [
    {
     "data": {
      "text/plain": [
       "'black'"
      ]
     },
     "execution_count": 2,
     "metadata": {},
     "output_type": "execute_result"
    }
   ],
   "source": [
    "spam ={}\n",
    "spam.setdefault('color','black')"
   ]
  },
  {
   "cell_type": "code",
   "execution_count": 3,
   "id": "7efd3efc",
   "metadata": {},
   "outputs": [
    {
     "name": "stdout",
     "output_type": "stream",
     "text": [
      "{'color': 'black'}\n"
     ]
    }
   ],
   "source": [
    "print(spam)"
   ]
  },
  {
   "cell_type": "code",
   "execution_count": null,
   "id": "84d0ee42",
   "metadata": {},
   "outputs": [],
   "source": []
  },
  {
   "cell_type": "markdown",
   "id": "3b7f8dda",
   "metadata": {},
   "source": [
    "# 8. How do you \"pretty print\" dictionary values using which module and function?\n",
    "\n"
   ]
  },
  {
   "cell_type": "markdown",
   "id": "668a95f2",
   "metadata": {},
   "source": [
    "### Answer"
   ]
  },
  {
   "cell_type": "code",
   "execution_count": null,
   "id": "8c212cb6",
   "metadata": {},
   "outputs": [],
   "source": [
    "To \"pretty print\" dictionary values in Python, you can use the pprint module, which provides a pprint() function that can \n",
    "print complex data structures like dictionaries in a more human-readable format.\n",
    "\n",
    "Here's an example of how to use pprint() to pretty print a dictionary:\n",
    "\n",
    "import pprint\n",
    "\n",
    "my_dict = {'name': 'John', 'age': 30, 'city': 'New York'}\n",
    "\n",
    "pprint.pprint(my_dict)\n",
    "This will output the following:\n",
    "{'age': 30, 'city': 'New York', 'name': 'John'}\n",
    "\n",
    "The pprint() function prints the dictionary in a more readable and structured way, with each key-value pair on a separate line \n",
    "and indented for better readability.\n"
   ]
  },
  {
   "cell_type": "code",
   "execution_count": 14,
   "id": "b095a893",
   "metadata": {},
   "outputs": [
    {
     "name": "stdout",
     "output_type": "stream",
     "text": [
      "{'age': 30, 'city': 'New York', 'name': 'john'}\n"
     ]
    }
   ],
   "source": [
    "import pprint\n",
    "\n",
    "my_dict = {'name' :'john','age' :30,'city' : 'New York'}\n",
    "pprint.pprint(my_dict)\n"
   ]
  },
  {
   "cell_type": "code",
   "execution_count": null,
   "id": "681d055c",
   "metadata": {},
   "outputs": [],
   "source": []
  }
 ],
 "metadata": {
  "kernelspec": {
   "display_name": "Python 3 (ipykernel)",
   "language": "python",
   "name": "python3"
  },
  "language_info": {
   "codemirror_mode": {
    "name": "ipython",
    "version": 3
   },
   "file_extension": ".py",
   "mimetype": "text/x-python",
   "name": "python",
   "nbconvert_exporter": "python",
   "pygments_lexer": "ipython3",
   "version": "3.10.9"
  }
 },
 "nbformat": 4,
 "nbformat_minor": 5
}

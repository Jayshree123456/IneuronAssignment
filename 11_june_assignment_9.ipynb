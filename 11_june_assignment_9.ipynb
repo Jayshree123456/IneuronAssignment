{
 "cells": [
  {
   "cell_type": "markdown",
   "id": "ec641171",
   "metadata": {},
   "source": [
    "# 1. What is a lambda function in Python, and how does it differ from a regular function?"
   ]
  },
  {
   "cell_type": "markdown",
   "id": "5307554e",
   "metadata": {},
   "source": [
    "### Answer"
   ]
  },
  {
   "cell_type": "markdown",
   "id": "b6417268",
   "metadata": {},
   "source": [
    "In Python, a lambda function, also known as an **anonymous function**, is a small, single-expression function \n",
    "that does not have a name and can be defined inline in a program.       \n",
    "\n",
    "Here's an example of a lambda function that calculates the square of a number:    "
   ]
  },
  {
   "cell_type": "code",
   "execution_count": 3,
   "id": "124d6cdb",
   "metadata": {},
   "outputs": [
    {
     "name": "stdout",
     "output_type": "stream",
     "text": [
      "25\n"
     ]
    }
   ],
   "source": [
    "square = lambda x: x**2\n",
    "print(square(5))"
   ]
  },
  {
   "cell_type": "markdown",
   "id": "c73fa16c",
   "metadata": {},
   "source": [
    "The main difference between a lambda function and a regular function in Python is that a lambda function is defined in a single \n",
    "line and does not have a name. \n",
    "\n",
    "In contrast, a regular function is defined using the def keyword and can have multiple lines and a name.\n",
    "\n",
    "Here's an example of a regular function that does the same thing as the lambda function above:"
   ]
  },
  {
   "cell_type": "code",
   "execution_count": 4,
   "id": "addcaf21",
   "metadata": {},
   "outputs": [
    {
     "data": {
      "text/plain": [
       "25"
      ]
     },
     "execution_count": 4,
     "metadata": {},
     "output_type": "execute_result"
    }
   ],
   "source": [
    "def square(x):\n",
    "    return x**2\n",
    "\n",
    "square(5)"
   ]
  },
  {
   "cell_type": "markdown",
   "id": "06d30a9e",
   "metadata": {},
   "source": [
    "Both functions accomplish the same task, but the lambda function is more concise and can be defined inline where it is needed, \n",
    "while the regular function is more flexible and can be reused throughout the program.\n"
   ]
  },
  {
   "cell_type": "code",
   "execution_count": null,
   "id": "82b7bade",
   "metadata": {},
   "outputs": [],
   "source": []
  },
  {
   "cell_type": "markdown",
   "id": "d8250ad2",
   "metadata": {},
   "source": [
    "# 2. Can a lambda function in Python have multiple arguments? If yes, how can you define and use them? "
   ]
  },
  {
   "cell_type": "markdown",
   "id": "d4b783ad",
   "metadata": {},
   "source": [
    "### Answer"
   ]
  },
  {
   "cell_type": "code",
   "execution_count": null,
   "id": "8a84aac2",
   "metadata": {},
   "outputs": [],
   "source": [
    "Yes, a lambda function in Python can have multiple arguments. You can define a lambda function with multiple arguments by \n",
    "separating the arguments with commas, just like you would in a regular function.\n",
    "\n",
    "Here's an example of a lambda function that takes two arguments and returns their product:\n",
    "\n",
    "multiply = lambda x, y: x * y\n",
    "\n",
    "In this example, the lambda function takes two arguments, x and y, and returns their product.\n",
    "\n",
    "You can use a lambda function with multiple arguments in the same way as a lambda function with a single argument. \n",
    "\n",
    "For example, you can pass a lambda function with multiple arguments as an argument to the map() function to apply the \n",
    "function to a sequence of values.\n",
    "\n",
    "Here's an example of using the map() function with a lambda function that takes two arguments:\n"
   ]
  },
  {
   "cell_type": "code",
   "execution_count": 1,
   "id": "d4957fa1",
   "metadata": {},
   "outputs": [
    {
     "name": "stdout",
     "output_type": "stream",
     "text": [
      "[1, 4, 9, 16, 25]\n"
     ]
    }
   ],
   "source": [
    "numbers = [1, 2, 3, 4, 5]\n",
    "result = map(lambda x, y: x * y, numbers, numbers)\n",
    "print(list(result))  # Output: [1, 4, 9, 16, 25]"
   ]
  },
  {
   "cell_type": "markdown",
   "id": "6840ff2a",
   "metadata": {},
   "source": [
    "In this example, the map() function applies the lambda function to each element in the numbers list, multiplying each element \n",
    "by itself. \n",
    "\n",
    "The resulting list contains the squared values of the original list. \n",
    "\n",
    "So, to define a lambda function with multiple arguments, you simply separate the arguments with commas, and to use it, \n",
    "you can pass it as an argument to other functions or call it directly with its arguments.\n"
   ]
  },
  {
   "cell_type": "code",
   "execution_count": null,
   "id": "69ba8fe9",
   "metadata": {},
   "outputs": [],
   "source": []
  },
  {
   "cell_type": "markdown",
   "id": "81638c8e",
   "metadata": {},
   "source": [
    "# 3. How are lambda functions typically used in Python? Provide an example use case. "
   ]
  },
  {
   "cell_type": "markdown",
   "id": "a52b1f41",
   "metadata": {},
   "source": [
    "### Answer"
   ]
  },
  {
   "cell_type": "markdown",
   "id": "626be23e",
   "metadata": {},
   "source": [
    "* Lambda functions in Python are typically used for simple, **one-off tasks, such as filtering or transforming data.** \n",
    "\n",
    "\n",
    "* Lambda functions are often used with **higher-order functions, such as map(), filter(), and reduce(),** to apply a function to a sequence of values without the need to define a separate function.  \n",
    "\n"
   ]
  },
  {
   "cell_type": "code",
   "execution_count": null,
   "id": "cce6cec4",
   "metadata": {},
   "outputs": [],
   "source": [
    "Here's an example use case for a lambda function in Python:\n",
    "\n",
    "Suppose you have a list of numbers, and you want to filter out all the odd numbers and then apply a function to the remaining \n",
    "even numbers. You can use a lambda function with the filter() and map() functions to perform this task in a single line of code:"
   ]
  },
  {
   "cell_type": "code",
   "execution_count": 5,
   "id": "c427aab6",
   "metadata": {},
   "outputs": [
    {
     "name": "stdout",
     "output_type": "stream",
     "text": [
      "[4, 16, 36, 64, 100]\n"
     ]
    }
   ],
   "source": [
    "numbers = [1, 2, 3, 4, 5, 6, 7, 8, 9, 10]\n",
    "\n",
    "\n",
    "# Filter out odd numbers\n",
    "even_numbers = filter(lambda x: x % 2 == 0, numbers)\n",
    "\n",
    "# Apply a function to the even numbers\n",
    "result = map(lambda x: x**2, even_numbers)\n",
    "\n",
    "# Print the result\n",
    "print(list(result))  # Output: [4, 16, 36, 64, 100]\n"
   ]
  },
  {
   "cell_type": "markdown",
   "id": "8a23d93c",
   "metadata": {},
   "source": [
    "In this example, the lambda function in the filter() function filters out all the odd numbers from the numbers list, and the \n",
    "resulting even numbers are passed to the lambda function in the map() function, which squares each even number. \n",
    "The resulting list contains the squared values of the even numbers in the original list.\n",
    "\n",
    "* Lambda functions can also be used **to define custom sorting functions or key functions for sorting algorithms.** \n",
    "\n",
    "* They can also be used in **event-driven programming, such as defining callbacks or event handlers,**  where a small, \n",
    "one-off function is needed to handle a specific event.\n",
    "\n"
   ]
  },
  {
   "cell_type": "code",
   "execution_count": null,
   "id": "46b8e18f",
   "metadata": {},
   "outputs": [],
   "source": []
  },
  {
   "cell_type": "markdown",
   "id": "51843ea5",
   "metadata": {},
   "source": [
    "# 4. What are the advantages and limitations of lambda functions compared to regular functions in Python? "
   ]
  },
  {
   "cell_type": "markdown",
   "id": "de4c0f34",
   "metadata": {},
   "source": [
    "### Answer"
   ]
  },
  {
   "cell_type": "markdown",
   "id": "a1c85aec",
   "metadata": {},
   "source": [
    "**Advantages of lamda functions**\n",
    "\n",
    "\n",
    "* **Conciseness:** Lambda functions are usually more concise than regular functions, as they can be defined in a single line of\n",
    "code. They are particularly useful for simple, one-off tasks that don't require complex logic or multiple statements.\n",
    "\n",
    "\n",
    "\n",
    "* **Flexibility:** Lambda functions can be used inline in a program, which makes them more flexible than regular functions. They can be used as arguments to other functions, such as map(), filter(), and reduce(), or as part of a larger expression.\n",
    "\n",
    "\n",
    "* **Readability:** Lambda functions can make code more readable by reducing the need for additional named functions and making the code more compact and focused."
   ]
  },
  {
   "cell_type": "markdown",
   "id": "dc359f8a",
   "metadata": {},
   "source": [
    "**Limitations of lambda functions:**\n",
    "\n",
    "* **Limited expressiveness:** Lambda functions are limited to a single expression and cannot contain multiple statements or complex logic. This can make them less expressive than regular functions for more complex tasks.\n",
    "\n",
    "\n",
    "* **Lack of reusability:** Lambda functions are anonymous and cannot be reused in other parts of the program. This can make them less useful for tasks that require the same function to be called multiple times.\n",
    "\n",
    "\n",
    "* **Debugging:** Lambda functions can make debugging more difficult, as they do not have a name or a separate code block that can be easily referenced or debugged.\n"
   ]
  },
  {
   "cell_type": "code",
   "execution_count": null,
   "id": "41d3a298",
   "metadata": {},
   "outputs": [],
   "source": []
  },
  {
   "cell_type": "markdown",
   "id": "6d4b3b5c",
   "metadata": {},
   "source": [
    "# 5. Are lambda functions in Python able to access variables defined outside of their own scope? Explain with an example. "
   ]
  },
  {
   "cell_type": "markdown",
   "id": "46ca174e",
   "metadata": {},
   "source": [
    "### Answer"
   ]
  },
  {
   "cell_type": "markdown",
   "id": "79ef3e23",
   "metadata": {},
   "source": [
    "Yes, lambda functions in Python can access variables defined outside of their own scope, but the behavior may not always be \n",
    "intuitive or expected. \n",
    "\n",
    "When a lambda function accesses a variable outside of its own scope, **it is actually accessing the value of the variable \n",
    "at the time the lambda function is executed, not the value at the time the lambda function is defined.**\n",
    "\n",
    "Here's an example to illustrate this behavior:\n",
    "\n"
   ]
  },
  {
   "cell_type": "code",
   "execution_count": null,
   "id": "c860d8b7",
   "metadata": {},
   "outputs": [],
   "source": [
    "def make_incrementor(n):\n",
    "    return lambda x: x + n\n",
    "\n",
    "increment_by_3 = make_incrementor(3)\n",
    "\n",
    "print(increment_by_3(5))  # Output: 8\n",
    "\n",
    "n = 10\n",
    "print(increment_by_3(5))  # Output: 8\n",
    "\n"
   ]
  },
  {
   "cell_type": "markdown",
   "id": "23dcbfe9",
   "metadata": {},
   "source": [
    "In this example, the make_incrementor() function returns a lambda function that increments its argument by n. \n",
    "\n",
    "The variable n is defined in the scope of the make_incrementor() function, but the lambda function created by make_incrementor() \n",
    "can still access it.\n",
    "\n",
    "In the first call to increment_by_3(5), the lambda function adds 3 to its argument, resulting in a return value of 8. \n",
    "\n",
    "In the second call to increment_by_3(5), the value of n has been changed to 10, but the lambda function still adds 3 to its \n",
    "argument, resulting in a return value of 8, not 13.\n",
    "\n",
    "\n",
    "This behavior can be useful in some cases, but it can also lead to unexpected results if the lambda function is not aware of \n",
    "changes to the variables it accesses. \n",
    "\n",
    "To avoid this type of issue, you can pass the necessary variables as arguments to the lambda function, rather than \n",
    "accessing them from the outer scope.\n",
    "\n"
   ]
  },
  {
   "cell_type": "code",
   "execution_count": null,
   "id": "efbad46c",
   "metadata": {},
   "outputs": [],
   "source": []
  },
  {
   "cell_type": "markdown",
   "id": "f3fd905f",
   "metadata": {},
   "source": [
    "# 6. Write a lambda function to calculate the square of a given number. "
   ]
  },
  {
   "cell_type": "markdown",
   "id": "596a5989",
   "metadata": {},
   "source": [
    "### Answer"
   ]
  },
  {
   "cell_type": "code",
   "execution_count": null,
   "id": "c2acf8a1",
   "metadata": {},
   "outputs": [],
   "source": [
    "Here's an example of a lambda function that calculates the square of a given number:"
   ]
  },
  {
   "cell_type": "code",
   "execution_count": 6,
   "id": "15572e26",
   "metadata": {},
   "outputs": [
    {
     "name": "stdout",
     "output_type": "stream",
     "text": [
      "25\n"
     ]
    }
   ],
   "source": [
    "square = lambda x: x**2\n",
    "result = square(5)\n",
    "print(result)  # Output: 25"
   ]
  },
  {
   "cell_type": "code",
   "execution_count": null,
   "id": "5188e454",
   "metadata": {},
   "outputs": [],
   "source": []
  },
  {
   "cell_type": "markdown",
   "id": "8fe064e6",
   "metadata": {},
   "source": [
    "# 7. Create a lambda function to find the maximum value in a list of integers."
   ]
  },
  {
   "cell_type": "markdown",
   "id": "3d5a2e5c",
   "metadata": {},
   "source": [
    "### Answer"
   ]
  },
  {
   "cell_type": "code",
   "execution_count": 9,
   "id": "6f259db3",
   "metadata": {},
   "outputs": [
    {
     "name": "stdout",
     "output_type": "stream",
     "text": [
      "10\n"
     ]
    }
   ],
   "source": [
    "my_list = [1, 2, 3, 4, 5, 6, 7, 8, 9, 10]\n",
    "\n",
    "max_value = lambda lst: max(lst)\n",
    "\n",
    "print(max_value(my_list))"
   ]
  },
  {
   "cell_type": "code",
   "execution_count": null,
   "id": "ae7f453a",
   "metadata": {},
   "outputs": [],
   "source": []
  },
  {
   "cell_type": "markdown",
   "id": "19f4d540",
   "metadata": {},
   "source": [
    "# 8. Implement a lambda function to filter out all the even numbers from a list of integers."
   ]
  },
  {
   "cell_type": "markdown",
   "id": "3774a9fb",
   "metadata": {},
   "source": [
    "### Answer"
   ]
  },
  {
   "cell_type": "markdown",
   "id": "d22a79ff",
   "metadata": {},
   "source": [
    " here's an example of a lambda function that filters out all the even numbers from a list of integers:"
   ]
  },
  {
   "cell_type": "code",
   "execution_count": 11,
   "id": "fe085326",
   "metadata": {},
   "outputs": [
    {
     "name": "stdout",
     "output_type": "stream",
     "text": [
      "[1, 3, 5, 7, 9]\n"
     ]
    }
   ],
   "source": [
    "lst = [1, 2, 3, 4, 5, 6, 7, 8, 9, 10]\n",
    "\n",
    "filtered_lst = list(filter(lambda x: x % 2 != 0, lst))\n",
    "\n",
    "print(filtered_lst)  # Output: [1, 3, 5, 7, 9]\n"
   ]
  },
  {
   "cell_type": "code",
   "execution_count": null,
   "id": "15957396",
   "metadata": {},
   "outputs": [],
   "source": []
  },
  {
   "cell_type": "markdown",
   "id": "1e1fc4b5",
   "metadata": {},
   "source": [
    "# 9. Write a lambda function to sort a list of strings in ascending order based on the length of each string.\n",
    "\n"
   ]
  },
  {
   "cell_type": "markdown",
   "id": "7862636b",
   "metadata": {},
   "source": [
    "### Answer"
   ]
  },
  {
   "cell_type": "code",
   "execution_count": 13,
   "id": "233da25b",
   "metadata": {},
   "outputs": [
    {
     "name": "stdout",
     "output_type": "stream",
     "text": [
      "['date', 'apple', 'banana', 'cherry', 'elderberry']\n"
     ]
    }
   ],
   "source": [
    "\n",
    "lst = [\"apple\", \"banana\", \"cherry\", \"date\", \"elderberry\"]\n",
    "\n",
    "sorted_lst = sorted(lst, key=lambda x: len(x))\n",
    "\n",
    "print(sorted_lst)  \n"
   ]
  },
  {
   "cell_type": "code",
   "execution_count": null,
   "id": "57fb4abe",
   "metadata": {},
   "outputs": [],
   "source": []
  },
  {
   "cell_type": "markdown",
   "id": "9b8cd7a4",
   "metadata": {},
   "source": [
    "# 10. Create a lambda function that takes two lists as input and returns a new list containing the common elements  between the two lists. "
   ]
  },
  {
   "cell_type": "code",
   "execution_count": 14,
   "id": "aa857c89",
   "metadata": {},
   "outputs": [
    {
     "name": "stdout",
     "output_type": "stream",
     "text": [
      "[3, 4, 5]\n"
     ]
    }
   ],
   "source": [
    "lst1 = [1, 2, 3, 4, 5]\n",
    "lst2 = [3, 4, 5, 6, 7]\n",
    "\n",
    "common_elements = list(filter(lambda x: x in lst1, lst2))\n",
    "\n",
    "print(common_elements) \n"
   ]
  },
  {
   "cell_type": "code",
   "execution_count": null,
   "id": "d6bd3df3",
   "metadata": {},
   "outputs": [],
   "source": []
  },
  {
   "cell_type": "markdown",
   "id": "af414f0a",
   "metadata": {},
   "source": [
    "# 11. Write a recursive function to calculate the factorial of a given positive integer. "
   ]
  },
  {
   "cell_type": "markdown",
   "id": "1d21532d",
   "metadata": {},
   "source": [
    "### Answer"
   ]
  },
  {
   "cell_type": "code",
   "execution_count": 18,
   "id": "079ce44f",
   "metadata": {},
   "outputs": [],
   "source": [
    "def factorial(n):\n",
    "    if n == 0 or n == 1:\n",
    "        return 1\n",
    "    else:\n",
    "        return n * factorial(n-1)"
   ]
  },
  {
   "cell_type": "code",
   "execution_count": 19,
   "id": "1135627e",
   "metadata": {},
   "outputs": [
    {
     "data": {
      "text/plain": [
       "120"
      ]
     },
     "execution_count": 19,
     "metadata": {},
     "output_type": "execute_result"
    }
   ],
   "source": [
    "factorial(5)"
   ]
  },
  {
   "cell_type": "code",
   "execution_count": null,
   "id": "b9ecd301",
   "metadata": {},
   "outputs": [],
   "source": []
  },
  {
   "cell_type": "markdown",
   "id": "afc3f0ae",
   "metadata": {},
   "source": [
    "# 12. Implement a recursive function to compute the nth Fibonacci number. \n",
    "\n",
    "\n",
    "\n"
   ]
  },
  {
   "cell_type": "markdown",
   "id": "b5b293ba",
   "metadata": {},
   "source": [
    "### Answer"
   ]
  },
  {
   "cell_type": "code",
   "execution_count": 20,
   "id": "35314862",
   "metadata": {},
   "outputs": [],
   "source": [
    "def fibonacci(n):\n",
    "    if n <= 1:\n",
    "        return n\n",
    "    else:\n",
    "        return fibonacci(n-1) + fibonacci(n-2)"
   ]
  },
  {
   "cell_type": "code",
   "execution_count": 21,
   "id": "13f1810b",
   "metadata": {},
   "outputs": [
    {
     "data": {
      "text/plain": [
       "8"
      ]
     },
     "execution_count": 21,
     "metadata": {},
     "output_type": "execute_result"
    }
   ],
   "source": [
    "fibonacci(6)"
   ]
  },
  {
   "cell_type": "code",
   "execution_count": null,
   "id": "b041771e",
   "metadata": {},
   "outputs": [],
   "source": []
  },
  {
   "cell_type": "markdown",
   "id": "c59a7bf8",
   "metadata": {},
   "source": [
    "# 13. Create a recursive function to find the sum of all the elements in a given list. "
   ]
  },
  {
   "cell_type": "markdown",
   "id": "7a0a7217",
   "metadata": {},
   "source": [
    "### Answer"
   ]
  },
  {
   "cell_type": "code",
   "execution_count": 24,
   "id": "30d3d307",
   "metadata": {},
   "outputs": [],
   "source": [
    "def recursive_sum(lst):\n",
    "    if len(lst) == 1:\n",
    "        return lst[0]\n",
    "    else:\n",
    "        return lst[0] + sum_list(lst[1:])\n"
   ]
  },
  {
   "cell_type": "code",
   "execution_count": 25,
   "id": "a3e7edb9",
   "metadata": {},
   "outputs": [
    {
     "name": "stdout",
     "output_type": "stream",
     "text": [
      "15\n"
     ]
    }
   ],
   "source": [
    "my_list = [1, 2, 3, 4, 5]\n",
    "print(recursive_sum(my_list))"
   ]
  },
  {
   "cell_type": "code",
   "execution_count": null,
   "id": "b3e588fa",
   "metadata": {},
   "outputs": [],
   "source": []
  },
  {
   "cell_type": "markdown",
   "id": "cc3d7bf4",
   "metadata": {},
   "source": [
    "# 14. Write a recursive function to determine whether a given string is a palindrome. "
   ]
  },
  {
   "cell_type": "markdown",
   "id": "fb6e8708",
   "metadata": {},
   "source": [
    "### Answer"
   ]
  },
  {
   "cell_type": "code",
   "execution_count": 26,
   "id": "8909526c",
   "metadata": {},
   "outputs": [],
   "source": [
    "def is_palindrome(s):\n",
    "    if len(s) <= 1:\n",
    "        return True\n",
    "    else:\n",
    "        if s[0] == s[-1]:\n",
    "            return is_palindrome(s[1:-1])\n",
    "        else:\n",
    "            return False"
   ]
  },
  {
   "cell_type": "code",
   "execution_count": 27,
   "id": "b53a1748",
   "metadata": {},
   "outputs": [
    {
     "name": "stdout",
     "output_type": "stream",
     "text": [
      "True\n"
     ]
    }
   ],
   "source": [
    "my_string = \"racecar\"\n",
    "print(is_palindrome(my_string))"
   ]
  },
  {
   "cell_type": "code",
   "execution_count": null,
   "id": "4f573bbb",
   "metadata": {},
   "outputs": [],
   "source": []
  },
  {
   "cell_type": "markdown",
   "id": "6d0e4ee4",
   "metadata": {},
   "source": [
    "# 15. Implement a recursive function to find the greatest common divisor (GCD) of two positive integers"
   ]
  },
  {
   "cell_type": "markdown",
   "id": "5b6ebd77",
   "metadata": {},
   "source": [
    "### Answer"
   ]
  },
  {
   "cell_type": "code",
   "execution_count": 28,
   "id": "e8e64058",
   "metadata": {},
   "outputs": [],
   "source": [
    "def gcd(a, b):\n",
    "    if b == 0:\n",
    "        return a\n",
    "    else:\n",
    "        return gcd(b, a % b)"
   ]
  },
  {
   "cell_type": "code",
   "execution_count": 29,
   "id": "772d0d00",
   "metadata": {},
   "outputs": [
    {
     "name": "stdout",
     "output_type": "stream",
     "text": [
      "6\n"
     ]
    }
   ],
   "source": [
    "num1 = 84\n",
    "num2 = 18\n",
    "print(gcd(num1, num2))"
   ]
  },
  {
   "cell_type": "code",
   "execution_count": null,
   "id": "94683417",
   "metadata": {},
   "outputs": [],
   "source": []
  }
 ],
 "metadata": {
  "kernelspec": {
   "display_name": "Python 3 (ipykernel)",
   "language": "python",
   "name": "python3"
  },
  "language_info": {
   "codemirror_mode": {
    "name": "ipython",
    "version": 3
   },
   "file_extension": ".py",
   "mimetype": "text/x-python",
   "name": "python",
   "nbconvert_exporter": "python",
   "pygments_lexer": "ipython3",
   "version": "3.10.9"
  }
 },
 "nbformat": 4,
 "nbformat_minor": 5
}
